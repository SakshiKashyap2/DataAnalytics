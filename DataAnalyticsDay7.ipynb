{
  "nbformat": 4,
  "nbformat_minor": 0,
  "metadata": {
    "colab": {
      "provenance": [],
      "authorship_tag": "ABX9TyPC2/SY4TehfZHXjuTgvLZR",
      "include_colab_link": true
    },
    "kernelspec": {
      "name": "python3",
      "display_name": "Python 3"
    },
    "language_info": {
      "name": "python"
    }
  },
  "cells": [
    {
      "cell_type": "markdown",
      "metadata": {
        "id": "view-in-github",
        "colab_type": "text"
      },
      "source": [
        "<a href=\"https://colab.research.google.com/github/HarshrajSharma/DataAnalytics/blob/main/DataAnalyticsDay7.ipynb\" target=\"_parent\"><img src=\"https://colab.research.google.com/assets/colab-badge.svg\" alt=\"Open In Colab\"/></a>"
      ]
    },
    {
      "cell_type": "markdown",
      "source": [
        "Blob(Binary large object) is a data type for storing large files like images videos large text files "
      ],
      "metadata": {
        "id": "BHfTfk8buukZ"
      }
    },
    {
      "cell_type": "markdown",
      "source": [
        "Table Preview:\n",
        "\n",
        "Column => Data Type\n",
        "Id => Int\n",
        "Name => Varchar\n",
        "Photo => Blob\n",
        "Resume => Blob\n"
      ],
      "metadata": {
        "id": "l376tRACv_V-"
      }
    },
    {
      "cell_type": "code",
      "source": [
        "import sqlite3\n",
        "\n",
        "def convertToBinary(fileName):\n",
        "  #Convert digital data to binary\n",
        "\n",
        "  #Using 'with' the file is automatically closed\n",
        "  with open(fileName, 'rb') as file: \n",
        "    blobData=file.read()\n",
        "    return blobData\n",
        "\n",
        "def insertBlob(empId, name, photo, resumeFile):\n",
        "  conn=sqlite3.connect('EmployeeDatabase.db')\n",
        "  print('Database Connected!')\n",
        "  curr=conn.cursor()\n",
        "  curr.execute('create table newEMP(Id int primary key, Name varchar2(20) NOT NULL, Photo blob NOT NULL, Resume blob NOT NULL)')\n",
        "  z='insert into newEMP(id, name, photo, resume) values(?,?,?,?)'\n",
        "  empPhoto=convertToBinary(photo)\n",
        "  empResume=convertToBinary(resumeFile)\n",
        "  dataTuple=(empId, name, empPhoto, empResume)\n",
        "  curr.execute(z, dataTuple)\n",
        "  conn.commit()\n",
        "  curr.close()\n",
        "\n",
        "insertBlob(1, 'images', '/content/images.jpeg', '/content/sample.pdf')\n",
        "  "
      ],
      "metadata": {
        "colab": {
          "base_uri": "https://localhost:8080/"
        },
        "id": "LKx3RGRBv-86",
        "outputId": "fd919774-96af-40dd-9c36-dede4bab58a0"
      },
      "execution_count": null,
      "outputs": [
        {
          "output_type": "stream",
          "name": "stdout",
          "text": [
            "Database Connected!\n",
            "[(1, 'images', b'\\xff\\xd8\\xff\\xe0\\x00\\x10JFIF\\x00\\x01\\x01\\x00\\x00\\x01\\x00\\x01\\x00\\x00\\xff\\xdb\\x00\\x84\\x00\\t\\x06\\x07\\x08\\x07\\x06\\t\\x08\\x07\\x08\\n\\n\\t\\x0b\\r\\x16\\x0f\\r\\x0c\\x0c\\r\\x1b\\x14\\x15\\x10\\x16 \\x1d\"\" \\x1d\\x1f\\x1f$(4,$&1\\'\\x1f\\x1f-=-157:::#+?D?8C49:7\\x01\\n\\n\\n\\r\\x0c\\r\\x1a\\x0f\\x0f\\x1a7%\\x1f%77777777777777777777777777777777777777777777777777\\xff\\xc0\\x00\\x11\\x08\\x00\\x81\\x00\\xc2\\x03\\x01\\x11\\x00\\x02\\x11\\x01\\x03\\x11\\x01\\xff\\xc4\\x00\\x1c\\x00\\x00\\x03\\x01\\x01\\x01\\x01\\x01\\x01\\x00\\x00\\x00\\x00\\x00\\x00\\x00\\x00\\x00\\x02\\x03\\x01\\x04\\x05\\x06\\x08\\x07\\xff\\xc4\\x00@\\x10\\x00\\x01\\x03\\x02\\x03\\x02\\x0b\\x02\\x0b\\t\\x01\\x00\\x00\\x00\\x00\\x00\\x01\\x00\\x02\\x03\\x04\\x11\\x05\\x12!1Q\\x06\\x13\\x14\"2Aaq\\x81\\x91\\xa1B\\xb1CRSTbr\\x82\\x92\\x93\\xd1\\xe1\\x07\\x15\\x16#34Dc\\xc1%\\xff\\xc4\\x00\\x1a\\x01\\x01\\x01\\x01\\x01\\x01\\x01\\x01\\x00\\x00\\x00\\x00\\x00\\x00\\x00\\x00\\x00\\x00\\x01\\x02\\x03\\x04\\x05\\x06\\xff\\xc4\\x00-\\x11\\x00\\x02\\x01\\x03\\x04\\x02\\x02\\x02\\x01\\x04\\x02\\x03\\x00\\x00\\x00\\x00\\x00\\x01\\x02\\x03\\x11\\x12\\x04\\x131A!Q\\x14Ra\\x91B\\x05\"2\\xa1\\xb1\\xd1\\x15q\\x81\\xff\\xda\\x00\\x0c\\x03\\x01\\x00\\x02\\x11\\x03\\x11\\x00?\\x00\\xf7\\x1a\\x02\\xe8s\\xb0\\xf9R\\xe2\\xc6\\xe5K\\x8b\\x00\\x08[\\x1b\\x95B\\xd82\\xa1B\\xc8\\x02\\xc8d,\\xa9\\x03*\\x8d\\x9bD\\xdf\\x19;\\x16N\\x8a\\xdd\\x9c\\x93S\\xbc\\x9d\\xea\\x1b\\xba9\\x9dNog5Ci\\xa2r\\xc4\\xd6\\x0b\\xecXl\\xed\\x14\\xd9\\xc70;F\\x96X\\xc8\\xf4*vG8\\xceN\\x87D\\xc8`V8\\xc5\\xeeV\\x1dD\\x8e\\xd1\\xa2\\xd9G\\x02\\xee\\x8bJ\\xe6\\xea6t\\x8d\\x18\\xc4\\x1b\\x1b\\xb7\\xd8\\xa9sX\\xa3LV\\xda\\xeb\\xf6+tf\\xcc\\xd6\\xc6\\x07E\\xa5\\\\\\x91\\x97\\x06PG)\\xd8\\x00W2m\\xa04\\xafv\\xd2S!\\x82\\x01E\\xbc)v-\\x10\\xe4GqV\\xec\\x9e\\x0fi\\xb2F\\x05\\xdc\\xefU\\xee\\xba>\\x0b\\x8b\\x15\\xd5\\x91\\x8d\\x9e\\xa9rb\\xc8M\\x8aE\\x1e\\xd7\\x0e\\xed\\xaa\\xdc\\xb8\\x908\\xc9=\\x06\\x17z \\xb1\\xa3\\x16\\x93\\xe4}Tl\\xb8\\x94n%;\\xc5\\xc4@\\x0e\\xf5.\\x8b\\x8b\\x18W\\xbct\\xc0\\n\\xdc\\x96,\\xca\\xf6\\x1d\\xb7T\\x96*+#\\xb7\\xb4|\\x14\\xb9,;*\\x1a\\xefd\\xa5\\xcdbY\\xa4;`R\\xe8b\\xc4\\x95\\xcd`\\xd5bRH\\xefN\\x93\\x91\\xc34\\xbdm\\x17\\x1b\\xd7\\x17T\\xf6CJ\\xceg\\xb67\\xd8\\xb9\\xc4\\xae\\x12\\x95\\xcfl!\\x8a\\xb5\\x8eyc.<\\xd1\\xa2\\xc3\\x9d\\x8e\\xd1\\xa6\\xdfB2\\x95\\xdd\\xfe\\x0b.\\xa1\\xd1RH\\xbb)\\x1d\\xf1J\\x99\\xdc\\xd6\\r\\x15m\\x1b\\xcf`V\\xed\\x98v*\\xda\\x16\\xfb[UI\\xb3\\x0eQC\\xb6\\x8a=\\xc1iA\\x9c\\xddd\\xba*\\xda6\\x8d\\x80.\\x8a\\x91\\xcaz\\x95b\\x82\\x9c\\x01\\xb1tT\\xd2<\\xb2\\xd5~L0+\\xb6g\\xe4/f\\x08;\\x95Ph\\x8e\\xb4L\\xe2\\x06\\xe5qd\\xdd\\x89\\xe5\\xbe\\x07\\xed\\x04\\x9e\\xe5\\x9c\\xcd\\xba7\\x14\\xc3\\x9bS{\\xeeZU\\x0c:\\x07\\x15S$\\x07\\x98\\xd0\\x15\\xdc2\\xb4\\xfe\\xce\\'\\xc1T\\xd7\\x07kn\\xc5\\xac\\xc8\\xe8\\xa0s\\xe6\\xd8C\\xb3,JL\\xf4S\\x84S\\xf0\\x8b6\\x1a\\x97\\xb4\\x19\\x1e\\x1a\\xcd\\xe5p\\xdcI\\xf8={9/6+N^\\xc7\\xdc4\\x91\\xdaWE){<\\xd3\\xa7M\\xf8\\xc4\\xec\\xe5\\x01\\xbbXo\\xba\\xe1tU\\x1fg\\x9ezt\\xff\\x00\\xc5\\x0f\\x1dI.\\x1c\\xd2\\x07QQ\\xd7\\x89V\\x86gdr\\x92\\xf0\\xdb\\x85\\x89WGh\\xe8<\\xf9Gs\\x1c\\xec\\xb6\\x0e\\xf4^Y\\xd7~\\xcf}=$\"\\xb81\\xf1\\x97t\\x89=\\xeb\\x93\\xac\\xd9\\xe8\\x8d\\x08G\\x82f\\x9d\\xb7\\xe7\\x12\\xee\\xc5\\x9d\\xc6t\\xdbC\\xb2\\x90?F\\xb2\\xc9y>\\x05\\xa1\\x0f,\\xbbp\\xf1\\xd7e\\xb5FG9j\\xe1\\x12\\xad\\xa4kE\\x83}\\x16\\xb6\\x94y9\\xfc\\x97?\\xf14Sj\\x8a7\\xe0\\xcc\\xaa\\xa5\\xcb4\\xd3\\r\\xd6]T\\x19\\xe7u\\xbd\\x93u6\\xba\\x15\\xd5R\\x91\\xe7\\x96\\xae+\\xc06\\x9c\\x03\\xae\\xabJ\\x95\\x8eS\\xd5e\\xc0\\xfcX\\x03F\\xae\\x89$qs\\x93\\xe02\\x1d\\xc8\\xd8\\x8c/\\xcb\\x15\\xcc=vQd\\xf8,\\xb6\\xe3\\xc8\\x85\\x87\\xa8\\x05\\xbb3\\x93\\x9czFY\\xdd\\x89bfs6\"4u\\x81^\\x17+\\x1feSO\\x83y0\\'R\\xa6L\\xdd\\x97HaG\\x19\\xda\\xdb\\xa6I\\x0c[\\xe8G\\xd37``GX-+~Y\\x03Gwh\\xd5\\xceUnw\\x85\\x05\\x11N\\x1f#\\x8d\\xc9\\xb0\\xecX\\xdcgUN=\\x88p\\xe74\\x1b\\xea\\xaa\\x93#\\x8cWD\\xc5\\x1b\\x9a@.\\x04nY\\x94\\x8d\\xd3\\x8d\\xfc\\x97\\x86\\x99\\xaeu\\x84Dz,y|\\x1d\\x1e+\\xcb=\\nz63\\x9d\\xa0\\xf1\\xba\\xda\\xa57\\xc9\\xe7\\x96\\xa6\\x9a\\xf0\\x8e\\xc6@\\xd2\\x06\\xa5uT\\x19\\xc1\\xea\\xe3r\\x9c\\x99\\x9d\\xaa\\xaaI?(\\xcb\\xd4\\xbe\\x9a4S\\xb5\\xbd\\x16\\x05\\xda4\\xe0\\xba<\\x92\\xd4\\xd4\\x97e\\x1b\\x1d\\x86\\x80\\x05\\xb5\\x8a\\xe0\\xe4\\xdc\\xe5\\xcb\\x0c\\xab~Y\\xc9\\xe2\\xbb\\x0bY\\\\L\\xba\\xbd\\\\R\\xad\\x8cn>\\x93\\x15\\xcbI$s\\x94\\xa4\\xf9\\x16\\xcbG3,\\x82\\xe1e,\\\\\\x8c\\xb2\\xb6A\\xcd\\xb32*f\\xe6eAs2 \\xb9\\x91\\xd1\\xe5\\x17\\xcaGy\\xb9^%H\\xfa\\xd2\\xd6$1\\x8c7\\xe0^\\xef\\xaa\\xae\\xca2\\xb5\\xaf\\xa4V&4\\x81x\\x9e\\xdf\\xac\\xa6\\xc4K\\xf3\\xa6S\\x89\\x8f\\xe4\\xca\\xcb\\xa2\\x8e\\xb1\\xd6\\xbe\\xd9\\x86\\x16\\r\\x8d\\xb2\\xce\\xc37\\xf3\\xa3\\xdb3\\x8a=M\\x04-*\\'9kb\\x0f\\xa7k\\x85\\xac.\\xab\\xa4f:\\xd5\\xc3&)\\x1a\\xdd\\x91\\xb7\\xc5\\x15/ez\\xc5\\xd3\\x18R\\xb3i\\xb0?Eko\\xf0sz\\xab\\xf2\\xc6e3#\\x1c\\xd0M\\xd5T\\xdff%\\xaaO\\x8f\\x06\\x97\\x06?.Gw\\xd8\\xae\\x8a\\xc8\\xf3\\xcaN^nX-\\x1c\\xf2ac}N\\x8a[\\xc9\\xb5Q\\xd8\\xcc\\xaa\\xdd#>[\\xf2\\xc3*\\x8aM\\x96QK\\x8f&Y_\\x06n\\xcc![\\x91\\xdd\\x8aZ\\x97%\\x99\\x99\\x15\\xb9\\x03\"\\\\\\x96\\x17\\'m\\xd2\\xe02\\xabr\\x06T\\xb82\\xc1.\\x03*\\x14\\x80\\x86F\\xbb\\xfb\\x89\\xbb\\x85\\xc8^{\\xb3\\xd6\\xb1\\xfa\\x9dQH\\xc3\\xcd%\\xf7\\xedm\\x96rM\\xf2i\\xd3\\x92W\\xc0\\xae\\x8e\\xd08w]j\\xff\\x00\\x93\\x8f\\xfe\\xd1\\xa1\\x87yV\\xe3\\xc0\\xc0\\x10\\xad\\xcc\\xd8W\\xb5\\xc7F\\xbb/\\x82\\xcb~\\x8d\\xc1/W\\x0ep\\x16\"\\xf6\\xeb\\xba\\xcb\\x9bGeG.<\\x06`O8s\\x8e\\xe4\\xdcA\\xe9\\xa7\\xd7\\x03\\x0bnWq\\x13\\xe3L\\xd3\\xa0Sq\\x15i\\x98\\xb7\\xb6\\xd0\\x02n\\x9aZe\\xdb%$\\xc0tHYu\\xactZD\\xf83\\x8cy\\xe8\\x8b\\xa9\\xbc_\\x86\\xbb*\\xc1!\\xe9\\x00\\x16\\x94\\xe4\\xccJ\\x8d(r\\xcae[W\\xec\\xf3\\xceK\\xf8\\x99e\\xa3\\x93\\xb8\\xa4+ry\\x14\\xdb\\xae\\xe3\\xc1.K1K\\xd86\\x9b&F\\x94\\x1f\\xa2N\\xaa\\x85\\xbb^\\x1346\\xa5\\xe8\\xe5\\x97\\x15\\xa6\\x8c\\x12H\\xd1[\\x8d\\xa6y\\xb3c\\xb2Kv\\xd2\\xc2\\xf1c\\xd2#j\\xd5\\xc9\\x839\\xdb\\x89\\xd5\\xb9\\xc7Yo\\xd6\\x01\\x07\\xfe*G\\x1b\\x0f\\x05N1+\\x9d\\x93+Zv\\x17\\x9b\\xa5\\xd1,S\\x8b\\xc6\\xfeu\\x1f\\x98K\\xa36>\\xa6\\xcb\\xcds\\xad\\x82\\xcadh\\xdb\\x01\\xd4\\x97\\x1eCD\\xb8\\xb1\\xba%\\xc19g\\x8a\\x06\\xdeW\\x86\\xee\\xedQ\\xd9\\x9b\\x8b\\x9fDb\\xael\\xae\\xb4pJF\\xf2\\x00Xj\\'\\xa6\\x1b\\xaf\\xb3\\xa2\\xcdv\\xb9l\\xb1\\x85\\xf8:*\\xce>$\\x1c^\\xe3\\xe6\\xa6\\x125\\xf2\\xa0a\\x836\\xd7\\x10\\x9br\\xf6>\\\\\\x10\\x9c\\x91\\xa4\\xea\\xf2QS\\x97\\xb2\\xfc\\xd8\\xdb\\xc2*\\xc8\"gE\\xbek{h\\xe1=\\\\\\xdf\\x03\\x81\\xb9tVG\\x9eS\\x9c\\xb9fY\\\\\\x8c(\\x85\\x93#[LWh\\xb2\\xea\\x1d!\\xa7\\x94\\x89>B\\x06\\x8d\\xbfj\\xc3\\xa9s\\xd1\\x1d*\\\\\\x9c\\x92\\x19\\t\\xbd\\xf2\\x8d\\xe9\\x9b6\\xe9\\xd3]\\x91p\\'B\\xf7\\x15\\xab\\xb3\\x9c\\xb1\\\\\"32\\x06\\x90$xi;\\x05\\xaeV\\xd1\\xc6Sl\\x05%-\\x83\\x89\\'_\\x93ZL\\xe6\\xe6\\xc5\\x91\\xf4Q\\xb4\\x87\\xc9\\x15\\xce\\x96\\xb1ZF\\x1bg,\\xd8\\xb4\\x11\\x8c\\xb1> G_\\x15q\\xefZF,\\xcf6\\xaf\\x1e\\x92F\\x962F\\x0e\\xd0\\xc5\\xab\\x0cY\\xc3\\xfb\\xd6\\xb3\\xe5\\x8f\\xe0\\x8f\\xc9_\\xed\\x18\\xb3\\xef\\x1b_\\x1d\\xae\\xe7\\xb3\\xcdxnz\\xb6X\\xc2\\xbe\\x0f\\x8e\\x14\\xb9U\\x06\\xccut@\\x1c\\xa6\\xeaf\\x8e\\x8bM7\\xd1\\xce\\xfa\\xb7\\x1b\\xdd\\xafwp\\xb2f\\x8d\\xfcYz\"kj\\xc1\\xb4t\\xe7\\xbd\\xc4\\x95\\xa5$G\\xa7k\\xa1\\xa1\\x8eI\\xe4\\xcfU\\x98\\x91\\xb2\\xe4h\\xa3\\x91\\xa5M#\\xd4\\x8cE\\x18\\x16u\\xbb\\xd6r2\\xe0\\xd8\\xf9\\xdav\\x1f$\\xc8\\xe6\\xe9\\x0c\\x01\\xdd\\xea\\xaed\\xd96\\xe0m)\\x99U\\x03[\\xae\\xc4\\xc8\\x8e\\x8f\\xe4\\xdb&D\\xdbF+\\x93&\\x11\\x0e\\xa4\\xc8c\\x12os\\x9b\\xd1\\x00\\xa5\\xcd%\\x12\\x0f3\\xbfe\\x80Q\\xd9\\x9dc7\\x1e\\x10\\xack\\xc6\\xdb\\xb8\\xf7\\x04V4\\xeaNCs\\x8e\\x8db]\\x1c\\xec\\xd7$\\xa5\\x86B6\\x81\\xae\\xe5nW\\xc7\\x073\\xafH\\xd7\\x16\\xc5\\x1d\\x89\\xb9q\\xda\\xb5\\x9a1\\xb3)\\x1e]f&KHk\\x98>\\xaa\\xaaF\\xbe;]\\x1e\\x15ENg\\xe6\\xc8_\\xe6\\x17T\\xd7\\xb3.\\x0f\\xa4 \\x96\\x178g\\x81\\xcd\\x1dyB\\xd5\\xd7\\xb3\\x1bs\\xf4u6jF\\x0ehw\\x8b\\x14\\xb96\\xaaz\\x1b\\x96E\\xfe\\xcf\\xba\\xa5\\xc6\\xddOG\\xad\\xc9\\x00\\xd9N\\xe7\\x0e\\xc7/\\x99\\x9b\\xf6~\\x81\\xc6\\x0b\\x843\\x1a\\x1au\\xa4\\x96\\xdd\\x96?\\xf5/~\\xc7\\x1c#\\xba\\x99\\xb0\\xc9m\\x0b\\x0e\\xe7\\x0b\\x15<{1)Mtw6\\x9a;t\\x8f\\x82\\xd7\\x83\\x83\\xa9/Cq1\\x8fi\\xdeit\\x8c\\xb9\\xc9\\x88D#h\\'\\xbc\\xab\\x9aD\\xc2o\\xb1\\x84\\x91\\r\\x03\\x02\\x9b\\x88\\x9bR\\xf67)kv\\x00\\x07`M\\xc4]\\xa6g+\\x8c\\xe8\\\\U\\xcd\\x1a\\xd9\\x91\\xbc\\xa2&u\\x84\\xcd\\x13nL\\xd3Z-\\xccar\\xce\\xe16=\\xb39sCNcc\\xd4\\x02\\xd6e\\xd8w\\xf0,U`7\\x9eu\\xecSq\\x16T|\\xf8C\\xba\\xa9\\xa4ir\\x9b\\x88\\xca\\xa2\\'\\x1eORn\\x1a\\xdaA\\xca-m\\tM\\xd46\\xae#\\xaa\\xc3A\\x19\\x1e\\xe3\\xe8\\x13q\\x1aTnBZ\\xf7\\x90G\\x12\\xef;&\\xe26\\xb4\\xfe\\x99\\xc0\\xea\\xd9\\xd8\\t\\x101\\xa7yy[S\\x89\\x1e\\x9e\\xa3\\xfeG\\x9dS\\x8cH\\xd2o\\x1cb\\xfbH:\\x9fE\\xd1F,\\xe4\\xd5Hvy\\xb3b.y\\xe6\\xb1\\xad\\xef}\\xd7EN%\\xdc\\xa9\\xec\\x93f\\xa8v\\xb7\\x8b\\xef~\\xaa8\\xc5\\x1d\\x14\\xaa?C\\x0eP\\xfe\\xb6\\xf8\\x15\\x8b\\xc1\\x1a\\xc6l94\\xee\\xdb\\xa8\\xec?\\xa2nDl\\xc9\\x8b\\xc8\\x9f\\xfe\\xd5w\\xd1>3\\xfc\\x9fV\\xd1T=\\xb0>\\xc2\\xf2g\\x1fF\\xf0\\xfc\\x98\\xe3TN\\xb2\\x9f\\x06\\xd93^\\x8d*k\\xd8^~\\xb3~\\xf1\\xfa\\xac\\xe4\\x8d\\xe3\\x11\\x9a\\xea\\x91\\xb1\\xc3\\xc9K\\xc4\\xcb\\x8cG2U[\\xd9R\\xf03\\x8cMk\\xebo\\xf0\\x1eEF\\xa9\\x99q\\x89f\\xcbR4pg\\x80X\\xc2\\x03\\x08>\\ruC\\x07\\xf5\\x1b%\\xfe\\x88(\\xa0\\xfa&\\x0f\\xa2b\\xaa\\x8fc\\xc4\\x80\\xf6\\xb5i\\xc2\\xa2\\xe0Z\\xa7E\\x19-\\x1b\\xb6<\\x85\\x96\\xaa \\xe3W\\xd0\\xd2\\x1aki&n\\xcc\\xc5\\x12\\x9fh\\x91\\xdc\\xf4I\\xbc\\x9b\\xd9\\x8f7s\\x81W\\xfb\\x8d\\xbd\\xc7\\xcb7\\x8c\\xa6\\x1a\\x16=\\xbe\\x04\\xfb\\x95\\xb4\\xbd\\x92\\xd5=\\x94a\\x89\\xc3\\xf9mw\\xdd)\\xe4\\xcb\\xcb\\xb3r\\x01\\xa9q\\xee\\xbay\\x17\\x17\\x8c`\\xd8\\xf6\\xf8\\xb9<\\x96\\xcd\\x81\\x9d\\xfe\\xc3A\\x1d\\x8a\\xdcm\\xc7\\xb6M\\xefs\\xbaQI\\xe0\\x12\\xe6\\x92K\\xb2N\\x01\\xc3X\\x9d\\xdcZ\\x97\\xfc\\x9d\\x13\\xfc\\x9c\\xb2\\xd2SI\\xa4\\x90_\\xbc\\x15\\xa8\\xceK\\x86i\\xac\\xb99%\\xc1\\xf0\\xe7\\xfc\\x19i\\xf1]V\\xa2\\xa2\\xec\\xe6\\xe8A\\xf3\\x13\\x82n\\x0e\\xd3\\x17s*\\x03\\x07z\\xea\\xb5r\\xed\\x1c\\xe5\\xa4\\x83\\xe3\\xc1\\x03\\xc1\\xf8\\x81\\xe6\\xe2\\x00\\x1e\\xc2?5\\xbf\\x97/\\xa9\\x9f\\x8b\\x1e\\xa4U\\x98=D\"\\xf0\\xd7f\\xef\\xb2\\xe6\\xeb\\xc6\\\\\\xc4\\xe9\\x1a2\\x8f\\x13\\x1b\\xf7~%\\xf3\\x81\\xf7\\x82\\x9b\\x94\\xbd\\x1a\\xc6\\xaf\\xd8\\xfb\\x01-\\xce\\xb1{\\x97\\x90\\xe3\\x8f\\xe4pA\\xf81\\xe2\\xa5\\xc9\\xc7c\\x8c\\xbb\\x9a\\x14\\xc8\\xcb\\xb8\\xdc\\xde\\xc4\\xc9\\x13\\xc9\\x84\\xb6\\xfb\\x02]\\x0f&\\x8bu\\x00\\x97@\\x1cO\\xc5\\x05<\\x11/\\xc8\\xa4f\\xe9F\\x10\\xd7\\x1c1x\\xa6\\x03q\\x13|n\\xa7\\xff\\x00K\\x93\\xf63Hi\\xfe\\xd63\\xda\\xb2\\xe1\\xf9f]\\xdf\\xf2\\x1b\\x8co\\xcd\\xda;\\x96p\\xfc\\x93\\x17\\xf61\\xc4\\x1e\\x8b-\\xe1\\xfa\\xa6\"\\xcf\\xb3\\x03\\xc3G\\xf4\\x81\\xfb$\\x7f\\xd5\\xabHY\\xbe\\xc4\\xcf\\x15\\xf5\\x8d\\xc3\\xcd[K\\xd9\\xbce\\xd37\\xf9N\\xd8=\\xea\\xac\\xbd\\x8f\\xeeF:&\\x11\\xb4\\x83\\xd8U\\xbb\\nM\\x11}\\x1b]\\xad\\xc9\\xfbE\\\\\\x8d\\xee\\x1b\\x1cr0e\\x00\\x11\\xbb5\\xd5\\xc9z\\r\\xc5\\x9f=\\xc2\\x0e\\x1da8\\x1brK#jj5\\xb44\\xee\\x0e?h\\xec\\x0b\\xd5GK:\\xbc+#\\xcbWQJ\\x97wc\\xf0s\\x85x\\x7f\\t!&\\x8a\\x1bT\\xb3Y)\\xe4u\\x9c\\xde\\xd1\\xbcv\\x85\\x9a\\xfayQ\\x7f\\xdckO\\xa8\\x8dU\\xe2Vg\\xb0Z\\x0f\\xf8\\xc2\\xfd\\xe1y\\xae\\x8fZo\\xecFXC\\xc5\\x8cV\\x1d\\x8bJV:\\xa9/g!\\xc3)\\xef|\\x86\\xfb\\xc9+[\\xb2\\xf6KE\\xf43)_\\x1e\\x8c\\x7f7q\\xbf\\xe6\\x8ew*\\xb0\\xdcS\\xfe\\x8f\\xaa\\x99#w&8G\\x85\\x9d9|?yo\\xe2\\xd6\\xfa\\xb3\\xc3\\xbdG\\xec\\x87\\x1c \\xc3\\x0f\\xf9\\xd0\\x9f\\xb4\\xa7\\xc7\\xab\\xf5e\\xdd\\xa3\\xf6_\\xb1\\x9b\\x8e\\xe1\\xa7em?\\xdf\\n|z\\xbfW\\xfa\\x1b\\x94\\xbe\\xcb\\xf6o\\xef\\xdc:\\xf65\\xb4\\xff\\x00\\x88\\x13b\\xaf\\xd5\\x91\\xd4\\xa5\\xf6C\\x0co\\x0f\\xf9\\xed?\\xe2\\x056*\\xfd_\\xe8\\xb9\\xd3\\xfb/\\xd8\\xb2\\xf0\\x83\\x0c\\x85\\xb9\\x9f\\x88S\\x01{\\x7fP\\x1fr\\xd2\\xd3\\xd6n\\xca,\\xcc\\xaa\\xd2J\\xeeH\\xc8\\xf8I\\x84\\xc8\\xc6\\xb9\\xb8\\x8d5\\x9d\\xb2\\xf2\\x00\\x8fMY\\x7f\\x16EV\\x93^$\\x88\\xb3\\x85\\xf8+\\xa7t#\\x10\\x888\\x1b\\\\\\xdc4\\xf7;a[z*\\xf8\\xe5\\x89\\xcf\\xe4\\xd0n\\xd9\\x0f7\\x0bph\\x01/\\xc4`6\\x17\\xb3Nc\\xe8\\xa4tu\\xe5\\xc4X\\x95z+\\xf9\"\\x1f\\xc78\\x109yq\\xd9{\\x88\\x9for\\xdf\\xfe?Q\\xce?\\xec\\xe6\\xf5z\\x7f\\xb1\\xd4xY\\x83\\xb5\\xe1\\x87\\x10\\x86\\xe4\\x025\\xb8\\xb1\\xed\\xd8\\xb9|J\\xf6\\xbe&\\xf7\\xa8\\xde\\xd9\\x1c\\xd2\\xf0\\xe7\\x02\\x89\\xd65\\x8eq\\xfa\\x10\\xbd\\xde\\xe0\\xba/\\xe9\\xfa\\x87\\xd7\\xfb0\\xf5T\\x17\\xf2\\xff\\x00\\x91\\xa98g\\x82U\\x1b2\\xb4F\\xeb\\xda\\xd34\\xb3\\xde\\x14\\x9e\\x86\\xbcy_\\xa2\\xc7SF_\\xc8\\xb8\\xe1V\\no\\xff\\x00\\xa7J,z\\xdfe\\x9f\\x89]\\x7f\\x16o~\\x8f\\xd9\\x01\\xe16\\x0c\\r\\xbfy\\xd2\\xec\\xbe\\x92\\x02\\x8bK_\\xea\\xcb\\xbdG\\xec\\x89;\\x85\\xd8\\x1b!|\\xaf\\xc4\\xe0kZ.nO\\xa6\\xff\\x00\\x05^\\x92\\xbd\\xff\\x00\\xc5\\x93\\xe4Q\\xb5\\xf2G\\xc5\\xf0\\x97\\xf6\\xa62:\\x0e\\x0fDo{\\x1a\\x99\\x99\\xd5\\xf4[\\x7fS\\xe4\\xbd\\xb4?\\xa7[\\xcd_\\xd1\\xe2\\xad\\xaf\\\\S\\xfd\\x9f\\xcf\\xea\\xf8G\\x8d\\xd6\\x17r\\x9cV\\xb5\\xe1\\xc2\\xceo\\x1c\\xe0\\xd2;\\x86\\x8b\\xe8F\\x85(\\xf1\\x14x\\x1dj\\x8f\\x993\\xcc\\xb9]NcG4\\x91H\\xd9\"{\\x98\\xf6\\x9b\\xb5\\xcc6#\\xc5K&\\xac\\xca\\x9b^Q\\xf54?\\xb4>\\x11\\xd2\\xf1M}[j\\x19\\x19\\xd5\\xb2\\xc6\\tx\\xdcH\\xd5yg\\xa2\\xa3.\\x8fTu\\xb5\\xa3\\xe2\\xe7\\xd8\\xe1\\x7f\\xb5,6r\\xd6bT\\xb3R\\x9bk#?\\x98\\xcb\\xfb\\xfd\\n\\xf0\\xd4\\xfe\\x9d8\\xff\\x00\\x8b\\xb9\\xee\\xa7\\xfdF\\x0f\\xc4\\xd5\\x8f\\xac\\x8b\\x1d\\xc1e\\r|x\\x9d!\\x0f\\x03/\\xf3\\xc7\\xba\\xeb\\xc6\\xe8\\xd5\\\\\\xc5\\x9e\\xe5^\\x9b^$\\x8f@>2\\x01k\\x81\\x07a\\x05s\\xf2uF\\xe6\\x1b\\xc7\\x92\\x86\\xac\\xcf\\xcc\\xed\\x91\\xcd\\xbeW8\\x03\\xb6\\xc6\\xd7_\\xaa?\"vRbs\\xd3\\x80\\xd2\\xe2\\xe8\\xc7Q\\xd6\\xdd\\xc9dU&\\x8fI\\x98\\x83\\\\\\x06J\\xa6\\x00}\\x97\\xe9\\xea\\xad\\x91re%\\xab\\x11F\\x08\\xac\\xa7\\xeei\\x0fR\\xf15\\xe5.I\\x8cD\\x16\\x13\\xcba\\xd3\\xa9\\xd1\\x90O\\xa2\\x7fo\\xa2]\\xfb2\\x0cB\\x9aW\\x01$\\x91\\xb4\\x9d\\xedp\\x1ej7`\\xac\\xce\\xd22j\\xf6Go\\x8c\\t!T\\xca\\xe3n\\x81\\xce\\xd1\\xa70i\\xean\\x9a\\xa0\\x10\\xc8\\xe0\\xedb\\xd7\\xa8\\x88\\xc7\\xaa\\xb6\\x19[\\xa0\\x9aSmb`>^\\x88\\x91\\x1c\\xbf\\x01\\x0b\\xdc\\xfbgk\\x1a\\x06\\xa4\\x9b\\xb4\\x05\\x1f\\x82\\xc5dNi.\\xc2\\xe8\\xa5\\x8c\\xb3\\xac\\xb4\\x82\\x15\\x8bLI5\\xc1\\xce\\xda\\xc3\\x9a\\xcem\\xc0\\xea\\xd8\\xb5c\\x9eCr\\x86;c\\t=w\\xd8\\x96-\\xd1\\x19\\xf1\\x18\\xa1\\xbbc\\x8a\\xef\\xfa\\xdb\\x14d<\\xba\\x9a\\x89*\\x1e\\x1d!\\xbd\\xb4\\x1d\\x8b \\x92\\x00@\\x08\\x01\\x00 \\x04\\x06 -OQ%3\\xc3\\xe1yk\\x81\\xeaB\\xa6\\xd7\\x07\\xa7\\xfcK\\x88\\x8f\\xf2&\\xfcW~k\\x1bt\\xfe\\xab\\xf4t\\xde\\xa9\\xf6\\x7f\\xef\\xfe\\xcf\\x1dl\\xe4\\x08\\x01\\x00 \\x0b\\xe8\\x80\\x10\\x16\\x8a\\xaa\\xa2!h\\xe6\\x91\\xa3pv\\x8aX\\xb7gu>7;l\\'\\x8e9[\\xd6H\\xb1\\xf3K\\x1aS\\xf6V|Z\\x16\\xba\\xf4\\xf0\\xeav\\xdc\\x95H\\xdf\\xa3\\x82\\xa2\\xbe\\xa2w\\xe6\\xce\\xe6\\x0e\\xa6\\xb0\\x90\\x10\\x8d\\xb2\\x0e\\x96G\\xf4\\xde\\xe7w\\xb8\\x94 G4\\x91;4Os]\\xbc\\x14\\x07\\xa0\\xecT\\x88\\x9a\\x19\\x13s\\xdb\\x9cN\\xcf$\\xb9nrM[<\\xc2\\xcey\\x03st\\x08C\\x9e\\xe8\\x01\\x00 \\x04\\x06 \\x04\\x00\\x80\\x10\\x02\\x03P\\x02\\x00@\\x08\\x01\\x00 \\x04\\x00\\x80\\x10\\x02\\x00@\\x08\\x01\\x00 1\\x00 \\x04\\x00\\x80\\x10\\x02\\x00@\\x08\\x01\\x00 \\x04\\x00\\x80\\xd4\\x00\\x80\\x15\\xb8\\x05.\\x01\\x00%\\xc0+p\\n\\x00@\\x08\\x01\\x00 \\x04\\x06 5\\x01\\x88\\x01\\x00 \\x04\\x00\\x80\\x10\\x02\\x03P\\x02\\x03\\x10\\x1a\\x80\\x10\\x02\\x00@\\x08\\x01\\x00 \\x04\\x00\\x80\\x10\\x02\\x00@\\x08\\x01\\x00 \\x04\\x00\\x80\\x10\\x02\\x00@\\x08\\x01\\x00 \\x04\\x00\\x80\\x10\\x1f\\xff\\xd9', b'%PDF-1.3\\r\\n%\\xe2\\xe3\\xcf\\xd3\\r\\n\\r\\n1 0 obj\\r\\n<<\\r\\n/Type /Catalog\\r\\n/Outlines 2 0 R\\r\\n/Pages 3 0 R\\r\\n>>\\r\\nendobj\\r\\n\\r\\n2 0 obj\\r\\n<<\\r\\n/Type /Outlines\\r\\n/Count 0\\r\\n>>\\r\\nendobj\\r\\n\\r\\n3 0 obj\\r\\n<<\\r\\n/Type /Pages\\r\\n/Count 2\\r\\n/Kids [ 4 0 R 6 0 R ] \\r\\n>>\\r\\nendobj\\r\\n\\r\\n4 0 obj\\r\\n<<\\r\\n/Type /Page\\r\\n/Parent 3 0 R\\r\\n/Resources <<\\r\\n/Font <<\\r\\n/F1 9 0 R \\r\\n>>\\r\\n/ProcSet 8 0 R\\r\\n>>\\r\\n/MediaBox [0 0 612.0000 792.0000]\\r\\n/Contents 5 0 R\\r\\n>>\\r\\nendobj\\r\\n\\r\\n5 0 obj\\r\\n<< /Length 1074 >>\\r\\nstream\\r\\n2 J\\r\\nBT\\r\\n0 0 0 rg\\r\\n/F1 0027 Tf\\r\\n57.3750 722.2800 Td\\r\\n( A Simple PDF File ) Tj\\r\\nET\\r\\nBT\\r\\n/F1 0010 Tf\\r\\n69.2500 688.6080 Td\\r\\n( This is a small demonstration .pdf file - ) Tj\\r\\nET\\r\\nBT\\r\\n/F1 0010 Tf\\r\\n69.2500 664.7040 Td\\r\\n( just for use in the Virtual Mechanics tutorials. More text. And more ) Tj\\r\\nET\\r\\nBT\\r\\n/F1 0010 Tf\\r\\n69.2500 652.7520 Td\\r\\n( text. And more text. And more text. And more text. ) Tj\\r\\nET\\r\\nBT\\r\\n/F1 0010 Tf\\r\\n69.2500 628.8480 Td\\r\\n( And more text. And more text. And more text. And more text. And more ) Tj\\r\\nET\\r\\nBT\\r\\n/F1 0010 Tf\\r\\n69.2500 616.8960 Td\\r\\n( text. And more text. Boring, zzzzz. And more text. And more text. And ) Tj\\r\\nET\\r\\nBT\\r\\n/F1 0010 Tf\\r\\n69.2500 604.9440 Td\\r\\n( more text. And more text. And more text. And more text. And more text. ) Tj\\r\\nET\\r\\nBT\\r\\n/F1 0010 Tf\\r\\n69.2500 592.9920 Td\\r\\n( And more text. And more text. ) Tj\\r\\nET\\r\\nBT\\r\\n/F1 0010 Tf\\r\\n69.2500 569.0880 Td\\r\\n( And more text. And more text. And more text. And more text. And more ) Tj\\r\\nET\\r\\nBT\\r\\n/F1 0010 Tf\\r\\n69.2500 557.1360 Td\\r\\n( text. And more text. And more text. Even more. Continued on page 2 ...) Tj\\r\\nET\\r\\nendstream\\r\\nendobj\\r\\n\\r\\n6 0 obj\\r\\n<<\\r\\n/Type /Page\\r\\n/Parent 3 0 R\\r\\n/Resources <<\\r\\n/Font <<\\r\\n/F1 9 0 R \\r\\n>>\\r\\n/ProcSet 8 0 R\\r\\n>>\\r\\n/MediaBox [0 0 612.0000 792.0000]\\r\\n/Contents 7 0 R\\r\\n>>\\r\\nendobj\\r\\n\\r\\n7 0 obj\\r\\n<< /Length 676 >>\\r\\nstream\\r\\n2 J\\r\\nBT\\r\\n0 0 0 rg\\r\\n/F1 0027 Tf\\r\\n57.3750 722.2800 Td\\r\\n( Simple PDF File 2 ) Tj\\r\\nET\\r\\nBT\\r\\n/F1 0010 Tf\\r\\n69.2500 688.6080 Td\\r\\n( ...continued from page 1. Yet more text. And more text. And more text. ) Tj\\r\\nET\\r\\nBT\\r\\n/F1 0010 Tf\\r\\n69.2500 676.6560 Td\\r\\n( And more text. And more text. And more text. And more text. And more ) Tj\\r\\nET\\r\\nBT\\r\\n/F1 0010 Tf\\r\\n69.2500 664.7040 Td\\r\\n( text. Oh, how boring typing this stuff. But not as boring as watching ) Tj\\r\\nET\\r\\nBT\\r\\n/F1 0010 Tf\\r\\n69.2500 652.7520 Td\\r\\n( paint dry. And more text. And more text. And more text. And more text. ) Tj\\r\\nET\\r\\nBT\\r\\n/F1 0010 Tf\\r\\n69.2500 640.8000 Td\\r\\n( Boring.  More, a little more text. The end, and just as well. ) Tj\\r\\nET\\r\\nendstream\\r\\nendobj\\r\\n\\r\\n8 0 obj\\r\\n[/PDF /Text]\\r\\nendobj\\r\\n\\r\\n9 0 obj\\r\\n<<\\r\\n/Type /Font\\r\\n/Subtype /Type1\\r\\n/Name /F1\\r\\n/BaseFont /Helvetica\\r\\n/Encoding /WinAnsiEncoding\\r\\n>>\\r\\nendobj\\r\\n\\r\\n10 0 obj\\r\\n<<\\r\\n/Creator (Rave \\\\(http://www.nevrona.com/rave\\\\))\\r\\n/Producer (Nevrona Designs)\\r\\n/CreationDate (D:20060301072826)\\r\\n>>\\r\\nendobj\\r\\n\\r\\nxref\\r\\n0 11\\r\\n0000000000 65535 f\\r\\n0000000019 00000 n\\r\\n0000000093 00000 n\\r\\n0000000147 00000 n\\r\\n0000000222 00000 n\\r\\n0000000390 00000 n\\r\\n0000001522 00000 n\\r\\n0000001690 00000 n\\r\\n0000002423 00000 n\\r\\n0000002456 00000 n\\r\\n0000002574 00000 n\\r\\n\\r\\ntrailer\\r\\n<<\\r\\n/Size 11\\r\\n/Root 1 0 R\\r\\n/Info 10 0 R\\r\\n>>\\r\\n\\r\\nstartxref\\r\\n2714\\r\\n%%EOF\\r\\n')]\n"
          ]
        }
      ]
    },
    {
      "cell_type": "code",
      "source": [
        "conn=sqlite3.connect('EmployeeDatabase.db')\n",
        "curr1=conn.cursor()\n",
        "curr1.execute('select * from newEmp')\n",
        "print(curr1.fetchall())"
      ],
      "metadata": {
        "colab": {
          "base_uri": "https://localhost:8080/"
        },
        "id": "h5l8P_aM3g59",
        "outputId": "133cf017-543c-43f3-c7ab-100987e8d0e7"
      },
      "execution_count": null,
      "outputs": [
        {
          "output_type": "stream",
          "name": "stdout",
          "text": [
            "[(1, 'images', b'\\xff\\xd8\\xff\\xe0\\x00\\x10JFIF\\x00\\x01\\x01\\x00\\x00\\x01\\x00\\x01\\x00\\x00\\xff\\xdb\\x00\\x84\\x00\\t\\x06\\x07\\x08\\x07\\x06\\t\\x08\\x07\\x08\\n\\n\\t\\x0b\\r\\x16\\x0f\\r\\x0c\\x0c\\r\\x1b\\x14\\x15\\x10\\x16 \\x1d\"\" \\x1d\\x1f\\x1f$(4,$&1\\'\\x1f\\x1f-=-157:::#+?D?8C49:7\\x01\\n\\n\\n\\r\\x0c\\r\\x1a\\x0f\\x0f\\x1a7%\\x1f%77777777777777777777777777777777777777777777777777\\xff\\xc0\\x00\\x11\\x08\\x00\\x81\\x00\\xc2\\x03\\x01\\x11\\x00\\x02\\x11\\x01\\x03\\x11\\x01\\xff\\xc4\\x00\\x1c\\x00\\x00\\x03\\x01\\x01\\x01\\x01\\x01\\x01\\x00\\x00\\x00\\x00\\x00\\x00\\x00\\x00\\x00\\x02\\x03\\x01\\x04\\x05\\x06\\x08\\x07\\xff\\xc4\\x00@\\x10\\x00\\x01\\x03\\x02\\x03\\x02\\x0b\\x02\\x0b\\t\\x01\\x00\\x00\\x00\\x00\\x00\\x01\\x00\\x02\\x03\\x04\\x11\\x05\\x12!1Q\\x06\\x13\\x14\"2Aaq\\x81\\x91\\xa1B\\xb1CRSTbr\\x82\\x92\\x93\\xd1\\xe1\\x07\\x15\\x16#34Dc\\xc1%\\xff\\xc4\\x00\\x1a\\x01\\x01\\x01\\x01\\x01\\x01\\x01\\x01\\x00\\x00\\x00\\x00\\x00\\x00\\x00\\x00\\x00\\x00\\x01\\x02\\x03\\x04\\x05\\x06\\xff\\xc4\\x00-\\x11\\x00\\x02\\x01\\x03\\x04\\x02\\x02\\x02\\x01\\x04\\x02\\x03\\x00\\x00\\x00\\x00\\x00\\x01\\x02\\x03\\x11\\x12\\x04\\x131A!Q\\x14Ra\\x91B\\x05\"2\\xa1\\xb1\\xd1\\x15q\\x81\\xff\\xda\\x00\\x0c\\x03\\x01\\x00\\x02\\x11\\x03\\x11\\x00?\\x00\\xf7\\x1a\\x02\\xe8s\\xb0\\xf9R\\xe2\\xc6\\xe5K\\x8b\\x00\\x08[\\x1b\\x95B\\xd82\\xa1B\\xc8\\x02\\xc8d,\\xa9\\x03*\\x8d\\x9bD\\xdf\\x19;\\x16N\\x8a\\xdd\\x9c\\x93S\\xbc\\x9d\\xea\\x1b\\xba9\\x9dNog5Ci\\xa2r\\xc4\\xd6\\x0b\\xecXl\\xed\\x14\\xd9\\xc70;F\\x96X\\xc8\\xf4*vG8\\xceN\\x87D\\xc8`V8\\xc5\\xeeV\\x1dD\\x8e\\xd1\\xa2\\xd9G\\x02\\xee\\x8bJ\\xe6\\xea6t\\x8d\\x18\\xc4\\x1b\\x1b\\xb7\\xd8\\xa9sX\\xa3LV\\xda\\xeb\\xf6+tf\\xcc\\xd6\\xc6\\x07E\\xa5\\\\\\x91\\x97\\x06PG)\\xd8\\x00W2m\\xa04\\xafv\\xd2S!\\x82\\x01E\\xbc)v-\\x10\\xe4GqV\\xec\\x9e\\x0fi\\xb2F\\x05\\xdc\\xefU\\xee\\xba>\\x0b\\x8b\\x15\\xd5\\x91\\x8d\\x9e\\xa9rb\\xc8M\\x8aE\\x1e\\xd7\\x0e\\xed\\xaa\\xdc\\xb8\\x908\\xc9=\\x06\\x17z \\xb1\\xa3\\x16\\x93\\xe4}Tl\\xb8\\x94n%;\\xc5\\xc4@\\x0e\\xf5.\\x8b\\x8b\\x18W\\xbct\\xc0\\n\\xdc\\x96,\\xca\\xf6\\x1d\\xb7T\\x96*+#\\xb7\\xb4|\\x14\\xb9,;*\\x1a\\xefd\\xa5\\xcdbY\\xa4;`R\\xe8b\\xc4\\x95\\xcd`\\xd5bRH\\xefN\\x93\\x91\\xc34\\xbdm\\x17\\x1b\\xd7\\x17T\\xf6CJ\\xceg\\xb67\\xd8\\xb9\\xc4\\xae\\x12\\x95\\xcfl!\\x8a\\xb5\\x8eyc.<\\xd1\\xa2\\xc3\\x9d\\x8e\\xd1\\xa6\\xdfB2\\x95\\xdd\\xfe\\x0b.\\xa1\\xd1RH\\xbb)\\x1d\\xf1J\\x99\\xdc\\xd6\\r\\x15m\\x1b\\xcf`V\\xed\\x98v*\\xda\\x16\\xfb[UI\\xb3\\x0eQC\\xb6\\x8a=\\xc1iA\\x9c\\xddd\\xba*\\xda6\\x8d\\x80.\\x8a\\x91\\xcaz\\x95b\\x82\\x9c\\x01\\xb1tT\\xd2<\\xb2\\xd5~L0+\\xb6g\\xe4/f\\x08;\\x95Ph\\x8e\\xb4L\\xe2\\x06\\xe5qd\\xdd\\x89\\xe5\\xbe\\x07\\xed\\x04\\x9e\\xe5\\x9c\\xcd\\xba7\\x14\\xc3\\x9bS{\\xeeZU\\x0c:\\x07\\x15S$\\x07\\x98\\xd0\\x15\\xdc2\\xb4\\xfe\\xce\\'\\xc1T\\xd7\\x07kn\\xc5\\xac\\xc8\\xe8\\xa0s\\xe6\\xd8C\\xb3,JL\\xf4S\\x84S\\xf0\\x8b6\\x1a\\x97\\xb4\\x19\\x1e\\x1a\\xcd\\xe5p\\xdcI\\xf8={9/6+N^\\xc7\\xdc4\\x91\\xdaWE){<\\xd3\\xa7M\\xf8\\xc4\\xec\\xe5\\x01\\xbbXo\\xba\\xe1tU\\x1fg\\x9ezt\\xff\\x00\\xc5\\x0f\\x1dI.\\x1c\\xd2\\x07QQ\\xd7\\x89V\\x86gdr\\x92\\xf0\\xdb\\x85\\x89WGh\\xe8<\\xf9Gs\\x1c\\xec\\xb6\\x0e\\xf4^Y\\xd7~\\xcf}=$\"\\xb81\\xf1\\x97t\\x89=\\xeb\\x93\\xac\\xd9\\xe8\\x8d\\x08G\\x82f\\x9d\\xb7\\xe7\\x12\\xee\\xc5\\x9d\\xc6t\\xdbC\\xb2\\x90?F\\xb2\\xc9y>\\x05\\xa1\\x0f,\\xbbp\\xf1\\xd7e\\xb5FG9j\\xe1\\x12\\xad\\xa4kE\\x83}\\x16\\xb6\\x94y9\\xfc\\x97?\\xf14Sj\\x8a7\\xe0\\xcc\\xaa\\xa5\\xcb4\\xd3\\r\\xd6]T\\x19\\xe7u\\xbd\\x93u6\\xba\\x15\\xd5R\\x91\\xe7\\x96\\xae+\\xc06\\x9c\\x03\\xae\\xabJ\\x95\\x8eS\\xd5e\\xc0\\xfcX\\x03F\\xae\\x89$qs\\x93\\xe02\\x1d\\xc8\\xd8\\x8c/\\xcb\\x15\\xcc=vQd\\xf8,\\xb6\\xe3\\xc8\\x85\\x87\\xa8\\x05\\xbb3\\x93\\x9czFY\\xdd\\x89bfs6\"4u\\x81^\\x17+\\x1feSO\\x83y0\\'R\\xa6L\\xdd\\x97HaG\\x19\\xda\\xdb\\xa6I\\x0c[\\xe8G\\xd37``GX-+~Y\\x03Gwh\\xd5\\xceUnw\\x85\\x05\\x11N\\x1f#\\x8d\\xc9\\xb0\\xecX\\xdcgUN=\\x88p\\xe74\\x1b\\xea\\xaa\\x93#\\x8cWD\\xc5\\x1b\\x9a@.\\x04nY\\x94\\x8d\\xd3\\x8d\\xfc\\x97\\x86\\x99\\xaeu\\x84Dz,y|\\x1d\\x1e+\\xcb=\\nz63\\x9d\\xa0\\xf1\\xba\\xda\\xa57\\xc9\\xe7\\x96\\xa6\\x9a\\xf0\\x8e\\xc6@\\xd2\\x06\\xa5uT\\x19\\xc1\\xea\\xe3r\\x9c\\x99\\x9d\\xaa\\xaaI?(\\xcb\\xd4\\xbe\\x9a4S\\xb5\\xbd\\x16\\x05\\xda4\\xe0\\xba<\\x92\\xd4\\xd4\\x97e\\x1b\\x1d\\x86\\x80\\x05\\xb5\\x8a\\xe0\\xe4\\xdc\\xe5\\xcb\\x0c\\xab~Y\\xc9\\xe2\\xbb\\x0bY\\\\L\\xba\\xbd\\\\R\\xad\\x8cn>\\x93\\x15\\xcbI$s\\x94\\xa4\\xf9\\x16\\xcbG3,\\x82\\xe1e,\\\\\\x8c\\xb2\\xb6A\\xcd\\xb32*f\\xe6eAs2 \\xb9\\x91\\xd1\\xe5\\x17\\xcaGy\\xb9^%H\\xfa\\xd2\\xd6$1\\x8c7\\xe0^\\xef\\xaa\\xae\\xca2\\xb5\\xaf\\xa4V&4\\x81x\\x9e\\xdf\\xac\\xa6\\xc4K\\xf3\\xa6S\\x89\\x8f\\xe4\\xca\\xcb\\xa2\\x8e\\xb1\\xd6\\xbe\\xd9\\x86\\x16\\r\\x8d\\xb2\\xce\\xc37\\xf3\\xa3\\xdb3\\x8a=M\\x04-*\\'9kb\\x0f\\xa7k\\x85\\xac.\\xab\\xa4f:\\xd5\\xc3&)\\x1a\\xdd\\x91\\xb7\\xc5\\x15/ez\\xc5\\xd3\\x18R\\xb3i\\xb0?Eko\\xf0sz\\xab\\xf2\\xc6e3#\\x1c\\xd0M\\xd5T\\xdff%\\xaaO\\x8f\\x06\\x97\\x06?.Gw\\xd8\\xae\\x8a\\xc8\\xf3\\xcaN^nX-\\x1c\\xf2ac}N\\x8a[\\xc9\\xb5Q\\xd8\\xcc\\xaa\\xdd#>[\\xf2\\xc3*\\x8aM\\x96QK\\x8f&Y_\\x06n\\xcc![\\x91\\xdd\\x8aZ\\x97%\\x99\\x99\\x15\\xb9\\x03\"\\\\\\x96\\x17\\'m\\xd2\\xe02\\xabr\\x06T\\xb82\\xc1.\\x03*\\x14\\x80\\x86F\\xbb\\xfb\\x89\\xbb\\x85\\xc8^{\\xb3\\xd6\\xb1\\xfa\\x9dQH\\xc3\\xcd%\\xf7\\xedm\\x96rM\\xf2i\\xd3\\x92W\\xc0\\xae\\x8e\\xd08w]j\\xff\\x00\\x93\\x8f\\xfe\\xd1\\xa1\\x87yV\\xe3\\xc0\\xc0\\x10\\xad\\xcc\\xd8W\\xb5\\xc7F\\xbb/\\x82\\xcb~\\x8d\\xc1/W\\x0ep\\x16\"\\xf6\\xeb\\xba\\xcb\\x9bGeG.<\\x06`O8s\\x8e\\xe4\\xdcA\\xe9\\xa7\\xd7\\x03\\x0bnWq\\x13\\xe3L\\xd3\\xa0Sq\\x15i\\x98\\xb7\\xb6\\xd0\\x02n\\x9aZe\\xdb%$\\xc0tHYu\\xactZD\\xf83\\x8cy\\xe8\\x8b\\xa9\\xbc_\\x86\\xbb*\\xc1!\\xe9\\x00\\x16\\x94\\xe4\\xccJ\\x8d(r\\xcae[W\\xec\\xf3\\xceK\\xf8\\x99e\\xa3\\x93\\xb8\\xa4+ry\\x14\\xdb\\xae\\xe3\\xc1.K1K\\xd86\\x9b&F\\x94\\x1f\\xa2N\\xaa\\x85\\xbb^\\x1346\\xa5\\xe8\\xe5\\x97\\x15\\xa6\\x8c\\x12H\\xd1[\\x8d\\xa6y\\xb3c\\xb2Kv\\xd2\\xc2\\xf1c\\xd2#j\\xd5\\xc9\\x839\\xdb\\x89\\xd5\\xb9\\xc7Yo\\xd6\\x01\\x07\\xfe*G\\x1b\\x0f\\x05N1+\\x9d\\x93+Zv\\x17\\x9b\\xa5\\xd1,S\\x8b\\xc6\\xfeu\\x1f\\x98K\\xa36>\\xa6\\xcb\\xcds\\xad\\x82\\xcadh\\xdb\\x01\\xd4\\x97\\x1eCD\\xb8\\xb1\\xba%\\xc19g\\x8a\\x06\\xdeW\\x86\\xee\\xedQ\\xd9\\x9b\\x8b\\x9fDb\\xael\\xae\\xb4pJF\\xf2\\x00Xj\\'\\xa6\\x1b\\xaf\\xb3\\xa2\\xcdv\\xb9l\\xb1\\x85\\xf8:*\\xce>$\\x1c^\\xe3\\xe6\\xa6\\x125\\xf2\\xa0a\\x836\\xd7\\x10\\x9br\\xf6>\\\\\\x10\\x9c\\x91\\xa4\\xea\\xf2QS\\x97\\xb2\\xfc\\xd8\\xdb\\xc2*\\xc8\"gE\\xbek{h\\xe1=\\\\\\xdf\\x03\\x81\\xb9tVG\\x9eS\\x9c\\xb9fY\\\\\\x8c(\\x85\\x93#[LWh\\xb2\\xea\\x1d!\\xa7\\x94\\x89>B\\x06\\x8d\\xbfj\\xc3\\xa9s\\xd1\\x1d*\\\\\\x9c\\x92\\x19\\t\\xbd\\xf2\\x8d\\xe9\\x9b6\\xe9\\xd3]\\x91p\\'B\\xf7\\x15\\xab\\xb3\\x9c\\xb1\\\\\"32\\x06\\x90$xi;\\x05\\xaeV\\xd1\\xc6Sl\\x05%-\\x83\\x89\\'_\\x93ZL\\xe6\\xe6\\xc5\\x91\\xf4Q\\xb4\\x87\\xc9\\x15\\xce\\x96\\xb1ZF\\x1bg,\\xd8\\xb4\\x11\\x8c\\xb1> G_\\x15q\\xefZF,\\xcf6\\xaf\\x1e\\x92F\\x962F\\x0e\\xd0\\xc5\\xab\\x0cY\\xc3\\xfb\\xd6\\xb3\\xe5\\x8f\\xe0\\x8f\\xc9_\\xed\\x18\\xb3\\xef\\x1b_\\x1d\\xae\\xe7\\xb3\\xcdxnz\\xb6X\\xc2\\xbe\\x0f\\x8e\\x14\\xb9U\\x06\\xccut@\\x1c\\xa6\\xeaf\\x8e\\x8bM7\\xd1\\xce\\xfa\\xb7\\x1b\\xdd\\xafwp\\xb2f\\x8d\\xfcYz\"kj\\xc1\\xb4t\\xe7\\xbd\\xc4\\x95\\xa5$G\\xa7k\\xa1\\xa1\\x8eI\\xe4\\xcfU\\x98\\x91\\xb2\\xe4h\\xa3\\x91\\xa5M#\\xd4\\x8cE\\x18\\x16u\\xbb\\xd6r2\\xe0\\xd8\\xf9\\xdav\\x1f$\\xc8\\xe6\\xe9\\x0c\\x01\\xdd\\xea\\xaed\\xd96\\xe0m)\\x99U\\x03[\\xae\\xc4\\xc8\\x8e\\x8f\\xe4\\xdb&D\\xdbF+\\x93&\\x11\\x0e\\xa4\\xc8c\\x12os\\x9b\\xd1\\x00\\xa5\\xcd%\\x12\\x0f3\\xbfe\\x80Q\\xd9\\x9dc7\\x1e\\x10\\xack\\xc6\\xdb\\xb8\\xf7\\x04V4\\xeaNCs\\x8e\\x8db]\\x1c\\xec\\xd7$\\xa5\\x86B6\\x81\\xae\\xe5nW\\xc7\\x073\\xafH\\xd7\\x16\\xc5\\x1d\\x89\\xb9q\\xda\\xb5\\x9a1\\xb3)\\x1e]f&KHk\\x98>\\xaa\\xaaF\\xbe;]\\x1e\\x15ENg\\xe6\\xc8_\\xe6\\x17T\\xd7\\xb3.\\x0f\\xa4 \\x96\\x178g\\x81\\xcd\\x1dyB\\xd5\\xd7\\xb3\\x1bs\\xf4u6jF\\x0ehw\\x8b\\x14\\xb96\\xaaz\\x1b\\x96E\\xfe\\xcf\\xba\\xa5\\xc6\\xddOG\\xad\\xc9\\x00\\xd9N\\xe7\\x0e\\xc7/\\x99\\x9b\\xf6~\\x81\\xc6\\x0b\\x843\\x1a\\x1au\\xa4\\x96\\xdd\\x96?\\xf5/~\\xc7\\x1c#\\xba\\x99\\xb0\\xc9m\\x0b\\x0e\\xe7\\x0b\\x15<{1)Mtw6\\x9a;t\\x8f\\x82\\xd7\\x83\\x83\\xa9/Cq1\\x8fi\\xdeit\\x8c\\xb9\\xc9\\x88D#h\\'\\xbc\\xab\\x9aD\\xc2o\\xb1\\x84\\x91\\r\\x03\\x02\\x9b\\x88\\x9bR\\xf67)kv\\x00\\x07`M\\xc4]\\xa6g+\\x8c\\xe8\\\\U\\xcd\\x1a\\xd9\\x91\\xbc\\xa2&u\\x84\\xcd\\x13nL\\xd3Z-\\xccar\\xce\\xe16=\\xb39sCNcc\\xd4\\x02\\xd6e\\xd8w\\xf0,U`7\\x9eu\\xecSq\\x16T|\\xf8C\\xba\\xa9\\xa4ir\\x9b\\x88\\xca\\xa2\\'\\x1eORn\\x1a\\xdaA\\xca-m\\tM\\xd46\\xae#\\xaa\\xc3A\\x19\\x1e\\xe3\\xe8\\x13q\\x1aTnBZ\\xf7\\x90G\\x12\\xef;&\\xe26\\xb4\\xfe\\x99\\xc0\\xea\\xd9\\xd8\\t\\x101\\xa7yy[S\\x89\\x1e\\x9e\\xa3\\xfeG\\x9dS\\x8cH\\xd2o\\x1cb\\xfbH:\\x9fE\\xd1F,\\xe4\\xd5Hvy\\xb3b.y\\xe6\\xb1\\xad\\xef}\\xd7EN%\\xdc\\xa9\\xec\\x93f\\xa8v\\xb7\\x8b\\xef~\\xaa8\\xc5\\x1d\\x14\\xaa?C\\x0eP\\xfe\\xb6\\xf8\\x15\\x8b\\xc1\\x1a\\xc6l94\\xee\\xdb\\xa8\\xec?\\xa2nDl\\xc9\\x8b\\xc8\\x9f\\xfe\\xd5w\\xd1>3\\xfc\\x9fV\\xd1T=\\xb0>\\xc2\\xf2g\\x1fF\\xf0\\xfc\\x98\\xe3TN\\xb2\\x9f\\x06\\xd93^\\x8d*k\\xd8^~\\xb3~\\xf1\\xfa\\xac\\xe4\\x8d\\xe3\\x11\\x9a\\xea\\x91\\xb1\\xc3\\xc9K\\xc4\\xcb\\x8cG2U[\\xd9R\\xf03\\x8cMk\\xebo\\xf0\\x1eEF\\xa9\\x99q\\x89f\\xcbR4pg\\x80X\\xc2\\x03\\x08>\\ruC\\x07\\xf5\\x1b%\\xfe\\x88(\\xa0\\xfa&\\x0f\\xa2b\\xaa\\x8fc\\xc4\\x80\\xf6\\xb5i\\xc2\\xa2\\xe0Z\\xa7E\\x19-\\x1b\\xb6<\\x85\\x96\\xaa \\xe3W\\xd0\\xd2\\x1aki&n\\xcc\\xc5\\x12\\x9fh\\x91\\xdc\\xf4I\\xbc\\x9b\\xd9\\x8f7s\\x81W\\xfb\\x8d\\xbd\\xc7\\xcb7\\x8c\\xa6\\x1a\\x16=\\xbe\\x04\\xfb\\x95\\xb4\\xbd\\x92\\xd5=\\x94a\\x89\\xc3\\xf9mw\\xdd)\\xe4\\xcb\\xcb\\xb3r\\x01\\xa9q\\xee\\xbay\\x17\\x17\\x8c`\\xd8\\xf6\\xf8\\xb9<\\x96\\xcd\\x81\\x9d\\xfe\\xc3A\\x1d\\x8a\\xdcm\\xc7\\xb6M\\xefs\\xbaQI\\xe0\\x12\\xe6\\x92K\\xb2N\\x01\\xc3X\\x9d\\xdcZ\\x97\\xfc\\x9d\\x13\\xfc\\x9c\\xb2\\xd2SI\\xa4\\x90_\\xbc\\x15\\xa8\\xceK\\x86i\\xac\\xb99%\\xc1\\xf0\\xe7\\xfc\\x19i\\xf1]V\\xa2\\xa2\\xec\\xe6\\xe8A\\xf3\\x13\\x82n\\x0e\\xd3\\x17s*\\x03\\x07z\\xea\\xb5r\\xed\\x1c\\xe5\\xa4\\x83\\xe3\\xc1\\x03\\xc1\\xf8\\x81\\xe6\\xe2\\x00\\x1e\\xc2?5\\xbf\\x97/\\xa9\\x9f\\x8b\\x1e\\xa4U\\x98=D\"\\xf0\\xd7f\\xef\\xb2\\xe6\\xeb\\xc6\\\\\\xc4\\xe9\\x1a2\\x8f\\x13\\x1b\\xf7~%\\xf3\\x81\\xf7\\x82\\x9b\\x94\\xbd\\x1a\\xc6\\xaf\\xd8\\xfb\\x01-\\xce\\xb1{\\x97\\x90\\xe3\\x8f\\xe4pA\\xf81\\xe2\\xa5\\xc9\\xc7c\\x8c\\xbb\\x9a\\x14\\xc8\\xcb\\xb8\\xdc\\xde\\xc4\\xc9\\x13\\xc9\\x84\\xb6\\xfb\\x02]\\x0f&\\x8bu\\x00\\x97@\\x1cO\\xc5\\x05<\\x11/\\xc8\\xa4f\\xe9F\\x10\\xd7\\x1c1x\\xa6\\x03q\\x13|n\\xa7\\xff\\x00K\\x93\\xf63Hi\\xfe\\xd63\\xda\\xb2\\xe1\\xf9f]\\xdf\\xf2\\x1b\\x8co\\xcd\\xda;\\x96p\\xfc\\x93\\x17\\xf61\\xc4\\x1e\\x8b-\\xe1\\xfa\\xa6\"\\xcf\\xb3\\x03\\xc3G\\xf4\\x81\\xfb$\\x7f\\xd5\\xabHY\\xbe\\xc4\\xcf\\x15\\xf5\\x8d\\xc3\\xcd[K\\xd9\\xbce\\xd37\\xf9N\\xd8=\\xea\\xac\\xbd\\x8f\\xeeF:&\\x11\\xb4\\x83\\xd8U\\xbb\\nM\\x11}\\x1b]\\xad\\xc9\\xfbE\\\\\\x8d\\xee\\x1b\\x1cr0e\\x00\\x11\\xbb5\\xd5\\xc9z\\r\\xc5\\x9f=\\xc2\\x0e\\x1da8\\x1brK#jj5\\xb44\\xee\\x0e?h\\xec\\x0b\\xd5GK:\\xbc+#\\xcbWQJ\\x97wc\\xf0s\\x85x\\x7f\\t!&\\x8a\\x1bT\\xb3Y)\\xe4u\\x9c\\xde\\xd1\\xbcv\\x85\\x9a\\xfayQ\\x7f\\xdckO\\xa8\\x8dU\\xe2Vg\\xb0Z\\x0f\\xf8\\xc2\\xfd\\xe1y\\xae\\x8fZo\\xecFXC\\xc5\\x8cV\\x1d\\x8bJV:\\xa9/g!\\xc3)\\xef|\\x86\\xfb\\xc9+[\\xb2\\xf6KE\\xf43)_\\x1e\\x8c\\x7f7q\\xbf\\xe6\\x8ew*\\xb0\\xdcS\\xfe\\x8f\\xaa\\x99#w&8G\\x85\\x9d9|?yo\\xe2\\xd6\\xfa\\xb3\\xc3\\xbdG\\xec\\x87\\x1c \\xc3\\x0f\\xf9\\xd0\\x9f\\xb4\\xa7\\xc7\\xab\\xf5e\\xdd\\xa3\\xf6_\\xb1\\x9b\\x8e\\xe1\\xa7em?\\xdf\\n|z\\xbfW\\xfa\\x1b\\x94\\xbe\\xcb\\xf6o\\xef\\xdc:\\xf65\\xb4\\xff\\x00\\x88\\x13b\\xaf\\xd5\\x91\\xd4\\xa5\\xf6C\\x0co\\x0f\\xf9\\xed?\\xe2\\x056*\\xfd_\\xe8\\xb9\\xd3\\xfb/\\xd8\\xb2\\xf0\\x83\\x0c\\x85\\xb9\\x9f\\x88S\\x01{\\x7fP\\x1fr\\xd2\\xd3\\xd6n\\xca,\\xcc\\xaa\\xd2J\\xeeH\\xc8\\xf8I\\x84\\xc8\\xc6\\xb9\\xb8\\x8d5\\x9d\\xb2\\xf2\\x00\\x8fMY\\x7f\\x16EV\\x93^$\\x88\\xb3\\x85\\xf8+\\xa7t#\\x10\\x888\\x1b\\\\\\xdc4\\xf7;a[z*\\xf8\\xe5\\x89\\xcf\\xe4\\xd0n\\xd9\\x0f7\\x0bph\\x01/\\xc4`6\\x17\\xb3Nc\\xe8\\xa4tu\\xe5\\xc4X\\x95z+\\xf9\"\\x1f\\xc78\\x109yq\\xd9{\\x88\\x9for\\xdf\\xfe?Q\\xce?\\xec\\xe6\\xf5z\\x7f\\xb1\\xd4xY\\x83\\xb5\\xe1\\x87\\x10\\x86\\xe4\\x025\\xb8\\xb1\\xed\\xd8\\xb9|J\\xf6\\xbe&\\xf7\\xa8\\xde\\xd9\\x1c\\xd2\\xf0\\xe7\\x02\\x89\\xd65\\x8eq\\xfa\\x10\\xbd\\xde\\xe0\\xba/\\xe9\\xfa\\x87\\xd7\\xfb0\\xf5T\\x17\\xf2\\xff\\x00\\x91\\xa98g\\x82U\\x1b2\\xb4F\\xeb\\xda\\xd34\\xb3\\xde\\x14\\x9e\\x86\\xbcy_\\xa2\\xc7SF_\\xc8\\xb8\\xe1V\\no\\xff\\x00\\xa7J,z\\xdfe\\x9f\\x89]\\x7f\\x16o~\\x8f\\xd9\\x01\\xe16\\x0c\\r\\xbfy\\xd2\\xec\\xbe\\x92\\x02\\x8bK_\\xea\\xcb\\xbdG\\xec\\x89;\\x85\\xd8\\x1b!|\\xaf\\xc4\\xe0kZ.nO\\xa6\\xff\\x00\\x05^\\x92\\xbd\\xff\\x00\\xc5\\x93\\xe4Q\\xb5\\xf2G\\xc5\\xf0\\x97\\xf6\\xa62:\\x0e\\x0fDo{\\x1a\\x99\\x99\\xd5\\xf4[\\x7fS\\xe4\\xbd\\xb4?\\xa7[\\xcd_\\xd1\\xe2\\xad\\xaf\\\\S\\xfd\\x9f\\xcf\\xea\\xf8G\\x8d\\xd6\\x17r\\x9cV\\xb5\\xe1\\xc2\\xceo\\x1c\\xe0\\xd2;\\x86\\x8b\\xe8F\\x85(\\xf1\\x14x\\x1dj\\x8f\\x993\\xcc\\xb9]NcG4\\x91H\\xd9\"{\\x98\\xf6\\x9b\\xb5\\xcc6#\\xc5K&\\xac\\xca\\x9b^Q\\xf54?\\xb4>\\x11\\xd2\\xf1M}[j\\x19\\x19\\xd5\\xb2\\xc6\\tx\\xdcH\\xd5yg\\xa2\\xa3.\\x8fTu\\xb5\\xa3\\xe2\\xe7\\xd8\\xe1\\x7f\\xb5,6r\\xd6bT\\xb3R\\x9bk#?\\x98\\xcb\\xfb\\xfd\\n\\xf0\\xd4\\xfe\\x9d8\\xff\\x00\\x8b\\xb9\\xee\\xa7\\xfdF\\x0f\\xc4\\xd5\\x8f\\xac\\x8b\\x1d\\xc1e\\r|x\\x9d!\\x0f\\x03/\\xf3\\xc7\\xba\\xeb\\xc6\\xe8\\xd5\\\\\\xc5\\x9e\\xe5^\\x9b^$\\x8f@>2\\x01k\\x81\\x07a\\x05s\\xf2uF\\xe6\\x1b\\xc7\\x92\\x86\\xac\\xcf\\xcc\\xed\\x91\\xcd\\xbeW8\\x03\\xb6\\xc6\\xd7_\\xaa?\"vRbs\\xd3\\x80\\xd2\\xe2\\xe8\\xc7Q\\xd6\\xdd\\xc9dU&\\x8fI\\x98\\x83\\\\\\x06J\\xa6\\x00}\\x97\\xe9\\xea\\xad\\x91re%\\xab\\x11F\\x08\\xac\\xa7\\xeei\\x0fR\\xf15\\xe5.I\\x8cD\\x16\\x13\\xcba\\xd3\\xa9\\xd1\\x90O\\xa2\\x7fo\\xa2]\\xfb2\\x0cB\\x9aW\\x01$\\x91\\xb4\\x9d\\xedp\\x1ej7`\\xac\\xce\\xd22j\\xf6Go\\x8c\\t!T\\xca\\xe3n\\x81\\xce\\xd1\\xa70i\\xean\\x9a\\xa0\\x10\\xc8\\xe0\\xedb\\xd7\\xa8\\x88\\xc7\\xaa\\xb6\\x19[\\xa0\\x9aSmb`>^\\x88\\x91\\x1c\\xbf\\x01\\x0b\\xdc\\xfbgk\\x1a\\x06\\xa4\\x9b\\xb4\\x05\\x1f\\x82\\xc5dNi.\\xc2\\xe8\\xa5\\x8c\\xb3\\xac\\xb4\\x82\\x15\\x8bLI5\\xc1\\xce\\xda\\xc3\\x9a\\xcem\\xc0\\xea\\xd8\\xb5c\\x9eCr\\x86;c\\t=w\\xd8\\x96-\\xd1\\x19\\xf1\\x18\\xa1\\xbbc\\x8a\\xef\\xfa\\xdb\\x14d<\\xba\\x9a\\x89*\\x1e\\x1d!\\xbd\\xb4\\x1d\\x8b \\x92\\x00@\\x08\\x01\\x00 \\x04\\x06 -OQ%3\\xc3\\xe1yk\\x81\\xeaB\\xa6\\xd7\\x07\\xa7\\xfcK\\x88\\x8f\\xf2&\\xfcW~k\\x1bt\\xfe\\xab\\xf4t\\xde\\xa9\\xf6\\x7f\\xef\\xfe\\xcf\\x1dl\\xe4\\x08\\x01\\x00 \\x0b\\xe8\\x80\\x10\\x16\\x8a\\xaa\\xa2!h\\xe6\\x91\\xa3pv\\x8aX\\xb7gu>7;l\\'\\x8e9[\\xd6H\\xb1\\xf3K\\x1aS\\xf6V|Z\\x16\\xba\\xf4\\xf0\\xeav\\xdc\\x95H\\xdf\\xa3\\x82\\xa2\\xbe\\xa2w\\xe6\\xce\\xe6\\x0e\\xa6\\xb0\\x90\\x10\\x8d\\xb2\\x0e\\x96G\\xf4\\xde\\xe7w\\xb8\\x94 G4\\x91;4Os]\\xbc\\x14\\x07\\xa0\\xecT\\x88\\x9a\\x19\\x13s\\xdb\\x9cN\\xcf$\\xb9nrM[<\\xc2\\xcey\\x03st\\x08C\\x9e\\xe8\\x01\\x00 \\x04\\x06 \\x04\\x00\\x80\\x10\\x02\\x03P\\x02\\x00@\\x08\\x01\\x00 \\x04\\x00\\x80\\x10\\x02\\x00@\\x08\\x01\\x00 1\\x00 \\x04\\x00\\x80\\x10\\x02\\x00@\\x08\\x01\\x00 \\x04\\x00\\x80\\xd4\\x00\\x80\\x15\\xb8\\x05.\\x01\\x00%\\xc0+p\\n\\x00@\\x08\\x01\\x00 \\x04\\x06 5\\x01\\x88\\x01\\x00 \\x04\\x00\\x80\\x10\\x02\\x03P\\x02\\x03\\x10\\x1a\\x80\\x10\\x02\\x00@\\x08\\x01\\x00 \\x04\\x00\\x80\\x10\\x02\\x00@\\x08\\x01\\x00 \\x04\\x00\\x80\\x10\\x02\\x00@\\x08\\x01\\x00 \\x04\\x00\\x80\\x10\\x1f\\xff\\xd9', b'%PDF-1.3\\r\\n%\\xe2\\xe3\\xcf\\xd3\\r\\n\\r\\n1 0 obj\\r\\n<<\\r\\n/Type /Catalog\\r\\n/Outlines 2 0 R\\r\\n/Pages 3 0 R\\r\\n>>\\r\\nendobj\\r\\n\\r\\n2 0 obj\\r\\n<<\\r\\n/Type /Outlines\\r\\n/Count 0\\r\\n>>\\r\\nendobj\\r\\n\\r\\n3 0 obj\\r\\n<<\\r\\n/Type /Pages\\r\\n/Count 2\\r\\n/Kids [ 4 0 R 6 0 R ] \\r\\n>>\\r\\nendobj\\r\\n\\r\\n4 0 obj\\r\\n<<\\r\\n/Type /Page\\r\\n/Parent 3 0 R\\r\\n/Resources <<\\r\\n/Font <<\\r\\n/F1 9 0 R \\r\\n>>\\r\\n/ProcSet 8 0 R\\r\\n>>\\r\\n/MediaBox [0 0 612.0000 792.0000]\\r\\n/Contents 5 0 R\\r\\n>>\\r\\nendobj\\r\\n\\r\\n5 0 obj\\r\\n<< /Length 1074 >>\\r\\nstream\\r\\n2 J\\r\\nBT\\r\\n0 0 0 rg\\r\\n/F1 0027 Tf\\r\\n57.3750 722.2800 Td\\r\\n( A Simple PDF File ) Tj\\r\\nET\\r\\nBT\\r\\n/F1 0010 Tf\\r\\n69.2500 688.6080 Td\\r\\n( This is a small demonstration .pdf file - ) Tj\\r\\nET\\r\\nBT\\r\\n/F1 0010 Tf\\r\\n69.2500 664.7040 Td\\r\\n( just for use in the Virtual Mechanics tutorials. More text. And more ) Tj\\r\\nET\\r\\nBT\\r\\n/F1 0010 Tf\\r\\n69.2500 652.7520 Td\\r\\n( text. And more text. And more text. And more text. ) Tj\\r\\nET\\r\\nBT\\r\\n/F1 0010 Tf\\r\\n69.2500 628.8480 Td\\r\\n( And more text. And more text. And more text. And more text. And more ) Tj\\r\\nET\\r\\nBT\\r\\n/F1 0010 Tf\\r\\n69.2500 616.8960 Td\\r\\n( text. And more text. Boring, zzzzz. And more text. And more text. And ) Tj\\r\\nET\\r\\nBT\\r\\n/F1 0010 Tf\\r\\n69.2500 604.9440 Td\\r\\n( more text. And more text. And more text. And more text. And more text. ) Tj\\r\\nET\\r\\nBT\\r\\n/F1 0010 Tf\\r\\n69.2500 592.9920 Td\\r\\n( And more text. And more text. ) Tj\\r\\nET\\r\\nBT\\r\\n/F1 0010 Tf\\r\\n69.2500 569.0880 Td\\r\\n( And more text. And more text. And more text. And more text. And more ) Tj\\r\\nET\\r\\nBT\\r\\n/F1 0010 Tf\\r\\n69.2500 557.1360 Td\\r\\n( text. And more text. And more text. Even more. Continued on page 2 ...) Tj\\r\\nET\\r\\nendstream\\r\\nendobj\\r\\n\\r\\n6 0 obj\\r\\n<<\\r\\n/Type /Page\\r\\n/Parent 3 0 R\\r\\n/Resources <<\\r\\n/Font <<\\r\\n/F1 9 0 R \\r\\n>>\\r\\n/ProcSet 8 0 R\\r\\n>>\\r\\n/MediaBox [0 0 612.0000 792.0000]\\r\\n/Contents 7 0 R\\r\\n>>\\r\\nendobj\\r\\n\\r\\n7 0 obj\\r\\n<< /Length 676 >>\\r\\nstream\\r\\n2 J\\r\\nBT\\r\\n0 0 0 rg\\r\\n/F1 0027 Tf\\r\\n57.3750 722.2800 Td\\r\\n( Simple PDF File 2 ) Tj\\r\\nET\\r\\nBT\\r\\n/F1 0010 Tf\\r\\n69.2500 688.6080 Td\\r\\n( ...continued from page 1. Yet more text. And more text. And more text. ) Tj\\r\\nET\\r\\nBT\\r\\n/F1 0010 Tf\\r\\n69.2500 676.6560 Td\\r\\n( And more text. And more text. And more text. And more text. And more ) Tj\\r\\nET\\r\\nBT\\r\\n/F1 0010 Tf\\r\\n69.2500 664.7040 Td\\r\\n( text. Oh, how boring typing this stuff. But not as boring as watching ) Tj\\r\\nET\\r\\nBT\\r\\n/F1 0010 Tf\\r\\n69.2500 652.7520 Td\\r\\n( paint dry. And more text. And more text. And more text. And more text. ) Tj\\r\\nET\\r\\nBT\\r\\n/F1 0010 Tf\\r\\n69.2500 640.8000 Td\\r\\n( Boring.  More, a little more text. The end, and just as well. ) Tj\\r\\nET\\r\\nendstream\\r\\nendobj\\r\\n\\r\\n8 0 obj\\r\\n[/PDF /Text]\\r\\nendobj\\r\\n\\r\\n9 0 obj\\r\\n<<\\r\\n/Type /Font\\r\\n/Subtype /Type1\\r\\n/Name /F1\\r\\n/BaseFont /Helvetica\\r\\n/Encoding /WinAnsiEncoding\\r\\n>>\\r\\nendobj\\r\\n\\r\\n10 0 obj\\r\\n<<\\r\\n/Creator (Rave \\\\(http://www.nevrona.com/rave\\\\))\\r\\n/Producer (Nevrona Designs)\\r\\n/CreationDate (D:20060301072826)\\r\\n>>\\r\\nendobj\\r\\n\\r\\nxref\\r\\n0 11\\r\\n0000000000 65535 f\\r\\n0000000019 00000 n\\r\\n0000000093 00000 n\\r\\n0000000147 00000 n\\r\\n0000000222 00000 n\\r\\n0000000390 00000 n\\r\\n0000001522 00000 n\\r\\n0000001690 00000 n\\r\\n0000002423 00000 n\\r\\n0000002456 00000 n\\r\\n0000002574 00000 n\\r\\n\\r\\ntrailer\\r\\n<<\\r\\n/Size 11\\r\\n/Root 1 0 R\\r\\n/Info 10 0 R\\r\\n>>\\r\\n\\r\\nstartxref\\r\\n2714\\r\\n%%EOF\\r\\n')]\n"
          ]
        }
      ]
    },
    {
      "cell_type": "code",
      "source": [
        "def writeToFile(data, fileName):\n",
        "  #Convert binary data to proper format\n",
        "  with open(fileName, 'wb') as file:\n",
        "    file.write(data)\n",
        "\n",
        "def readBlobData(empId):\n",
        "  conn=sqlite3.connect('EmployeeDatabase.db')\n",
        "  curr=conn.cursor()\n",
        "  sql1='select * from newEMP where id=?'\n",
        "  curr.execute(sql1, (empId,))\n",
        "  record=curr.fetchall()\n",
        "  for row in record:\n",
        "    print(\"ID=\", row[0], \"Name=\", row[1])\n",
        "    name=row[1]\n",
        "    photo=row[2]\n",
        "    resumeFile=row[3]\n",
        "    photoPath='/content/'+name+'.jpeg'\n",
        "    resumePath='/content/'+name+'_resume.pdf' \n",
        "    \n",
        "    writeToFile(photo, photoPath)\n",
        "    writeToFile(resumeFile, resumePath)\n",
        "\n",
        "\n",
        "readBlobData(1)"
      ],
      "metadata": {
        "colab": {
          "base_uri": "https://localhost:8080/"
        },
        "id": "n6IJr0X25Oim",
        "outputId": "b6e96c99-e6e7-4f5e-d222-75cd8c98e3bf"
      },
      "execution_count": null,
      "outputs": [
        {
          "output_type": "stream",
          "name": "stdout",
          "text": [
            "ID= 1 Name= images\n"
          ]
        }
      ]
    },
    {
      "cell_type": "markdown",
      "source": [
        "### **Home Assignment**"
      ],
      "metadata": {
        "id": "r0JJIvJG2W4b"
      }
    },
    {
      "cell_type": "code",
      "source": [
        "#a)Create the Doctor and Hospital Table following the data model described above.\n",
        "import sqlite3\n",
        "conn=sqlite3.connect('Hospital.db')\n",
        "curr=conn.cursor()\n",
        "\n",
        "curr.execute('create table Hospital(hospital_id int primary key, hospital_name text, bed_count int)')\n",
        "print('Hospital Created!')\n",
        "curr.execute('create table Doctor(doctor_id int, doctor_name text, hospital_id int, joining_date text, speciality text, salary int, experience int,FOREIGN KEY (hospital_id) REFERENCES Hospital(hospital_id))')\n",
        "print('Doctor Created!')"
      ],
      "metadata": {
        "colab": {
          "base_uri": "https://localhost:8080/"
        },
        "id": "ly4KvWPl29bt",
        "outputId": "b1de944d-8de0-4f69-db05-82971322010d"
      },
      "execution_count": null,
      "outputs": [
        {
          "output_type": "stream",
          "name": "stdout",
          "text": [
            "Hospital Created!\n",
            "Doctor Created!\n"
          ]
        }
      ]
    },
    {
      "cell_type": "code",
      "source": [
        "curr.execute('drop table Hospital')\n",
        "curr.execute('drop table Doctor')"
      ],
      "metadata": {
        "colab": {
          "base_uri": "https://localhost:8080/"
        },
        "id": "uN0FjoAxVqgg",
        "outputId": "3ce0036b-afe6-4ea7-acf8-c3081349d282"
      },
      "execution_count": null,
      "outputs": [
        {
          "output_type": "execute_result",
          "data": {
            "text/plain": [
              "<sqlite3.Cursor at 0x7f30c38a9880>"
            ]
          },
          "metadata": {},
          "execution_count": 4
        }
      ]
    },
    {
      "cell_type": "code",
      "source": [
        "curr.execute('select * from sqlite_master')\n",
        "print(curr.fetchall())"
      ],
      "metadata": {
        "colab": {
          "base_uri": "https://localhost:8080/"
        },
        "id": "grkQvLYJ6MxD",
        "outputId": "290af57b-ce80-479c-9828-a4b772641e67"
      },
      "execution_count": null,
      "outputs": [
        {
          "output_type": "stream",
          "name": "stdout",
          "text": [
            "[('table', 'Hospital', 'Hospital', 2, 'CREATE TABLE Hospital(hospital_id int primary key, hospital_name varchar2(20), bed_count int)'), ('index', 'sqlite_autoindex_Hospital_1', 'Hospital', 3, None), ('table', 'Doctor', 'Doctor', 4, 'CREATE TABLE Doctor(doctor_id int, doctor_name varchar2(20), hostpital_id int, joining_date date, speciality varchar2, salary int, experience int)')]\n"
          ]
        }
      ]
    },
    {
      "cell_type": "code",
      "source": [
        "def insertHospital(id, name, bed):\n",
        "  z='insert into Hospital(hospital_id, hospital_name, bed_count)values(?,?,?)'\n",
        "  dataTuples=(id, name, bed)\n",
        "  curr.execute(z, dataTuples)\n",
        "\n",
        "insertHospital(1, 'Mayo Clinic', 200)\n",
        "insertHospital(2, 'Cleveland Clinic',400) \n",
        "insertHospital(3, 'Johns Hopkins', 1000)\n",
        "insertHospital(4, 'UCLA Medical Center', 1500)\n",
        "\n",
        "print('Data inserted into Hospital')\n",
        "curr.execute('select * from Hospital')\n",
        "print(curr.fetchall())"
      ],
      "metadata": {
        "id": "Q0dLwP6f468L",
        "colab": {
          "base_uri": "https://localhost:8080/"
        },
        "outputId": "a98d9c98-6102-4bef-f311-58dfd4bb7d52"
      },
      "execution_count": null,
      "outputs": [
        {
          "output_type": "stream",
          "name": "stdout",
          "text": [
            "Data inserted into Hospital\n",
            "[(1, 'Mayo Clinic', 200), (2, 'Cleveland Clinic', 400), (3, 'Johns Hopkins', 1000), (4, 'UCLA Medical Center', 1500)]\n"
          ]
        }
      ]
    },
    {
      "cell_type": "code",
      "source": [
        "def insertDoctor(id, name, hospital_id, joinDate, spec, sal, exp):\n",
        "  z='insert into Doctor(doctor_id, doctor_name, hospital_id, joining_date, speciality, salary, experience)values(?,?,?,?,?,?,?);'\n",
        "  dataTuples=(id, name, hospital_id, joinDate, spec, sal, exp)\n",
        "  curr.execute(z, dataTuples)\n",
        "\n",
        "insertDoctor(101, 'David', 1, '2005-02-10', 'Pediatric', 40000, \"NULL\")\n",
        "insertDoctor(102, 'Micheal', 1, '2018-07-23', 'Oncologist', 20000, \"NULL\")\n",
        "insertDoctor(103, 'Susan', 2, '2016-05-19', 'Garnacologist', 25000, \"NULL\")\n",
        "insertDoctor(104, 'Robert', 2, '2017-12-28', 'Pediatric', 28000, \"NULL\")\n",
        "insertDoctor(105, 'Linda', 3, '2004-06-04', 'Garnacologist', 42000, \"NULL\")\n",
        "insertDoctor(106, 'William', 3, '2012-09-11', 'Dermatologist', 30000, \"NULL\")\n",
        "insertDoctor(107, 'Richard', 4, '2014-08-21', 'Garnacologist', 32000, \"NULL\")\n",
        "insertDoctor(108, 'Karen', 4, '2011-10-17', 'Radiologist', 30000, \"NULL\")\n",
        "\n",
        "print('Data inserted into Doctor')\n",
        "curr.execute('select * from Doctor')\n",
        "print(curr.fetchall())"
      ],
      "metadata": {
        "colab": {
          "base_uri": "https://localhost:8080/"
        },
        "id": "BFAluQ6-Wy23",
        "outputId": "e709d205-8765-4e3f-ee59-1ff3e92a313e"
      },
      "execution_count": null,
      "outputs": [
        {
          "output_type": "stream",
          "name": "stdout",
          "text": [
            "Data inserted into Doctor\n",
            "[(101, 'David', 1, '2005-02-10', 'Pediatric', 40000, 'NULL'), (102, 'Micheal', 1, '2018-07-23', 'Oncologist', 20000, 'NULL'), (103, 'Susan', 2, '2016-05-19', 'Garnacologist', 25000, 'NULL'), (104, 'Robert', 2, '2017-12-28', 'Pediatric', 28000, 'NULL'), (105, 'Linda', 3, '2004-06-04', 'Garnacologist', 42000, 'NULL'), (106, 'William', 3, '2012-09-11', 'Dermatologist', 30000, 'NULL'), (107, 'Richard', 4, '2014-08-21', 'Garnacologist', 32000, 'NULL'), (108, 'Karen', 4, '2011-10-17', 'Radiologist', 30000, 'NULL')]\n"
          ]
        }
      ]
    },
    {
      "cell_type": "code",
      "source": [
        "curr.executescript('INSERT INTO Doctor (Doctor_Id, Doctor_Name, Hospital_Id, Joining_Date, Speciality, Salary, Experience) \\\n",
        "              VALUES \\\n",
        "              (101  \"David\", 1, '2005-02-10', \"Pediatric\", 40000, NULL),\\ \n",
        "              (102, \"Michael\", 1, '2018-07-23', \"Oncologist\", 20000, NULL), \\ \n",
        "              (103, \"Susan\",2, '2016-05-19', \"Garnacologist\", 25000, NULL), \\\n",
        "              (104, \"Robert\", 2, '2017-12-28', \"Pediatric\", 28000, NULL), \\\n",
        "              (105, \"Linda\",3, '2004-06-04', \"Garnacologist\", 42000, NULL), \\\n",
        "              (106, \"William\", 3, '2012-09-11', \"Dermatologist\", 30000, NULL), \\\n",
        "              (107, \"Richard\", 4, '2014-08-21', \"Garnacologist\", 32000, NULL), \\\n",
        "              (108, \"Karen\",4, '2011-10-17', \"Radiologist\", 30000, NULL);')"
      ],
      "metadata": {
        "colab": {
          "base_uri": "https://localhost:8080/",
          "height": 130
        },
        "id": "CbpP7njRmdqi",
        "outputId": "1c1215c4-0e03-4404-b41c-fe7e5b030b14"
      },
      "execution_count": null,
      "outputs": [
        {
          "output_type": "error",
          "ename": "SyntaxError",
          "evalue": "ignored",
          "traceback": [
            "\u001b[0;36m  File \u001b[0;32m\"<ipython-input-4-3fcc638b4b5a>\"\u001b[0;36m, line \u001b[0;32m3\u001b[0m\n\u001b[0;31m    (101  \"David\", 1, '2005-02-10', \"Pediatric\", 40000, NULL),\\\u001b[0m\n\u001b[0m                       ^\u001b[0m\n\u001b[0;31mSyntaxError\u001b[0m\u001b[0;31m:\u001b[0m invalid syntax\n"
          ]
        }
      ]
    },
    {
      "cell_type": "code",
      "source": [
        "#b)Implement the functionality to read the details of a given doctor from the doctor table and Hospital from the hospital table. \n",
        "#i.e., read records from Hospital and Doctor Table as per given hospital Id and Doctor Id.\n",
        "\n",
        "hosId=eval(input('Enter hospitalID: '))\n",
        "z='select * from Hospital where (hospital_id=?)'\n",
        "result=curr.execute(z, (hosId,))\n",
        "#print(curr.fetchall())\n",
        "\n",
        "for row in result:\n",
        "  print('Hospital Name: ', row[1])\n",
        "  print('Bed Count: ', row[2])"
      ],
      "metadata": {
        "colab": {
          "base_uri": "https://localhost:8080/"
        },
        "id": "RY3pO1AVb8YV",
        "outputId": "68c2a00e-d550-453c-b7ef-0249e4ead0d3"
      },
      "execution_count": null,
      "outputs": [
        {
          "output_type": "stream",
          "name": "stdout",
          "text": [
            "Enter hospitalID: 1\n",
            "Hospital Name:  Mayo Clinic\n",
            "Bed Count:  200\n"
          ]
        }
      ]
    },
    {
      "cell_type": "code",
      "source": [
        "#c)Fetch all doctors whose salary higher than the input amount and specialty is the same as the input specialty.\n",
        "\n",
        "\n",
        "\n",
        "docId=eval(input('Enter doctorID: '))\n",
        "z='select * from Doctor where (doctor_id=?)'\n",
        "result=curr.execute(z, (docId,))\n",
        "#print(curr.fetchall())\n",
        "\n",
        "for row in result:\n",
        "  print('Doctor Name: ', row[1])\n",
        "  print('Hospital ID: ', row[2])\n",
        "  print('Joining Date: ', row[3])\n",
        "  print('Speciality: ', row[4])\n",
        "  print('Salary: ', row[5])\n",
        "  print('Experience: ', row[6])"
      ],
      "metadata": {
        "colab": {
          "base_uri": "https://localhost:8080/"
        },
        "id": "WifGBkjNgI4U",
        "outputId": "384d3adb-6413-4dd3-8ec9-bef989e809e0"
      },
      "execution_count": null,
      "outputs": [
        {
          "output_type": "stream",
          "name": "stdout",
          "text": [
            "Enter doctorID: 105\n",
            "Doctor Name:  Linda\n",
            "Hospital ID:  3\n",
            "Joining Date:  2004-06-04\n",
            "Speciality:  Garnacologist\n",
            "Salary:  42000\n",
            "Experience:  \n"
          ]
        }
      ]
    },
    {
      "cell_type": "code",
      "source": [
        "#d)The value of the experience column for each doctor is null. Implement the functionality to update the experience of a given doctor in years.\n",
        "\n",
        "\n",
        "\n",
        "\n",
        "\n",
        "\n",
        "\n"
      ],
      "metadata": {
        "colab": {
          "base_uri": "https://localhost:8080/",
          "height": 252
        },
        "id": "7lwceiWkkxZd",
        "outputId": "99f7cf8d-432e-482c-cba7-8b6b03607044"
      },
      "execution_count": null,
      "outputs": [
        {
          "name": "stdout",
          "output_type": "stream",
          "text": [
            "EBter the nameof doctor:\n"
          ]
        },
        {
          "output_type": "error",
          "ename": "TypeError",
          "evalue": "ignored",
          "traceback": [
            "\u001b[0;31m---------------------------------------------------------------------------\u001b[0m",
            "\u001b[0;31mTypeError\u001b[0m                                 Traceback (most recent call last)",
            "\u001b[0;32m<ipython-input-4-f4e94d21bd9f>\u001b[0m in \u001b[0;36m<module>\u001b[0;34m\u001b[0m\n\u001b[1;32m      4\u001b[0m \u001b[0;34m\u001b[0m\u001b[0m\n\u001b[1;32m      5\u001b[0m \u001b[0mdocName\u001b[0m\u001b[0;34m=\u001b[0m\u001b[0minput\u001b[0m\u001b[0;34m(\u001b[0m\u001b[0;34m'EBter the nameof doctor:'\u001b[0m\u001b[0;34m)\u001b[0m\u001b[0;34m;\u001b[0m\u001b[0;34m\u001b[0m\u001b[0;34m\u001b[0m\u001b[0m\n\u001b[0;32m----> 6\u001b[0;31m \u001b[0mcurr\u001b[0m\u001b[0;34m.\u001b[0m\u001b[0mexecute\u001b[0m\u001b[0;34m(\u001b[0m\u001b[0;34m)\u001b[0m\u001b[0;34m\u001b[0m\u001b[0;34m\u001b[0m\u001b[0m\n\u001b[0m\u001b[1;32m      7\u001b[0m \u001b[0;34m\u001b[0m\u001b[0m\n\u001b[1;32m      8\u001b[0m \u001b[0;34m\u001b[0m\u001b[0m\n",
            "\u001b[0;31mTypeError\u001b[0m: function takes at least 1 argument (0 given)"
          ]
        }
      ]
    },
    {
      "cell_type": "code",
      "source": [
        "#e) Implement a functionality to find out the details of hospitals with more than 50 doctors.\n",
        "\n",
        "\n"
      ],
      "metadata": {
        "id": "TodAUzDXlXGK"
      },
      "execution_count": null,
      "outputs": []
    }
  ]
}
{
  "nbformat": 4,
  "nbformat_minor": 0,
  "metadata": {
    "colab": {
      "provenance": [],
      "authorship_tag": "ABX9TyOAt0MOK1u39vBGuwzUN32j",
      "include_colab_link": true
    },
    "kernelspec": {
      "name": "python3",
      "display_name": "Python 3"
    },
    "language_info": {
      "name": "python"
    }
  },
  "cells": [
    {
      "cell_type": "markdown",
      "metadata": {
        "id": "view-in-github",
        "colab_type": "text"
      },
      "source": [
        "<a href=\"https://colab.research.google.com/github/HarshrajSharma/DataAnalytics/blob/main/DataAnalyticsDay9.ipynb\" target=\"_parent\"><img src=\"https://colab.research.google.com/assets/colab-badge.svg\" alt=\"Open In Colab\"/></a>"
      ]
    },
    {
      "cell_type": "markdown",
      "source": [
        "### **File Handling**"
      ],
      "metadata": {
        "id": "aOq7mbKCVE6m"
      }
    },
    {
      "cell_type": "code",
      "execution_count": null,
      "metadata": {
        "id": "nOnpR0glR6Qp"
      },
      "outputs": [],
      "source": [
        "import random \n",
        "f=open('ab', 'w')\n",
        "\n",
        "for i in range(1,101):\n",
        "  z=random.randint(5,9)\n",
        "  f.write(str(z))\n",
        "f.close()\n",
        "f=open('ab', 'r')\n",
        "a=f.read()\n",
        "print(len(a))\n",
        "for i in range(len(a)):\n",
        "  print(a[i])\n",
        "print('The max and min number in the file is: ', max(a), min(a))\n",
        "f.close()"
      ]
    },
    {
      "cell_type": "code",
      "source": [
        "from itertools import repeat\n",
        "new_list=[]\n",
        "new_list.extend(repeat(2,200))\n",
        "print(new_list)"
      ],
      "metadata": {
        "colab": {
          "base_uri": "https://localhost:8080/"
        },
        "id": "c1HilP_DVEJ9",
        "outputId": "6adab269-b522-4ba9-e890-f77c9cec9776"
      },
      "execution_count": 6,
      "outputs": [
        {
          "output_type": "stream",
          "name": "stdout",
          "text": [
            "[2, 2, 2, 2, 2, 2, 2, 2, 2, 2, 2, 2, 2, 2, 2, 2, 2, 2, 2, 2, 2, 2, 2, 2, 2, 2, 2, 2, 2, 2, 2, 2, 2, 2, 2, 2, 2, 2, 2, 2, 2, 2, 2, 2, 2, 2, 2, 2, 2, 2, 2, 2, 2, 2, 2, 2, 2, 2, 2, 2, 2, 2, 2, 2, 2, 2, 2, 2, 2, 2, 2, 2, 2, 2, 2, 2, 2, 2, 2, 2, 2, 2, 2, 2, 2, 2, 2, 2, 2, 2, 2, 2, 2, 2, 2, 2, 2, 2, 2, 2, 2, 2, 2, 2, 2, 2, 2, 2, 2, 2, 2, 2, 2, 2, 2, 2, 2, 2, 2, 2, 2, 2, 2, 2, 2, 2, 2, 2, 2, 2, 2, 2, 2, 2, 2, 2, 2, 2, 2, 2, 2, 2, 2, 2, 2, 2, 2, 2, 2, 2, 2, 2, 2, 2, 2, 2, 2, 2, 2, 2, 2, 2, 2, 2, 2, 2, 2, 2, 2, 2, 2, 2, 2, 2, 2, 2, 2, 2, 2, 2, 2, 2, 2, 2, 2, 2, 2, 2, 2, 2, 2, 2, 2, 2, 2, 2, 2, 2, 2, 2]\n"
          ]
        }
      ]
    },
    {
      "cell_type": "code",
      "source": [
        "import pandas as pd\n",
        "import sklearn as sk\n",
        "from sklearn.datasets import load_iris\n",
        "\n",
        "iris_obj=load_iris();\n",
        "print(iris_obj.feature_names)\n",
        "print(iris_obj.target)\n",
        "print(iris_obj.target_names) #Here 0-> Setosa, 1-> Versicolor, 2-> Virginica\n"
      ],
      "metadata": {
        "colab": {
          "base_uri": "https://localhost:8080/"
        },
        "id": "vkV-SkxRVvYn",
        "outputId": "72e7f9c7-815b-4887-b5dd-98febe957fe5"
      },
      "execution_count": 15,
      "outputs": [
        {
          "output_type": "stream",
          "name": "stdout",
          "text": [
            "['sepal length (cm)', 'sepal width (cm)', 'petal length (cm)', 'petal width (cm)']\n",
            "[0 0 0 0 0 0 0 0 0 0 0 0 0 0 0 0 0 0 0 0 0 0 0 0 0 0 0 0 0 0 0 0 0 0 0 0 0\n",
            " 0 0 0 0 0 0 0 0 0 0 0 0 0 1 1 1 1 1 1 1 1 1 1 1 1 1 1 1 1 1 1 1 1 1 1 1 1\n",
            " 1 1 1 1 1 1 1 1 1 1 1 1 1 1 1 1 1 1 1 1 1 1 1 1 1 1 2 2 2 2 2 2 2 2 2 2 2\n",
            " 2 2 2 2 2 2 2 2 2 2 2 2 2 2 2 2 2 2 2 2 2 2 2 2 2 2 2 2 2 2 2 2 2 2 2 2 2\n",
            " 2 2]\n",
            "['setosa' 'versicolor' 'virginica']\n"
          ]
        }
      ]
    },
    {
      "cell_type": "code",
      "source": [
        "print(iris_obj.data.shape[1])  #shape[0] -> Number of records, shape[1] -> Number of features\n",
        "\n",
        "\n",
        "iris=pd.DataFrame(iris_obj.data, columns=iris_obj.feature_names, index=pd.Index(i for i in range(iris_obj.data.shape[0]))).join(pd.DataFrame(iris_obj.target, columns=pd.Index(['Species']), index=pd.Index([i for i in range(iris_obj.data.shape[0])])))\n",
        "                                                                                                                                                                                                                              \n",
        "print(iris)\n",
        "print(len(iris.index))\n",
        "\n",
        "print(iris.iloc[0:9, 0:2]) #Sequential selection of columns\n",
        "print(iris.iloc[[3,5], [2,4]]) #Random selection of columns => iloc[[<Row Number>, <Column Number>]], [<Row Number>, <Column Number>]]\n",
        "print(iris.columns)\n",
        "print(iris.iloc[0:120, 0:-2])  #Here -2 means it will remove last 2 columns and print\n",
        "\n",
        "newNames={\n",
        "    'sepal length (cm)': 'SepalLength',\n",
        "    'sepal width (cm)':'sepal width',\n",
        "    'petal length (cm)':'petal length',\n",
        "    'petal width (cm)':'petal width'\n",
        "}\n",
        "newDataset=iris.rename(columns=newNames, inplace=True) # inPlace=True will change the names in the original datasets\n",
        "print(iris)\n",
        "print(iris.info)\n",
        "print(newDataset) # None -> inplace=True, Table -> inplace=False\n",
        "\n",
        "iris.Species.replace({'0':'Setosa', '1':'Versicolor','2':'Virginica'})\n",
        "\n",
        "iris_grps=iris.groupby('Species')\n",
        "for name, data in iris_grps:\n",
        "  print(name)\n",
        "  print(data.iloc[0:9, 0:2])\n",
        "  print(data.max())\n",
        "  print(data.SepalLength.max())"
      ],
      "metadata": {
        "colab": {
          "base_uri": "https://localhost:8080/"
        },
        "id": "DxD-tqjpYhqv",
        "outputId": "97e20bed-aeca-49a7-b094-1bfa2bb0f289"
      },
      "execution_count": 33,
      "outputs": [
        {
          "output_type": "stream",
          "name": "stdout",
          "text": [
            "4\n",
            "     sepal length (cm)  sepal width (cm)  petal length (cm)  petal width (cm)  \\\n",
            "0                  5.1               3.5                1.4               0.2   \n",
            "1                  4.9               3.0                1.4               0.2   \n",
            "2                  4.7               3.2                1.3               0.2   \n",
            "3                  4.6               3.1                1.5               0.2   \n",
            "4                  5.0               3.6                1.4               0.2   \n",
            "..                 ...               ...                ...               ...   \n",
            "145                6.7               3.0                5.2               2.3   \n",
            "146                6.3               2.5                5.0               1.9   \n",
            "147                6.5               3.0                5.2               2.0   \n",
            "148                6.2               3.4                5.4               2.3   \n",
            "149                5.9               3.0                5.1               1.8   \n",
            "\n",
            "     Species  \n",
            "0          0  \n",
            "1          0  \n",
            "2          0  \n",
            "3          0  \n",
            "4          0  \n",
            "..       ...  \n",
            "145        2  \n",
            "146        2  \n",
            "147        2  \n",
            "148        2  \n",
            "149        2  \n",
            "\n",
            "[150 rows x 5 columns]\n",
            "150\n",
            "   sepal length (cm)  sepal width (cm)\n",
            "0                5.1               3.5\n",
            "1                4.9               3.0\n",
            "2                4.7               3.2\n",
            "3                4.6               3.1\n",
            "4                5.0               3.6\n",
            "5                5.4               3.9\n",
            "6                4.6               3.4\n",
            "7                5.0               3.4\n",
            "8                4.4               2.9\n",
            "   petal length (cm)  Species\n",
            "3                1.5        0\n",
            "5                1.7        0\n",
            "Index(['sepal length (cm)', 'sepal width (cm)', 'petal length (cm)',\n",
            "       'petal width (cm)', 'Species'],\n",
            "      dtype='object')\n",
            "     sepal length (cm)  sepal width (cm)  petal length (cm)\n",
            "0                  5.1               3.5                1.4\n",
            "1                  4.9               3.0                1.4\n",
            "2                  4.7               3.2                1.3\n",
            "3                  4.6               3.1                1.5\n",
            "4                  5.0               3.6                1.4\n",
            "..                 ...               ...                ...\n",
            "115                6.4               3.2                5.3\n",
            "116                6.5               3.0                5.5\n",
            "117                7.7               3.8                6.7\n",
            "118                7.7               2.6                6.9\n",
            "119                6.0               2.2                5.0\n",
            "\n",
            "[120 rows x 3 columns]\n",
            "     SepalLength  sepal width  petal length  petal width  Species\n",
            "0            5.1          3.5           1.4          0.2        0\n",
            "1            4.9          3.0           1.4          0.2        0\n",
            "2            4.7          3.2           1.3          0.2        0\n",
            "3            4.6          3.1           1.5          0.2        0\n",
            "4            5.0          3.6           1.4          0.2        0\n",
            "..           ...          ...           ...          ...      ...\n",
            "145          6.7          3.0           5.2          2.3        2\n",
            "146          6.3          2.5           5.0          1.9        2\n",
            "147          6.5          3.0           5.2          2.0        2\n",
            "148          6.2          3.4           5.4          2.3        2\n",
            "149          5.9          3.0           5.1          1.8        2\n",
            "\n",
            "[150 rows x 5 columns]\n",
            "<bound method DataFrame.info of      SepalLength  sepal width  petal length  petal width  Species\n",
            "0            5.1          3.5           1.4          0.2        0\n",
            "1            4.9          3.0           1.4          0.2        0\n",
            "2            4.7          3.2           1.3          0.2        0\n",
            "3            4.6          3.1           1.5          0.2        0\n",
            "4            5.0          3.6           1.4          0.2        0\n",
            "..           ...          ...           ...          ...      ...\n",
            "145          6.7          3.0           5.2          2.3        2\n",
            "146          6.3          2.5           5.0          1.9        2\n",
            "147          6.5          3.0           5.2          2.0        2\n",
            "148          6.2          3.4           5.4          2.3        2\n",
            "149          5.9          3.0           5.1          1.8        2\n",
            "\n",
            "[150 rows x 5 columns]>\n",
            "None\n",
            "0\n",
            "   SepalLength  sepal width\n",
            "0          5.1          3.5\n",
            "1          4.9          3.0\n",
            "2          4.7          3.2\n",
            "3          4.6          3.1\n",
            "4          5.0          3.6\n",
            "5          5.4          3.9\n",
            "6          4.6          3.4\n",
            "7          5.0          3.4\n",
            "8          4.4          2.9\n",
            "SepalLength     5.8\n",
            "sepal width     4.4\n",
            "petal length    1.9\n",
            "petal width     0.6\n",
            "Species         0.0\n",
            "dtype: float64\n",
            "5.8\n",
            "1\n",
            "    SepalLength  sepal width\n",
            "50          7.0          3.2\n",
            "51          6.4          3.2\n",
            "52          6.9          3.1\n",
            "53          5.5          2.3\n",
            "54          6.5          2.8\n",
            "55          5.7          2.8\n",
            "56          6.3          3.3\n",
            "57          4.9          2.4\n",
            "58          6.6          2.9\n",
            "SepalLength     7.0\n",
            "sepal width     3.4\n",
            "petal length    5.1\n",
            "petal width     1.8\n",
            "Species         1.0\n",
            "dtype: float64\n",
            "7.0\n",
            "2\n",
            "     SepalLength  sepal width\n",
            "100          6.3          3.3\n",
            "101          5.8          2.7\n",
            "102          7.1          3.0\n",
            "103          6.3          2.9\n",
            "104          6.5          3.0\n",
            "105          7.6          3.0\n",
            "106          4.9          2.5\n",
            "107          7.3          2.9\n",
            "108          6.7          2.5\n",
            "SepalLength     7.9\n",
            "sepal width     3.8\n",
            "petal length    6.9\n",
            "petal width     2.5\n",
            "Species         2.0\n",
            "dtype: float64\n",
            "7.9\n"
          ]
        }
      ]
    },
    {
      "cell_type": "code",
      "source": [
        "import pandas as pd\n",
        "import sklearn as sk\n",
        "from sklearn.cluster import KMeans\n",
        "import matplotlib.pyplot as plt\n",
        "\n",
        "mydata={'country':['USA', 'Canada', 'France', 'UK', 'Germany', 'Australia'],\n",
        "        'latitude':[44.97, 62.78, 65.66, 47.8, 112.4, 123.6],\n",
        "        'longitude':[45.7, 67.8, 69.4, 48.5, 120.45, 127.6],\n",
        "        'language':['English', 'English', 'French', 'English', 'German', 'English']\n",
        "        }\n",
        "df=pd.DataFrame(mydata)\n",
        "df.to_csv('country.csv')\n",
        "\n",
        "plt.scatter(df['latitude'], df['longitude'])\n",
        "plt.xlim(-180, 180)\n",
        "plt.show()\n",
        "\n",
        "x=df.iloc[: , 1:3]\n",
        "\n",
        "numberOfClusters=3\n",
        "kmeans=KMeans(numberOfClusters) #Necessary parameter for KMeans is number of clusters, there a re many optional parameters also.\n",
        "kmeans.fit(x)\n",
        "identified_clusters=kmeans.fit_predict(x)\n",
        "print(identified_clusters)\n",
        "\n",
        "data_clusters=df.copy()\n",
        "data_clusters['Clusters']=identified_clusters\n",
        "plt.scatter(data_clusters['longitude'], data_clusters['latitude'], c=data_clusters['Clusters'])\n",
        "\n",
        "\n",
        "#Elbow Method: Elbow method is used for finding out the optimal value of K where K is the of clusters.\n",
        "\n",
        "\n",
        "wcss_iter=[]  #This will contain the sum sqaure error value for each K\n",
        "for i in range(1,5):\n",
        "  kmeans=KMeans(i)\n",
        "  kmeans.fit(x)\n",
        "  wcss_iter.append(str(kmeans.inertia_))\n",
        "\n",
        "print('Sum Square Error Values: ', wcss_iter)\n",
        "\n"
      ],
      "metadata": {
        "colab": {
          "base_uri": "https://localhost:8080/",
          "height": 1000
        },
        "id": "OEXO1dgZkb5a",
        "outputId": "b633a8d5-edf0-4d47-fe8b-0ae6f3b81958"
      },
      "execution_count": 56,
      "outputs": [
        {
          "output_type": "display_data",
          "data": {
            "text/plain": [
              "<Figure size 640x480 with 1 Axes>"
            ],
            "image/png": "[encoded data removed]"
          },
          "metadata": {}
        },
        {
          "output_type": "stream",
          "name": "stderr",
          "text": [
            "/usr/local/lib/python3.9/dist-packages/sklearn/cluster/_kmeans.py:870: FutureWarning: The default value of `n_init` will change from 10 to 'auto' in 1.4. Set the value of `n_init` explicitly to suppress the warning\n",
            "  warnings.warn(\n",
            "/usr/local/lib/python3.9/dist-packages/sklearn/cluster/_kmeans.py:870: FutureWarning: The default value of `n_init` will change from 10 to 'auto' in 1.4. Set the value of `n_init` explicitly to suppress the warning\n",
            "  warnings.warn(\n",
            "/usr/local/lib/python3.9/dist-packages/sklearn/cluster/_kmeans.py:870: FutureWarning: The default value of `n_init` will change from 10 to 'auto' in 1.4. Set the value of `n_init` explicitly to suppress the warning\n",
            "  warnings.warn(\n",
            "/usr/local/lib/python3.9/dist-packages/sklearn/cluster/_kmeans.py:870: FutureWarning: The default value of `n_init` will change from 10 to 'auto' in 1.4. Set the value of `n_init` explicitly to suppress the warning\n",
            "  warnings.warn(\n",
            "/usr/local/lib/python3.9/dist-packages/sklearn/cluster/_kmeans.py:870: FutureWarning: The default value of `n_init` will change from 10 to 'auto' in 1.4. Set the value of `n_init` explicitly to suppress the warning\n",
            "  warnings.warn(\n",
            "/usr/local/lib/python3.9/dist-packages/sklearn/cluster/_kmeans.py:870: FutureWarning: The default value of `n_init` will change from 10 to 'auto' in 1.4. Set the value of `n_init` explicitly to suppress the warning\n",
            "  warnings.warn(\n"
          ]
        },
        {
          "output_type": "stream",
          "name": "stdout",
          "text": [
            "[0 2 2 0 1 1]\n",
            "Sum Square Error Values:  ['11962.112966666666', '881.9701249999998', '101.63289999999981', '13.351649999999989']\n"
          ]
        },
        {
          "output_type": "display_data",
          "data": {
            "text/plain": [
              "<Figure size 640x480 with 1 Axes>"
            ],
            "image/png": "[encoded data removed]"
          },
          "metadata": {}
        }
      ]
    },
    {
      "cell_type": "code",
      "source": [
        "#READ CSV FILE DATA\n",
        "import pandas as pd\n",
        "\n",
        "\n",
        "fileName='country.csv'\n",
        "f=open(fileName, 'r')\n",
        "a=f.read()\n",
        "print(a)\n"
      ],
      "metadata": {
        "id": "owOJlbmAnAaq"
      },
      "execution_count": null,
      "outputs": []
    }
  ]
}
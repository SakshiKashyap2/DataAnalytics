{
  "nbformat": 4,
  "nbformat_minor": 0,
  "metadata": {
    "colab": {
      "provenance": [],
      "authorship_tag": "ABX9TyOXq1dKcrqnakHTSvVtBAaT",
      "include_colab_link": true
    },
    "kernelspec": {
      "name": "python3",
      "display_name": "Python 3"
    },
    "language_info": {
      "name": "python"
    }
  },
  "cells": [
    {
      "cell_type": "markdown",
      "metadata": {
        "id": "view-in-github",
        "colab_type": "text"
      },
      "source": [
        "<a href=\"https://colab.research.google.com/github/HarshrajSharma/DataAnalytics/blob/main/DataAnalyticsDay4.ipynb\" target=\"_parent\"><img src=\"https://colab.research.google.com/assets/colab-badge.svg\" alt=\"Open In Colab\"/></a>"
      ]
    },
    {
      "cell_type": "markdown",
      "source": [
        "### **Day4**"
      ],
      "metadata": {
        "id": "cFWBv8T67VNu"
      }
    },
    {
      "cell_type": "code",
      "execution_count": null,
      "metadata": {
        "colab": {
          "base_uri": "https://localhost:8080/"
        },
        "id": "xDtV0eIG7Q9y",
        "outputId": "ba5cd498-a6c4-429c-f681-53a09a6317d1"
      },
      "outputs": [
        {
          "output_type": "stream",
          "name": "stdout",
          "text": [
            "<class 'tuple'>\n",
            "<class 'list'>\n"
          ]
        }
      ],
      "source": [
        "#Create a list \n",
        "\n",
        "\n",
        "y=('Apple',2,3,4) #Tuple: Can keep different types of elements\n",
        "z=[1,2,3,4] #List: Can keep only same types of elements\n",
        "\n",
        "print(type(y))\n",
        "print(type(z))"
      ]
    },
    {
      "cell_type": "code",
      "source": [
        "myList=[]\n",
        "myTuple=()\n",
        "\n",
        "for i in range(0, 1000000):\n",
        "  myList.append(i)\n",
        "  myTuple.append(i)\n",
        "\n",
        "print(myList)\n",
        "print(myTuple)"
      ],
      "metadata": {
        "id": "k5aqlfB993Ek"
      },
      "execution_count": null,
      "outputs": []
    },
    {
      "cell_type": "code",
      "source": [
        "#Inbuilt functions for lists\n",
        "\n",
        "myList=list(range(0, 1000)) #list(range(0,345)) will create a list with sequential data\n",
        "print(myList)\n",
        "\n",
        "myTuple=tuple(range(0, 1000)) #tuple(range(0,345)) will create a list with sequential data\n",
        "print(myTuple)\n",
        "\n",
        "#Tuple used less memory than list for the same data\n",
        "#List is mutable whereas Tuple is immutable\n"
      ],
      "metadata": {
        "id": "x7U7PFqi-2d9"
      },
      "execution_count": null,
      "outputs": []
    },
    {
      "cell_type": "code",
      "source": [
        "import sys, platform,time\n",
        "\n",
        "myList=list(range(0, 100000))\n",
        "#myList[4]=1001  #Mutable\n",
        "\n",
        "myTuple=tuple(range(0, 100000))\n",
        "#myTuple[4]=5001 #Immutable\n",
        "\n",
        "print('List memory: ',sys.getsizeof(myList))\n",
        "print('Tuple memory: ', sys.getsizeof(myTuple))\n",
        "\n",
        "start=time.time_ns()\n",
        "for i in range(0, len(myList)):\n",
        "  a=myList[i]\n",
        "end=time.time_ns()\n",
        "print('Total time for list:', end- start)\n",
        "\n",
        "start=time.time_ns()\n",
        "for i in range(0, len(myTuple)):\n",
        "  a=myTuple[i]\n",
        "end=time.time_ns()\n",
        "print('Total time for tuple:', end- start)"
      ],
      "metadata": {
        "id": "YrrkLs5JADR-"
      },
      "execution_count": null,
      "outputs": []
    },
    {
      "cell_type": "code",
      "source": [
        "myList=list(range(0, 1000))\n",
        "squareList=[]\n",
        "\n",
        "print(myList[4:]) #Prints from 4 to the last element in the list\n",
        "\n",
        "\n",
        "for i in myList:\n",
        "  squareList.append(i**2)\n",
        "\n",
        "print(squareList)\n"
      ],
      "metadata": {
        "id": "R5O_dCTEDvTh",
        "colab": {
          "base_uri": "https://localhost:8080/"
        },
        "outputId": "9c8508f2-bbce-4738-9652-faadc322ed7f"
      },
      "execution_count": null,
      "outputs": [
        {
          "output_type": "stream",
          "name": "stdout",
          "text": [
            "[4, 5, 6, 7, 8, 9, 10, 11, 12, 13, 14, 15, 16, 17, 18, 19, 20, 21, 22, 23, 24, 25, 26, 27, 28, 29, 30, 31, 32, 33, 34, 35, 36, 37, 38, 39, 40, 41, 42, 43, 44, 45, 46, 47, 48, 49, 50, 51, 52, 53, 54, 55, 56, 57, 58, 59, 60, 61, 62, 63, 64, 65, 66, 67, 68, 69, 70, 71, 72, 73, 74, 75, 76, 77, 78, 79, 80, 81, 82, 83, 84, 85, 86, 87, 88, 89, 90, 91, 92, 93, 94, 95, 96, 97, 98, 99, 100, 101, 102, 103, 104, 105, 106, 107, 108, 109, 110, 111, 112, 113, 114, 115, 116, 117, 118, 119, 120, 121, 122, 123, 124, 125, 126, 127, 128, 129, 130, 131, 132, 133, 134, 135, 136, 137, 138, 139, 140, 141, 142, 143, 144, 145, 146, 147, 148, 149, 150, 151, 152, 153, 154, 155, 156, 157, 158, 159, 160, 161, 162, 163, 164, 165, 166, 167, 168, 169, 170, 171, 172, 173, 174, 175, 176, 177, 178, 179, 180, 181, 182, 183, 184, 185, 186, 187, 188, 189, 190, 191, 192, 193, 194, 195, 196, 197, 198, 199, 200, 201, 202, 203, 204, 205, 206, 207, 208, 209, 210, 211, 212, 213, 214, 215, 216, 217, 218, 219, 220, 221, 222, 223, 224, 225, 226, 227, 228, 229, 230, 231, 232, 233, 234, 235, 236, 237, 238, 239, 240, 241, 242, 243, 244, 245, 246, 247, 248, 249, 250, 251, 252, 253, 254, 255, 256, 257, 258, 259, 260, 261, 262, 263, 264, 265, 266, 267, 268, 269, 270, 271, 272, 273, 274, 275, 276, 277, 278, 279, 280, 281, 282, 283, 284, 285, 286, 287, 288, 289, 290, 291, 292, 293, 294, 295, 296, 297, 298, 299, 300, 301, 302, 303, 304, 305, 306, 307, 308, 309, 310, 311, 312, 313, 314, 315, 316, 317, 318, 319, 320, 321, 322, 323, 324, 325, 326, 327, 328, 329, 330, 331, 332, 333, 334, 335, 336, 337, 338, 339, 340, 341, 342, 343, 344, 345, 346, 347, 348, 349, 350, 351, 352, 353, 354, 355, 356, 357, 358, 359, 360, 361, 362, 363, 364, 365, 366, 367, 368, 369, 370, 371, 372, 373, 374, 375, 376, 377, 378, 379, 380, 381, 382, 383, 384, 385, 386, 387, 388, 389, 390, 391, 392, 393, 394, 395, 396, 397, 398, 399, 400, 401, 402, 403, 404, 405, 406, 407, 408, 409, 410, 411, 412, 413, 414, 415, 416, 417, 418, 419, 420, 421, 422, 423, 424, 425, 426, 427, 428, 429, 430, 431, 432, 433, 434, 435, 436, 437, 438, 439, 440, 441, 442, 443, 444, 445, 446, 447, 448, 449, 450, 451, 452, 453, 454, 455, 456, 457, 458, 459, 460, 461, 462, 463, 464, 465, 466, 467, 468, 469, 470, 471, 472, 473, 474, 475, 476, 477, 478, 479, 480, 481, 482, 483, 484, 485, 486, 487, 488, 489, 490, 491, 492, 493, 494, 495, 496, 497, 498, 499, 500, 501, 502, 503, 504, 505, 506, 507, 508, 509, 510, 511, 512, 513, 514, 515, 516, 517, 518, 519, 520, 521, 522, 523, 524, 525, 526, 527, 528, 529, 530, 531, 532, 533, 534, 535, 536, 537, 538, 539, 540, 541, 542, 543, 544, 545, 546, 547, 548, 549, 550, 551, 552, 553, 554, 555, 556, 557, 558, 559, 560, 561, 562, 563, 564, 565, 566, 567, 568, 569, 570, 571, 572, 573, 574, 575, 576, 577, 578, 579, 580, 581, 582, 583, 584, 585, 586, 587, 588, 589, 590, 591, 592, 593, 594, 595, 596, 597, 598, 599, 600, 601, 602, 603, 604, 605, 606, 607, 608, 609, 610, 611, 612, 613, 614, 615, 616, 617, 618, 619, 620, 621, 622, 623, 624, 625, 626, 627, 628, 629, 630, 631, 632, 633, 634, 635, 636, 637, 638, 639, 640, 641, 642, 643, 644, 645, 646, 647, 648, 649, 650, 651, 652, 653, 654, 655, 656, 657, 658, 659, 660, 661, 662, 663, 664, 665, 666, 667, 668, 669, 670, 671, 672, 673, 674, 675, 676, 677, 678, 679, 680, 681, 682, 683, 684, 685, 686, 687, 688, 689, 690, 691, 692, 693, 694, 695, 696, 697, 698, 699, 700, 701, 702, 703, 704, 705, 706, 707, 708, 709, 710, 711, 712, 713, 714, 715, 716, 717, 718, 719, 720, 721, 722, 723, 724, 725, 726, 727, 728, 729, 730, 731, 732, 733, 734, 735, 736, 737, 738, 739, 740, 741, 742, 743, 744, 745, 746, 747, 748, 749, 750, 751, 752, 753, 754, 755, 756, 757, 758, 759, 760, 761, 762, 763, 764, 765, 766, 767, 768, 769, 770, 771, 772, 773, 774, 775, 776, 777, 778, 779, 780, 781, 782, 783, 784, 785, 786, 787, 788, 789, 790, 791, 792, 793, 794, 795, 796, 797, 798, 799, 800, 801, 802, 803, 804, 805, 806, 807, 808, 809, 810, 811, 812, 813, 814, 815, 816, 817, 818, 819, 820, 821, 822, 823, 824, 825, 826, 827, 828, 829, 830, 831, 832, 833, 834, 835, 836, 837, 838, 839, 840, 841, 842, 843, 844, 845, 846, 847, 848, 849, 850, 851, 852, 853, 854, 855, 856, 857, 858, 859, 860, 861, 862, 863, 864, 865, 866, 867, 868, 869, 870, 871, 872, 873, 874, 875, 876, 877, 878, 879, 880, 881, 882, 883, 884, 885, 886, 887, 888, 889, 890, 891, 892, 893, 894, 895, 896, 897, 898, 899, 900, 901, 902, 903, 904, 905, 906, 907, 908, 909, 910, 911, 912, 913, 914, 915, 916, 917, 918, 919, 920, 921, 922, 923, 924, 925, 926, 927, 928, 929, 930, 931, 932, 933, 934, 935, 936, 937, 938, 939, 940, 941, 942, 943, 944, 945, 946, 947, 948, 949, 950, 951, 952, 953, 954, 955, 956, 957, 958, 959, 960, 961, 962, 963, 964, 965, 966, 967, 968, 969, 970, 971, 972, 973, 974, 975, 976, 977, 978, 979, 980, 981, 982, 983, 984, 985, 986, 987, 988, 989, 990, 991, 992, 993, 994, 995, 996, 997, 998, 999]\n",
            "[0, 1, 4, 9, 16, 25, 36, 49, 64, 81, 100, 121, 144, 169, 196, 225, 256, 289, 324, 361, 400, 441, 484, 529, 576, 625, 676, 729, 784, 841, 900, 961, 1024, 1089, 1156, 1225, 1296, 1369, 1444, 1521, 1600, 1681, 1764, 1849, 1936, 2025, 2116, 2209, 2304, 2401, 2500, 2601, 2704, 2809, 2916, 3025, 3136, 3249, 3364, 3481, 3600, 3721, 3844, 3969, 4096, 4225, 4356, 4489, 4624, 4761, 4900, 5041, 5184, 5329, 5476, 5625, 5776, 5929, 6084, 6241, 6400, 6561, 6724, 6889, 7056, 7225, 7396, 7569, 7744, 7921, 8100, 8281, 8464, 8649, 8836, 9025, 9216, 9409, 9604, 9801, 10000, 10201, 10404, 10609, 10816, 11025, 11236, 11449, 11664, 11881, 12100, 12321, 12544, 12769, 12996, 13225, 13456, 13689, 13924, 14161, 14400, 14641, 14884, 15129, 15376, 15625, 15876, 16129, 16384, 16641, 16900, 17161, 17424, 17689, 17956, 18225, 18496, 18769, 19044, 19321, 19600, 19881, 20164, 20449, 20736, 21025, 21316, 21609, 21904, 22201, 22500, 22801, 23104, 23409, 23716, 24025, 24336, 24649, 24964, 25281, 25600, 25921, 26244, 26569, 26896, 27225, 27556, 27889, 28224, 28561, 28900, 29241, 29584, 29929, 30276, 30625, 30976, 31329, 31684, 32041, 32400, 32761, 33124, 33489, 33856, 34225, 34596, 34969, 35344, 35721, 36100, 36481, 36864, 37249, 37636, 38025, 38416, 38809, 39204, 39601, 40000, 40401, 40804, 41209, 41616, 42025, 42436, 42849, 43264, 43681, 44100, 44521, 44944, 45369, 45796, 46225, 46656, 47089, 47524, 47961, 48400, 48841, 49284, 49729, 50176, 50625, 51076, 51529, 51984, 52441, 52900, 53361, 53824, 54289, 54756, 55225, 55696, 56169, 56644, 57121, 57600, 58081, 58564, 59049, 59536, 60025, 60516, 61009, 61504, 62001, 62500, 63001, 63504, 64009, 64516, 65025, 65536, 66049, 66564, 67081, 67600, 68121, 68644, 69169, 69696, 70225, 70756, 71289, 71824, 72361, 72900, 73441, 73984, 74529, 75076, 75625, 76176, 76729, 77284, 77841, 78400, 78961, 79524, 80089, 80656, 81225, 81796, 82369, 82944, 83521, 84100, 84681, 85264, 85849, 86436, 87025, 87616, 88209, 88804, 89401, 90000, 90601, 91204, 91809, 92416, 93025, 93636, 94249, 94864, 95481, 96100, 96721, 97344, 97969, 98596, 99225, 99856, 100489, 101124, 101761, 102400, 103041, 103684, 104329, 104976, 105625, 106276, 106929, 107584, 108241, 108900, 109561, 110224, 110889, 111556, 112225, 112896, 113569, 114244, 114921, 115600, 116281, 116964, 117649, 118336, 119025, 119716, 120409, 121104, 121801, 122500, 123201, 123904, 124609, 125316, 126025, 126736, 127449, 128164, 128881, 129600, 130321, 131044, 131769, 132496, 133225, 133956, 134689, 135424, 136161, 136900, 137641, 138384, 139129, 139876, 140625, 141376, 142129, 142884, 143641, 144400, 145161, 145924, 146689, 147456, 148225, 148996, 149769, 150544, 151321, 152100, 152881, 153664, 154449, 155236, 156025, 156816, 157609, 158404, 159201, 160000, 160801, 161604, 162409, 163216, 164025, 164836, 165649, 166464, 167281, 168100, 168921, 169744, 170569, 171396, 172225, 173056, 173889, 174724, 175561, 176400, 177241, 178084, 178929, 179776, 180625, 181476, 182329, 183184, 184041, 184900, 185761, 186624, 187489, 188356, 189225, 190096, 190969, 191844, 192721, 193600, 194481, 195364, 196249, 197136, 198025, 198916, 199809, 200704, 201601, 202500, 203401, 204304, 205209, 206116, 207025, 207936, 208849, 209764, 210681, 211600, 212521, 213444, 214369, 215296, 216225, 217156, 218089, 219024, 219961, 220900, 221841, 222784, 223729, 224676, 225625, 226576, 227529, 228484, 229441, 230400, 231361, 232324, 233289, 234256, 235225, 236196, 237169, 238144, 239121, 240100, 241081, 242064, 243049, 244036, 245025, 246016, 247009, 248004, 249001, 250000, 251001, 252004, 253009, 254016, 255025, 256036, 257049, 258064, 259081, 260100, 261121, 262144, 263169, 264196, 265225, 266256, 267289, 268324, 269361, 270400, 271441, 272484, 273529, 274576, 275625, 276676, 277729, 278784, 279841, 280900, 281961, 283024, 284089, 285156, 286225, 287296, 288369, 289444, 290521, 291600, 292681, 293764, 294849, 295936, 297025, 298116, 299209, 300304, 301401, 302500, 303601, 304704, 305809, 306916, 308025, 309136, 310249, 311364, 312481, 313600, 314721, 315844, 316969, 318096, 319225, 320356, 321489, 322624, 323761, 324900, 326041, 327184, 328329, 329476, 330625, 331776, 332929, 334084, 335241, 336400, 337561, 338724, 339889, 341056, 342225, 343396, 344569, 345744, 346921, 348100, 349281, 350464, 351649, 352836, 354025, 355216, 356409, 357604, 358801, 360000, 361201, 362404, 363609, 364816, 366025, 367236, 368449, 369664, 370881, 372100, 373321, 374544, 375769, 376996, 378225, 379456, 380689, 381924, 383161, 384400, 385641, 386884, 388129, 389376, 390625, 391876, 393129, 394384, 395641, 396900, 398161, 399424, 400689, 401956, 403225, 404496, 405769, 407044, 408321, 409600, 410881, 412164, 413449, 414736, 416025, 417316, 418609, 419904, 421201, 422500, 423801, 425104, 426409, 427716, 429025, 430336, 431649, 432964, 434281, 435600, 436921, 438244, 439569, 440896, 442225, 443556, 444889, 446224, 447561, 448900, 450241, 451584, 452929, 454276, 455625, 456976, 458329, 459684, 461041, 462400, 463761, 465124, 466489, 467856, 469225, 470596, 471969, 473344, 474721, 476100, 477481, 478864, 480249, 481636, 483025, 484416, 485809, 487204, 488601, 490000, 491401, 492804, 494209, 495616, 497025, 498436, 499849, 501264, 502681, 504100, 505521, 506944, 508369, 509796, 511225, 512656, 514089, 515524, 516961, 518400, 519841, 521284, 522729, 524176, 525625, 527076, 528529, 529984, 531441, 532900, 534361, 535824, 537289, 538756, 540225, 541696, 543169, 544644, 546121, 547600, 549081, 550564, 552049, 553536, 555025, 556516, 558009, 559504, 561001, 562500, 564001, 565504, 567009, 568516, 570025, 571536, 573049, 574564, 576081, 577600, 579121, 580644, 582169, 583696, 585225, 586756, 588289, 589824, 591361, 592900, 594441, 595984, 597529, 599076, 600625, 602176, 603729, 605284, 606841, 608400, 609961, 611524, 613089, 614656, 616225, 617796, 619369, 620944, 622521, 624100, 625681, 627264, 628849, 630436, 632025, 633616, 635209, 636804, 638401, 640000, 641601, 643204, 644809, 646416, 648025, 649636, 651249, 652864, 654481, 656100, 657721, 659344, 660969, 662596, 664225, 665856, 667489, 669124, 670761, 672400, 674041, 675684, 677329, 678976, 680625, 682276, 683929, 685584, 687241, 688900, 690561, 692224, 693889, 695556, 697225, 698896, 700569, 702244, 703921, 705600, 707281, 708964, 710649, 712336, 714025, 715716, 717409, 719104, 720801, 722500, 724201, 725904, 727609, 729316, 731025, 732736, 734449, 736164, 737881, 739600, 741321, 743044, 744769, 746496, 748225, 749956, 751689, 753424, 755161, 756900, 758641, 760384, 762129, 763876, 765625, 767376, 769129, 770884, 772641, 774400, 776161, 777924, 779689, 781456, 783225, 784996, 786769, 788544, 790321, 792100, 793881, 795664, 797449, 799236, 801025, 802816, 804609, 806404, 808201, 810000, 811801, 813604, 815409, 817216, 819025, 820836, 822649, 824464, 826281, 828100, 829921, 831744, 833569, 835396, 837225, 839056, 840889, 842724, 844561, 846400, 848241, 850084, 851929, 853776, 855625, 857476, 859329, 861184, 863041, 864900, 866761, 868624, 870489, 872356, 874225, 876096, 877969, 879844, 881721, 883600, 885481, 887364, 889249, 891136, 893025, 894916, 896809, 898704, 900601, 902500, 904401, 906304, 908209, 910116, 912025, 913936, 915849, 917764, 919681, 921600, 923521, 925444, 927369, 929296, 931225, 933156, 935089, 937024, 938961, 940900, 942841, 944784, 946729, 948676, 950625, 952576, 954529, 956484, 958441, 960400, 962361, 964324, 966289, 968256, 970225, 972196, 974169, 976144, 978121, 980100, 982081, 984064, 986049, 988036, 990025, 992016, 994009, 996004, 998001]\n"
          ]
        }
      ]
    },
    {
      "cell_type": "code",
      "source": [
        "#Find an element 22 in the list\n",
        "myList=list(range(0, 11))\n",
        "myList[4]=56\n",
        "print(myList)\n",
        "\n",
        "print(myList.index(56)) # .index() will give the index of the element if it is present in the list\n",
        "myList.remove(2)\n",
        "print(myList)\n"
      ],
      "metadata": {
        "colab": {
          "base_uri": "https://localhost:8080/"
        },
        "id": "07N7ihbUEXGc",
        "outputId": "7ce5e396-01e9-4f0b-91d2-68452f66d141"
      },
      "execution_count": null,
      "outputs": [
        {
          "output_type": "stream",
          "name": "stdout",
          "text": [
            "[0, 1, 2, 3, 56, 5, 6, 7, 8, 9, 10]\n",
            "4\n",
            "[0, 1, 3, 56, 5, 6, 7, 8, 9, 10]\n"
          ]
        }
      ]
    },
    {
      "cell_type": "code",
      "source": [
        "#Remove all the elements from the third positionto last in a list\n",
        "\n",
        "myList=list(range(0,11))\n",
        "print(myList)\n",
        "\n",
        "del myList[2:] #Delete all the elements from 3rd position to the last\n",
        "print(myList)\n",
        "\n",
        "myList.pop(1) #Pops the element at position 0 in the list\n",
        "print(myList)"
      ],
      "metadata": {
        "colab": {
          "base_uri": "https://localhost:8080/"
        },
        "id": "sZ_GEXKAFhIr",
        "outputId": "8a744c49-3d06-4c78-d3e0-8f3b45b5d31e"
      },
      "execution_count": null,
      "outputs": [
        {
          "output_type": "stream",
          "name": "stdout",
          "text": [
            "[0, 1, 2, 3, 4, 5, 6, 7, 8, 9, 10]\n",
            "[0, 1]\n",
            "[0]\n"
          ]
        }
      ]
    },
    {
      "cell_type": "code",
      "source": [
        "#Sort function\n",
        "myList=[5,8,6,1,2,3,4,8,9,6,5,2,3,11]\n",
        "print(myList)\n",
        "myList.sort()\n",
        "print(myList)"
      ],
      "metadata": {
        "colab": {
          "base_uri": "https://localhost:8080/"
        },
        "id": "GdcPz2zNGKLx",
        "outputId": "d17be420-d3e4-47cf-9ee2-5673e310de6a"
      },
      "execution_count": null,
      "outputs": [
        {
          "output_type": "stream",
          "name": "stdout",
          "text": [
            "[1, 2, 2, 3, 3, 4, 5, 5, 6, 6, 8, 8, 9, 11]\n"
          ]
        }
      ]
    },
    {
      "cell_type": "code",
      "source": [
        "#String library\n",
        "import string, random\n",
        "\n",
        "z=string.ascii_letters\n",
        "y=string.digits\n",
        "x=string.punctuation\n",
        "w=random.sample(z,6)\n",
        "v=random.choice(z)\n",
        "\n",
        "\n",
        "print(z)\n",
        "print(y)\n",
        "print(x)\n",
        "print(w)\n",
        "print(v)\n",
        "\n",
        "random.shuffle(w)\n",
        "print(w)"
      ],
      "metadata": {
        "colab": {
          "base_uri": "https://localhost:8080/"
        },
        "id": "aCAGnHsUHd_f",
        "outputId": "cccf254a-abd3-46c9-dc54-cc179d97f428"
      },
      "execution_count": null,
      "outputs": [
        {
          "output_type": "stream",
          "name": "stdout",
          "text": [
            "abcdefghijklmnopqrstuvwxyzABCDEFGHIJKLMNOPQRSTUVWXYZ\n",
            "0123456789\n",
            "!\"#$%&'()*+,-./:;<=>?@[\\]^_`{|}~\n",
            "['T', 'h', 'V', 'S', 'J', 'l']\n",
            "f\n",
            "['l', 'J', 'T', 'h', 'V', 'S']\n"
          ]
        }
      ]
    },
    {
      "cell_type": "code",
      "source": [
        "#Generate a random password of length 10 such that 2 letters are upper case , 1 is a digit, 1 is a special character next find if @ is there in the password or not.\n",
        "#If not then replace the third character with @\n",
        "\n",
        "import string, random\n",
        "def generatePassword():\n",
        "  password=''\n",
        "\n",
        "  upCase=random.sample(string.ascii_uppercase, 2)\n",
        "  upCase=''.join(upCase)\n",
        "\n",
        "  digits=random.choice(string.digits)\n",
        "\n",
        "  specialChar=random.choice(string.punctuation)\n",
        "  \n",
        "  lowerCase=random.sample(string.ascii_lowercase, 6)\n",
        "  lowerCase=''.join(lowerCase)\n",
        "\n",
        "  password=digits+specialChar+upCase+lowerCase\n",
        "  if(password.find('@')==1):\n",
        "    return password\n",
        "  else:\n",
        "    #Pending: if the third character is the only digit or special character then it will be replaced\n",
        "    password=password[0:2]+'@'+password[3:]\n",
        "    print('Password: ', password)\n",
        "    \n",
        "    return password\n",
        "\n",
        "def main():\n",
        "  print('Generating Password....')\n",
        "  generatePassword()\n",
        "\n",
        "main()\n",
        "  \n"
      ],
      "metadata": {
        "colab": {
          "base_uri": "https://localhost:8080/"
        },
        "id": "x7ewhCoTG-WH",
        "outputId": "41c1fc70-b171-458c-ed07-74ad92cb42fe"
      },
      "execution_count": null,
      "outputs": [
        {
          "output_type": "stream",
          "name": "stdout",
          "text": [
            "Generating Password....\n",
            "Password:  9^@Mpaimtk\n"
          ]
        }
      ]
    },
    {
      "cell_type": "markdown",
      "source": [
        "### **Numpy**"
      ],
      "metadata": {
        "id": "-TRI951wRQhU"
      }
    },
    {
      "cell_type": "code",
      "source": [
        "from numpy.core.memmap import dtype\n",
        "import numpy as np\n",
        "\n",
        "arr=np.array([1,2,3,4,5])\n",
        "print(arr)\n",
        "print(arr.dtype)\n",
        "print(arr.shape) #Print (5, ) show the number of rows and columns\n",
        "print(arr.ndim)  #Prints the dimension of the array\n",
        "print(arr.size)\n",
        "\n",
        "arr1=np.array([[1,2,3,4,5],[1,2,3,4,5]])\n",
        "print(arr1)\n",
        "print(arr1.dtype)\n",
        "print(arr1.shape) #Print (2,5) show the number of rows and columns\n",
        "print(arr1.ndim)  #Prints the dimension of the array\n",
        "print(arr1.size)\n",
        "\n",
        "arr1=np.zeros((5,6))  #Fills all the element with zeros\n",
        "print(arr1)\n",
        "\n",
        "arr2=np.array([[1,2,3,4,5],[1,2,3,4,5]], dtype='float')\n",
        "print('Array:\\n', arr2)\n",
        "\n",
        "arr3=np.arange(0,30,5)\n",
        "print(arr3)\n",
        "\n",
        "arr4=np.random.random((2,4))\n",
        "print(arr4)\n",
        "\n",
        "arr6=np.array([2,4,6,8,9,11])\n",
        "print(arr6.ndim)\n",
        "newArr=arr6.reshape(2,3)\n",
        "print(newArr)\n",
        "\n",
        "#printing array\n",
        "for i in newArr:\n",
        "  for j in i:\n",
        "    print('The elements are:', j)\n",
        "\n",
        "arr7=np.array([1,2,3,4,5])\n",
        "arr8=np.array([6,7,8,9,10])\n",
        "arr9=np.concatenate((arr7, arr8)) #Arrays shoud be in same dimension\n",
        "print(arr9)\n",
        "\n",
        "x=np.where(newArr==4)\n",
        "print(x)\n",
        "\n",
        "#Create a 2D array the array should have sequence of numbers from 1 to 30 with a step jump of 3 and find out all the even number sin the 2d array\n",
        "\n",
        "newArray=np.array([])\n",
        "pos=0\n",
        "for i in range(1,31,3):\n",
        "  print(i)\n",
        "  \n",
        "  pos+=1\n",
        "#newArray=newArray.reshape(2,5)\n",
        "print(newArray)"
      ],
      "metadata": {
        "colab": {
          "base_uri": "https://localhost:8080/"
        },
        "id": "OogtxyBTRPmq",
        "outputId": "c091cb41-163c-4f05-f50f-c74a962a60a6"
      },
      "execution_count": null,
      "outputs": [
        {
          "output_type": "stream",
          "name": "stdout",
          "text": [
            "[1 2 3 4 5]\n",
            "int64\n",
            "(5,)\n",
            "1\n",
            "5\n",
            "[[1 2 3 4 5]\n",
            " [1 2 3 4 5]]\n",
            "int64\n",
            "(2, 5)\n",
            "2\n",
            "10\n",
            "[[0. 0. 0. 0. 0. 0.]\n",
            " [0. 0. 0. 0. 0. 0.]\n",
            " [0. 0. 0. 0. 0. 0.]\n",
            " [0. 0. 0. 0. 0. 0.]\n",
            " [0. 0. 0. 0. 0. 0.]]\n",
            "Array:\n",
            " [[1. 2. 3. 4. 5.]\n",
            " [1. 2. 3. 4. 5.]]\n",
            "[ 0  5 10 15 20 25]\n",
            "[[0.27824903 0.8077589  0.01666621 0.89807282]\n",
            " [0.42023673 0.36864093 0.98303572 0.92752663]]\n",
            "1\n",
            "[[ 2  4  6]\n",
            " [ 8  9 11]]\n",
            "The elements are: 2\n",
            "The elements are: 4\n",
            "The elements are: 6\n",
            "The elements are: 8\n",
            "The elements are: 9\n",
            "The elements are: 11\n",
            "[ 1  2  3  4  5  6  7  8  9 10]\n",
            "(array([0]), array([1]))\n",
            "1\n",
            "4\n",
            "7\n",
            "10\n",
            "13\n",
            "16\n",
            "19\n",
            "22\n",
            "25\n",
            "28\n",
            "[]\n"
          ]
        }
      ]
    },
    {
      "cell_type": "code",
      "source": [
        "from numpy import random\n",
        "\n",
        "x=random.randint(100)\n",
        "print(x)\n",
        "for i in range(3,100):\n",
        "  x=random.randint(1000)\n",
        "\n",
        "y=random.rand(5)\n",
        "print(y)\n",
        "\n",
        "speed=[112,80,40,45,78, 78]\n",
        "x=np.std(speed)\n",
        "y=np.median(speed)\n",
        "#z=np.mode(speed,35)\n",
        "w=np.percentile(speed, 75)\n",
        "\n",
        "print(x)\n",
        "print(y)\n",
        "#print(z)\n",
        "print(w)\n"
      ],
      "metadata": {
        "colab": {
          "base_uri": "https://localhost:8080/"
        },
        "id": "remXMGPtb4Vf",
        "outputId": "ea610c52-f61e-465a-d5a3-a6b156387829"
      },
      "execution_count": null,
      "outputs": [
        {
          "output_type": "stream",
          "name": "stdout",
          "text": [
            "97\n",
            "[0.77627815 0.17252948 0.02707909 0.88357626 0.38331563]\n",
            "24.11373513627083\n",
            "78.0\n",
            "79.5\n"
          ]
        }
      ]
    },
    {
      "cell_type": "markdown",
      "source": [
        "### **Home Assignment**"
      ],
      "metadata": {
        "id": "mW7cnRQ_rH68"
      }
    },
    {
      "cell_type": "code",
      "source": [
        "#1)Find the square of each element in the list.\n",
        "\n",
        "myList=list(range(0, 11))\n",
        "squareList=[]\n",
        "\n",
        "\n",
        "for i in myList:\n",
        "  squareList.append(i**2)\n",
        "\n",
        "print(squareList)"
      ],
      "metadata": {
        "colab": {
          "base_uri": "https://localhost:8080/"
        },
        "id": "Q7YVaOAwrHZC",
        "outputId": "a3f8ae8c-dacd-4a27-cc1d-ee76a7432cf7"
      },
      "execution_count": null,
      "outputs": [
        {
          "output_type": "stream",
          "name": "stdout",
          "text": [
            "[0, 1, 4, 9, 16, 25, 36, 49, 64, 81, 100]\n"
          ]
        }
      ]
    },
    {
      "cell_type": "code",
      "source": [
        "#2)Generate a random Password which meets the following conditions\n",
        "  #a)Password length must be 10 characters long.\n",
        "  #b)It must contain at least 2 upper case letters, 1 digit, and 1 special symbol.\n",
        "  #c)Next, create a list with those and find whether @ is there, if not replace the third position with @\n",
        "  #d) print the list as a single string with join() function\n",
        "\n",
        "\n",
        "\n",
        "#Generate a random password of length 10 such that 2 letters are upper case , 1 is a digit, 1 is a special character next find if @ is there in the password or not.\n",
        "#If not then replace the third character with @\n",
        "\n",
        "import string, random\n",
        "def generatePassword():\n",
        "  password=''\n",
        "\n",
        "  upCase=random.sample(string.ascii_uppercase, 2)\n",
        "  upCase=''.join(upCase)\n",
        "\n",
        "  digits=random.choice(string.digits)\n",
        "\n",
        "  specialChar=random.choice(string.punctuation)\n",
        "  \n",
        "  lowerCase=random.sample(string.ascii_lowercase, 6)\n",
        "  lowerCase=''.join(lowerCase)\n",
        "\n",
        "  password=digits+specialChar+upCase+lowerCase\n",
        "\n",
        "  #print('Initial', password)\n",
        "  if(password.find('@')==1):\n",
        "    return password\n",
        "  else:\n",
        "    #Pending: if the third character is the only digit or special character then it will be replaced\n",
        "    password=password[0:2]+'@'+password[3:]\n",
        "    #print('Password: ', password)\n",
        "    \n",
        "    return password\n",
        "\n",
        "def main():\n",
        "  print('Generating Password....')\n",
        "  print(generatePassword())\n",
        "\n",
        "main()"
      ],
      "metadata": {
        "colab": {
          "base_uri": "https://localhost:8080/"
        },
        "id": "U9YSkf_Tr1Z3",
        "outputId": "bcc8b141-2bb9-4372-a6dd-3a17021a6052"
      },
      "execution_count": null,
      "outputs": [
        {
          "output_type": "stream",
          "name": "stdout",
          "text": [
            "Generating Password....\n",
            "6*@Luynzbv\n"
          ]
        }
      ]
    },
    {
      "cell_type": "code",
      "source": [
        "#3)a)Use Numpy to create a 5X2 integer array from a range between 100 to 200 such that the difference between each element is 10\n",
        "\n",
        "import numpy as np\n",
        "\n",
        "#print(\"Creating 5X2 array using numpy.arange\")\n",
        "sampleArray = np.arange(100, 200, 10)\n",
        "sampleArray = sampleArray.reshape(5,2)\n",
        "print (sampleArray)"
      ],
      "metadata": {
        "colab": {
          "base_uri": "https://localhost:8080/"
        },
        "id": "OCJlcGwgwMp7",
        "outputId": "765e2673-3391-4624-993b-e42c2c98b733"
      },
      "execution_count": null,
      "outputs": [
        {
          "output_type": "stream",
          "name": "stdout",
          "text": [
            "[[100 110]\n",
            " [120 130]\n",
            " [140 150]\n",
            " [160 170]\n",
            " [180 190]]\n"
          ]
        }
      ]
    },
    {
      "cell_type": "code",
      "source": [
        "#b)Use Numpy to create an array of 5*5 floating point values. Return array of odd kkrows and even columns from below numpy array\n",
        "\n",
        "\n",
        "\n"
      ],
      "metadata": {
        "id": "EfZ7D46Cyc8J"
      },
      "execution_count": null,
      "outputs": []
    },
    {
      "cell_type": "code",
      "source": [
        "import numpy as np\n",
        "\n",
        "def authenticate(userId, userPassword):\n",
        "  auth=np.array([['admin1','admin2','admin3','admin4','admin5'],['admin1','admin2','admin3','admin4','admin5']])\n",
        "  #print(auth[1][1])\n",
        "\n",
        "  id=['admin1','admin2','admin3','admin4','admin5']\n",
        "  password=['admin1','admin2','admin3','admin4','admin5']\n",
        "\n",
        "  for i in range(0, 5):\n",
        "    \n",
        "    if(userId==id[i] and userPassword==password[i]):\n",
        "      return 1\n",
        "\n",
        "def main():\n",
        "  username=input(\"Enter username:\")\n",
        "  password=input(\"Enter password:\")\n",
        "\n",
        "  if(authenticate(username, password)==1):\n",
        "    print('Logged in successfully!')\n",
        "  else:\n",
        "    print('Invalid Login!')\n",
        "\n",
        "main()"
      ],
      "metadata": {
        "colab": {
          "base_uri": "https://localhost:8080/"
        },
        "id": "ClkMenhB0I-2",
        "outputId": "443dfad6-355e-406e-e686-ccca82533fd4"
      },
      "execution_count": null,
      "outputs": [
        {
          "output_type": "stream",
          "name": "stdout",
          "text": [
            "Enter username:admin1\n",
            "Enter password:admin1\n",
            "admin2\n",
            "Logged in successfully!\n"
          ]
        }
      ]
    }
  ]
}
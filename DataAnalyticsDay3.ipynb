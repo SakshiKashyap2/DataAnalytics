{
  "nbformat": 4,
  "nbformat_minor": 0,
  "metadata": {
    "colab": {
      "provenance": [],
      "authorship_tag": "ABX9TyP47uUy5j4B16xIPDaBKg2a",
      "include_colab_link": true
    },
    "kernelspec": {
      "name": "python3",
      "display_name": "Python 3"
    },
    "language_info": {
      "name": "python"
    }
  },
  "cells": [
    {
      "cell_type": "markdown",
      "metadata": {
        "id": "view-in-github",
        "colab_type": "text"
      },
      "source": [
        "<a href=\"https://colab.research.google.com/github/SakshiKashyap2/DataAnalytics/blob/main/DataAnalyticsDay3.ipynb\" target=\"_parent\"><img src=\"https://colab.research.google.com/assets/colab-badge.svg\" alt=\"Open In Colab\"/></a>"
      ]
    },
    {
      "cell_type": "markdown",
      "source": [
        "Day 3"
      ],
      "metadata": {
        "id": "tSVq11faKaJc"
      }
    },
    {
      "cell_type": "code",
      "execution_count": 6,
      "metadata": {
        "colab": {
          "base_uri": "https://localhost:8080/"
        },
        "id": "zwU3qF_g5_kU",
        "outputId": "f9e23836-f6c4-48db-89e7-c2d5abc8045f"
      },
      "outputs": [
        {
          "output_type": "stream",
          "name": "stdout",
          "text": [
            "2 4 6\n",
            "value of x is: 2\n",
            "value of x:2 y:4 z:6\n"
          ]
        }
      ],
      "source": [
        "x,y,z=2,4,6\n",
        "print(x,y,z)\n",
        "print(\"value of x is:\",x)\n",
        "print(\"value of x:{0} y:{1} z:{2}\".format(x,y,z))\n",
        "\n"
      ]
    },
    {
      "cell_type": "code",
      "source": [
        "num1=input(\"Enter number 1:\")\n",
        "num2=input(\"Enter number 2:\")\n",
        "ans=num1+num2\n",
        "print(ans)\n",
        "print(type(ans))\n",
        "\n",
        "num1=eval(input(\"Enter number 1:\"))\n",
        "num2=eval(input(\"Enter number 2:\"))\n",
        "ans=num1+num2\n",
        "print(ans)\n",
        "print(type(ans))\n",
        "\n"
      ],
      "metadata": {
        "id": "yej8KS5xMMqP"
      },
      "execution_count": null,
      "outputs": []
    },
    {
      "cell_type": "code",
      "source": [
        "dir(__builtins__)\n",
        "help(max)\n",
        "\n",
        "maxval=max(1,5,52,9,8,2)\n",
        "print(maxval)\n",
        "\n",
        "minval=min(5,6,7,25,21.9,0,5)\n",
        "print(minval)\n",
        "\n",
        "minval2=min(\"hello\",\"how\",\"are\")\n",
        "print(minval2)#checked on the basis of ASCII value."
      ],
      "metadata": {
        "id": "-TZ0xWRSNy9d"
      },
      "execution_count": null,
      "outputs": []
    },
    {
      "cell_type": "code",
      "source": [
        "import random\n",
        "x=random.random()\n",
        "print(x)\n",
        "\n",
        "if(x<0.5):\n",
        "    print(\"Player 1 wins:\")\n",
        "else:\n",
        "    print(\"Player 2 wins:\")"
      ],
      "metadata": {
        "id": "1lYvz5RQO5qi"
      },
      "execution_count": null,
      "outputs": []
    },
    {
      "cell_type": "code",
      "source": [
        "import math\n",
        "\n",
        "print(math.fabs(-5.6))\n",
        "print(math.ceil(5.6))\n",
        "print(math.floor(5.6))"
      ],
      "metadata": {
        "id": "3SAUwuHTQBJZ"
      },
      "execution_count": null,
      "outputs": []
    },
    {
      "cell_type": "code",
      "source": [
        "def rectangle(l,b):\n",
        "  a = l*b\n",
        "  return a\n",
        "\n",
        "rectangle(2,4)\n",
        "\n",
        "def main():\n",
        "  l=eval(input(\"Enter length of rectangle:\"))\n",
        "  b=eval(input(\"Enter breadth of rectangle:\"))\n",
        "  area = rectangle(l,b)\n",
        "  print(area)\n",
        "main()\n",
        "  "
      ],
      "metadata": {
        "id": "pr-wGUP7Qt9D"
      },
      "execution_count": null,
      "outputs": []
    },
    {
      "cell_type": "code",
      "source": [
        "!python /content/area.py"
      ],
      "metadata": {
        "id": "4qhHTuI6SKMZ"
      },
      "execution_count": null,
      "outputs": []
    },
    {
      "cell_type": "code",
      "source": [
        "!python /content/All_Area.py"
      ],
      "metadata": {
        "id": "WvaODQk2X9ly"
      },
      "execution_count": 40,
      "outputs": []
    },
    {
      "cell_type": "code",
      "source": [
        "import All_Area\n",
        "\n",
        "def main():\n",
        "  l=eval(input(\"Enter length of the rectangle:\"))\n",
        "  b=eval(input(\"Enter breadth of the rectangle:\"))\n",
        "  rec_area=All_Area.rectangle(l,b)\n",
        "  print(rec_area)\n",
        "\n",
        "  l=eval(input(\"enter side of square:\"))\n",
        "  squ_area=All_Area.square(l)\n",
        "  print(squ_area)\n",
        "\n",
        "\n",
        "  r=eval(input(\"Enter radius of the circle:\"))\n",
        "  cir_area=All_Area.circle(r)\n",
        "  print(cir_area)\n",
        "main()"
      ],
      "metadata": {
        "id": "PzYPOKVJY_On"
      },
      "execution_count": null,
      "outputs": []
    },
    {
      "cell_type": "code",
      "source": [
        "!python /content/Auth.py\n",
        "import Auth\n",
        "def main():\n",
        "  username=input(\"Enter username:\")\n",
        "  password=input(\"Enter password:\")\n",
        "  Auth.Auth(username,password)\n",
        "main()\n",
        "  "
      ],
      "metadata": {
        "id": "3NXj1IezbE4L"
      },
      "execution_count": null,
      "outputs": []
    },
    {
      "cell_type": "code",
      "source": [
        "\n",
        "mylist=[]\n",
        "\n",
        "mylist.append(\"apple\")\n",
        "print(mylist)"
      ],
      "metadata": {
        "colab": {
          "base_uri": "https://localhost:8080/"
        },
        "id": "CoMm9glsdcez",
        "outputId": "57aa101a-93de-4497-c5b1-9bda01a7dce5"
      },
      "execution_count": 54,
      "outputs": [
        {
          "output_type": "stream",
          "name": "stdout",
          "text": [
            "['apple']\n"
          ]
        }
      ]
    },
    {
      "cell_type": "code",
      "source": [
        "import random\n",
        "mylist=[]\n",
        "\n",
        "for i in range(0,100):\n",
        "  x=random.randint(2,6)\n",
        "  mylist.append(x)\n",
        "\n",
        "print(mylist)"
      ],
      "metadata": {
        "colab": {
          "base_uri": "https://localhost:8080/"
        },
        "id": "DBFnpk7UfTdp",
        "outputId": "ccb656c5-03de-49fb-9cb3-be75fd6be8cf"
      },
      "execution_count": 55,
      "outputs": [
        {
          "output_type": "stream",
          "name": "stdout",
          "text": [
            "[5, 3, 4, 4, 2, 6, 6, 2, 2, 4, 5, 2, 3, 6, 2, 6, 3, 6, 4, 4, 5, 4, 2, 3, 4, 4, 6, 5, 6, 6, 3, 5, 2, 4, 3, 6, 6, 4, 6, 3, 6, 3, 4, 2, 5, 3, 5, 2, 3, 4, 6, 5, 2, 2, 3, 6, 4, 5, 4, 6, 5, 4, 2, 3, 3, 2, 2, 3, 4, 5, 2, 4, 4, 4, 3, 4, 6, 4, 3, 4, 4, 4, 6, 5, 6, 5, 5, 5, 5, 2, 2, 6, 4, 6, 5, 5, 2, 4, 2, 3]\n"
          ]
        }
      ]
    }
  ]
}
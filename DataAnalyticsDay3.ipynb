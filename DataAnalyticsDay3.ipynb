{
  "nbformat": 4,
  "nbformat_minor": 0,
  "metadata": {
    "colab": {
      "provenance": [],
      "authorship_tag": "ABX9TyMPC4qbZxobSL8r1tS1zFfs",
      "include_colab_link": true
    },
    "kernelspec": {
      "name": "python3",
      "display_name": "Python 3"
    },
    "language_info": {
      "name": "python"
    }
  },
  "cells": [
    {
      "cell_type": "markdown",
      "metadata": {
        "id": "view-in-github",
        "colab_type": "text"
      },
      "source": [
        "<a href=\"https://colab.research.google.com/github/SakshiKashyap2/DataAnalytics/blob/main/DataAnalyticsDay3.ipynb\" target=\"_parent\"><img src=\"https://colab.research.google.com/assets/colab-badge.svg\" alt=\"Open In Colab\"/></a>"
      ]
    },
    {
      "cell_type": "markdown",
      "source": [
        "Day 3"
      ],
      "metadata": {
        "id": "tSVq11faKaJc"
      }
    },
    {
      "cell_type": "code",
      "execution_count": 6,
      "metadata": {
        "colab": {
          "base_uri": "https://localhost:8080/"
        },
        "id": "zwU3qF_g5_kU",
        "outputId": "f9e23836-f6c4-48db-89e7-c2d5abc8045f"
      },
      "outputs": [
        {
          "output_type": "stream",
          "name": "stdout",
          "text": [
            "2 4 6\n",
            "value of x is: 2\n",
            "value of x:2 y:4 z:6\n"
          ]
        }
      ],
      "source": [
        "x,y,z=2,4,6\n",
        "print(x,y,z)\n",
        "print(\"value of x is:\",x)\n",
        "print(\"value of x:{0} y:{1} z:{2}\".format(x,y,z))\n",
        "\n"
      ]
    },
    {
      "cell_type": "code",
      "source": [
        "num1=input(\"Enter number 1:\")\n",
        "num2=input(\"Enter number 2:\")\n",
        "ans=num1+num2\n",
        "print(ans)\n",
        "\n",
        "num1=eval(input(\"Enter number 1:\"))\n",
        "num2=eval(input(\"Enter number 2:\"))\n",
        "ans=num1+num2\n",
        "print(ans)\n",
        "\n"
      ],
      "metadata": {
        "colab": {
          "base_uri": "https://localhost:8080/"
        },
        "id": "yej8KS5xMMqP",
        "outputId": "bdd6069c-3905-4417-ff06-75bcd1fe1cfc"
      },
      "execution_count": 9,
      "outputs": [
        {
          "output_type": "stream",
          "name": "stdout",
          "text": [
            "Enter number 1:5\n",
            "Enter number 2:6\n",
            "56\n",
            "Enter number 15\n",
            "Enter number 2:6\n",
            "11\n"
          ]
        }
      ]
    }
  ]
}
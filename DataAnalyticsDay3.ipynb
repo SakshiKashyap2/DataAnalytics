{
  "nbformat": 4,
  "nbformat_minor": 0,
  "metadata": {
    "colab": {
      "provenance": [],
      "authorship_tag": "ABX9TyOmA5E4UV7Aiusm7uYFAjIs",
      "include_colab_link": true
    },
    "kernelspec": {
      "name": "python3",
      "display_name": "Python 3"
    },
    "language_info": {
      "name": "python"
    }
  },
  "cells": [
    {
      "cell_type": "markdown",
      "metadata": {
        "id": "view-in-github",
        "colab_type": "text"
      },
      "source": [
        "<a href=\"https://colab.research.google.com/github/HarshrajSharma/DataAnalytics/blob/main/DataAnalyticsDay3.ipynb\" target=\"_parent\"><img src=\"https://colab.research.google.com/assets/colab-badge.svg\" alt=\"Open In Colab\"/></a>"
      ]
    },
    {
      "cell_type": "markdown",
      "source": [
        "# **Day3**"
      ],
      "metadata": {
        "id": "8so_mEV-ANZ1"
      }
    },
    {
      "cell_type": "code",
      "execution_count": null,
      "metadata": {
        "colab": {
          "base_uri": "https://localhost:8080/"
        },
        "id": "116_7dss8s3h",
        "outputId": "db906702-0d8f-49b5-a652-2232e5fa6fce"
      },
      "outputs": [
        {
          "output_type": "stream",
          "name": "stdout",
          "text": [
            "2 4 6\n",
            "Value of x: 2\n",
            "Value of x:2, y:4, z:6\n"
          ]
        }
      ],
      "source": [
        "#Variables\n",
        "x,y,z=2,4,6\n",
        "\n",
        "#Print\n",
        "print(x,y,z)\n",
        "print('Value of x:',x)\n",
        "print('Value of x:{0}, y:{1}, z:{2}'.format(x,y,z))"
      ]
    },
    {
      "cell_type": "code",
      "source": [
        "#Input\n",
        "\n",
        "num1=input('Enter number1: ')\n",
        "num2=input('Enter number2: ')\n",
        "ans=num1+num2 #This will concatinate the vars\n",
        "print(ans)\n",
        "\n",
        "print(type(ans))\n",
        "\n",
        "num1=eval(input('Enter number1: '))\n",
        "num2=eval(input('Enter number2: '))\n",
        "ans=num1+num2 #This will evaluate the vars\n",
        "print(ans)\n",
        "\n",
        "print(type(ans))\n",
        "\n"
      ],
      "metadata": {
        "id": "veeLmoHTDL6X",
        "colab": {
          "base_uri": "https://localhost:8080/"
        },
        "outputId": "cf3363f3-020b-486a-e146-74f7af2685a7"
      },
      "execution_count": null,
      "outputs": [
        {
          "output_type": "stream",
          "name": "stdout",
          "text": [
            "Enter number1: 5\n",
            "Enter number2: 2\n",
            "52\n",
            "<class 'str'>\n",
            "Enter number1: 5\n",
            "Enter number2: 6\n",
            "11\n",
            "<class 'int'>\n"
          ]
        }
      ]
    },
    {
      "cell_type": "code",
      "source": [
        "dir(__builtins__)\n",
        "help(max)\n",
        "\n",
        "#Using max function\n",
        "maxVal=max(5,8,9,1,5,4,6,3,7,2,1,0,3,6)\n",
        "print('Maximum Value: ', maxVal)\n",
        "\n",
        "#Using min function\n",
        "minVal=min('hello', 'how', 'are')\n",
        "print('Minimum Value: ', minVal) #Checked according to ASCII"
      ],
      "metadata": {
        "id": "_xCpDlHNEEED"
      },
      "execution_count": null,
      "outputs": []
    },
    {
      "cell_type": "code",
      "source": [
        "#Random Module\n",
        "import random\n",
        "\n",
        "z=random.random()\n",
        "print('Random Value: ', z)"
      ],
      "metadata": {
        "colab": {
          "base_uri": "https://localhost:8080/"
        },
        "id": "VQ6s4SnLFwCf",
        "outputId": "aed3518f-6113-4494-ba96-d46a523d3e05"
      },
      "execution_count": null,
      "outputs": [
        {
          "output_type": "stream",
          "name": "stdout",
          "text": [
            "Random Value:  0.3612054457727405\n"
          ]
        }
      ]
    },
    {
      "cell_type": "code",
      "source": [
        "#If else statement\n",
        "import random\n",
        "\n",
        "randValue=random.random()\n",
        "print('Random Value: ', randValue)\n",
        "\n",
        "if randValue<0.5:\n",
        "  print('Player1')\n",
        "else:\n",
        "  print('Player2')"
      ],
      "metadata": {
        "id": "INNFOVDOGJq9"
      },
      "execution_count": null,
      "outputs": []
    },
    {
      "cell_type": "code",
      "source": [
        "#Math module\n",
        "import math\n",
        "\n",
        "print(math.fabs(-3.5))\n",
        "print(math.ceil(3.4))\n",
        "print(math.floor(3.2))\n",
        "\n",
        "#help(math)"
      ],
      "metadata": {
        "id": "H7KmmMLLG9Nn"
      },
      "execution_count": null,
      "outputs": []
    },
    {
      "cell_type": "code",
      "source": [
        "#Functions\n",
        "def rectangle(l, b):\n",
        "  a=l*b\n",
        "  return a\n",
        "\n",
        "def main():\n",
        "  length=eval(input('Enter length of the rectangle: '))\n",
        "  breadth=eval(input('Enter breadth of the rectangle: '))\n",
        "  area=rectangle(length, breadth)\n",
        "  print('Area of the rectangle {0}'.format(area))\n",
        "\n",
        "main()"
      ],
      "metadata": {
        "colab": {
          "base_uri": "https://localhost:8080/"
        },
        "id": "iQ6lpEXYLSDw",
        "outputId": "e8663951-3df4-4a46-df27-cd576d55f749"
      },
      "execution_count": null,
      "outputs": [
        {
          "output_type": "stream",
          "name": "stdout",
          "text": [
            "Enter length of the rectangle: 5\n",
            "Enter breadth of the rectangle: 6\n",
            "Area of the rectangle 30\n"
          ]
        }
      ]
    },
    {
      "cell_type": "code",
      "source": [
        "#Running the uploaded file\n",
        "!python /content/Area.py"
      ],
      "metadata": {
        "id": "5JOdzCywROBb"
      },
      "execution_count": null,
      "outputs": []
    },
    {
      "cell_type": "code",
      "source": [
        "import Area\n",
        "\n",
        "def main():\n",
        "  side=eval(input('Enter the length: '))\n",
        "  area=Area.square(side)\n",
        "  print('Area of the square: {0}'.format(area))\n",
        "\n",
        "main()"
      ],
      "metadata": {
        "colab": {
          "base_uri": "https://localhost:8080/"
        },
        "id": "2DBrzgmPPrfc",
        "outputId": "85e97f33-aa02-48d5-82a2-0f9dc2c9c9a8"
      },
      "execution_count": null,
      "outputs": [
        {
          "output_type": "stream",
          "name": "stdout",
          "text": [
            "Enter the length: 5\n",
            "Area of the square: 25\n"
          ]
        }
      ]
    },
    {
      "cell_type": "code",
      "source": [
        "!python /content/Auth.py"
      ],
      "metadata": {
        "id": "5LUH_hr5ThQI"
      },
      "execution_count": null,
      "outputs": []
    },
    {
      "cell_type": "code",
      "source": [
        "#Auth \n",
        "import Auth\n",
        "\n",
        "def main():\n",
        "  username=input('Enter username: ')\n",
        "  password=input('Enter password: ')\n",
        "\n",
        "  Auth.auth(username, password)\n",
        "\n",
        "main()"
      ],
      "metadata": {
        "colab": {
          "base_uri": "https://localhost:8080/"
        },
        "id": "bOcrRDXlTkxl",
        "outputId": "a1e47ce7-19f2-4fa0-de8d-79a63b6f8a02"
      },
      "execution_count": null,
      "outputs": [
        {
          "output_type": "stream",
          "name": "stdout",
          "text": [
            "Enter username: admin\n",
            "Enter password: admin5\n",
            "User Authenticated!\n"
          ]
        }
      ]
    },
    {
      "cell_type": "code",
      "source": [
        "#loop\n",
        "for i in range(1,9): #Will run form start to n-1\n",
        "  print(i)\n",
        "\n",
        "print('=====================')\n",
        "\n",
        "for i in range(1,9,2): #Third parameter is the number of jumps it taked in every interation\n",
        "    print(i)"
      ],
      "metadata": {
        "id": "a_jLHoWaVs-j",
        "colab": {
          "base_uri": "https://localhost:8080/"
        },
        "outputId": "594068ea-ebb8-4afc-9b36-55f613b81af9"
      },
      "execution_count": null,
      "outputs": [
        {
          "output_type": "stream",
          "name": "stdout",
          "text": [
            "1\n",
            "2\n",
            "3\n",
            "4\n",
            "5\n",
            "6\n",
            "7\n",
            "8\n",
            "=====================\n",
            "1\n",
            "3\n",
            "5\n",
            "7\n"
          ]
        }
      ]
    },
    {
      "cell_type": "code",
      "source": [
        "#Auth \n",
        "import Auth\n",
        "\n",
        "def main():\n",
        "\n",
        "  counter=0\n",
        "  for i in range(1, 11):\n",
        "    username=input('Enter username: ')\n",
        "    password=input('Enter password: ')\n",
        "    Auth.auth(username, password)\n",
        "\n",
        "main()"
      ],
      "metadata": {
        "id": "-cjL8yV2WZD7"
      },
      "execution_count": null,
      "outputs": []
    },
    {
      "cell_type": "code",
      "source": [
        "#Python list(not an array but similar)\n",
        "import random\n",
        "myList=[]\n",
        "\n",
        "for i in range(0,100):\n",
        "    x=random.randint(2,6)\n",
        "    myList.append(x)\n",
        "\n",
        "print(myList)"
      ],
      "metadata": {
        "id": "olQTE-RVXpVQ"
      },
      "execution_count": null,
      "outputs": []
    },
    {
      "cell_type": "code",
      "source": [
        "myList=[];\n",
        "\n",
        "\n",
        "\n",
        "a=input(\"Enter string:\")\n",
        "myList.append(a)\n",
        "print(myList)"
      ],
      "metadata": {
        "colab": {
          "base_uri": "https://localhost:8080/"
        },
        "id": "s0a2NOHudmO-",
        "outputId": "76a9fc1b-fa4b-4a44-89aa-4e669cff4e00"
      },
      "execution_count": null,
      "outputs": [
        {
          "output_type": "stream",
          "name": "stdout",
          "text": [
            "Enter string:Apple\n",
            "['Apple']\n"
          ]
        }
      ]
    },
    {
      "cell_type": "markdown",
      "source": [
        "**Data types in Python**\n",
        "\n",
        "1. i => integer\n",
        "2. b => boolena\n",
        "3. u => unsigned integer\n",
        "4. f => float\n",
        "5. c => complex float\n",
        "6. m => time delta\n",
        "7. M => date time\n",
        "8. O => object\n",
        "9. S => string\n",
        "10. U => unicode string\n",
        "11. V => void\n",
        "\n",
        "\n",
        "**Standard data types in python (Upper types are categorized in these types )**\n",
        "\n",
        "1. Numeric\n",
        "2. String\n",
        "3. List\n",
        "4. Tuple\n",
        "5. Set\n",
        "6. Dictionary\n"
      ],
      "metadata": {
        "id": "vtEGlPDYX9ED"
      }
    },
    {
      "cell_type": "markdown",
      "source": [
        "# **Home Assignment**"
      ],
      "metadata": {
        "id": "Mf-vV_NepEbX"
      }
    },
    {
      "cell_type": "markdown",
      "source": [
        "1) Write a program in python to define 2 functions. The prototype of the function are as\n",
        "follows."
      ],
      "metadata": {
        "id": "JjJRw2bEpZZw"
      }
    },
    {
      "cell_type": "code",
      "source": [
        "#a) int Armstrong(int), finds all prime numbers in the range accepted from user.\n",
        "\n",
        "def armstrong(num):\n",
        "  sum = 0\n",
        "  temp = num\n",
        "  order = len(str(num))\n",
        "  while temp > 0:\n",
        "    digit = temp % 10\n",
        "    sum += digit ** order\n",
        "    temp //= 10\n",
        "\n",
        "  if num == sum:\n",
        "    print(num,\"is an Armstrong number\")\n",
        "  else:\n",
        "    print(num,\"is not an Armstrong number\")\n",
        "\n",
        "armstrong(371)\n"
      ],
      "metadata": {
        "colab": {
          "base_uri": "https://localhost:8080/"
        },
        "id": "tbBSPZu5ph5U",
        "outputId": "67549bcb-5917-457f-bb30-1b1418beb6b6"
      },
      "execution_count": null,
      "outputs": [
        {
          "output_type": "stream",
          "name": "stdout",
          "text": [
            "371 is an Armstrong number\n"
          ]
        }
      ]
    },
    {
      "cell_type": "code",
      "source": [
        "#b) int Prime(x), finds out all prime numbers in the range accepted from user.\n",
        "\n",
        "def prime(start, end):\n",
        "\n",
        "  \n",
        "  print(\"Prime numbers between\", start, \"and\", end, \"are:\")\n",
        "  for val in range(start, end):\n",
        "    if val > 1:\n",
        "      for i in range(2, val):\n",
        "        if (val % i) == 0:\n",
        "          break\n",
        "      else:\n",
        "        print(val)\n",
        "prime(0, 11)"
      ],
      "metadata": {
        "colab": {
          "base_uri": "https://localhost:8080/"
        },
        "id": "6avQTDHDroN0",
        "outputId": "917db31c-63b7-4da9-dfa6-b94df905b7f9"
      },
      "execution_count": null,
      "outputs": [
        {
          "output_type": "stream",
          "name": "stdout",
          "text": [
            "Prime numbers between 0 and 11 are:\n",
            "2\n",
            "3\n",
            "5\n",
            "7\n"
          ]
        }
      ]
    },
    {
      "cell_type": "code",
      "source": [
        "#c) Pattern(n) which accepts the number of lines and Print’s the following pattern\n",
        "\n",
        "def pattern(rows):\n",
        "\n",
        "  for i in range(0, rows):\n",
        "    for j in range(0, i + 1):\n",
        "        print(\"*\", end=' ')\n",
        "    print(\"\\r\")\n",
        "\n",
        "  for i in range(rows, 0, -1):\n",
        "    for j in range(0, i - 1):\n",
        "        print(\"*\", end=' ')\n",
        "    print(\"\\r\")\n",
        "\n",
        "    \n",
        "pattern(5)\n"
      ],
      "metadata": {
        "colab": {
          "base_uri": "https://localhost:8080/"
        },
        "id": "L2lakGehtypP",
        "outputId": "99ab0877-1a5e-40bf-8954-d595a03acd38"
      },
      "execution_count": null,
      "outputs": [
        {
          "output_type": "stream",
          "name": "stdout",
          "text": [
            "* \r\n",
            "* * \r\n",
            "* * * \r\n",
            "* * * * \r\n",
            "* * * * * \r\n",
            "* * * * \r\n",
            "* * * \r\n",
            "* * \r\n",
            "* \r\n",
            "\r\n"
          ]
        }
      ]
    },
    {
      "cell_type": "markdown",
      "source": [
        "2) Write a python code to create a module MyModule1 which consists of the following two\n",
        "methods."
      ],
      "metadata": {
        "id": "5e1aAhWPu7iW"
      }
    },
    {
      "cell_type": "code",
      "source": [
        "#a) A method Authenticate(a,b) which accepts two parameters representing the user id and password. It authenticates the user with elements in lists.\n",
        "#List1 represents a list of userid, and list 2 represent list of password. The ith userid in thelist should match with the ith password in the list. \n",
        "#The authenticate method returns 1 if both userid and password matches, otherwise false. \n",
        "#Import the module in another file to authenticate the identity of a user.\n",
        "\n",
        "\n",
        "# Local file to imprted as module for below code\n",
        "def Authenticate(userid, password):\n",
        "  userid=['admin1','admin2','admin3','admin4','admin5']\n",
        "  password=['admin1','admin2','admin3','admin4','admin5']\n",
        "\n",
        "  for i in range(0, 5):\n",
        "    if(userid==userid[i] and password==password[i]):\n",
        "      return 1\n",
        "    else:\n",
        "      return 0\n",
        "\n"
      ],
      "metadata": {
        "id": "3HJbIw9hvABZ"
      },
      "execution_count": null,
      "outputs": []
    },
    {
      "cell_type": "code",
      "source": [
        "!python /content/Authenticate.py\n",
        "import Authenticate\n",
        "\n",
        "def main():\n",
        "  username=input(\"Enter username:\")\n",
        "  password=input(\"Enter password:\")\n",
        "\n",
        "  if(Authenticate.Authenticate(username, password)==1):\n",
        "    print('Logged in successfully!')\n",
        "  else:\n",
        "    print('Invalid Login!')\n",
        "\n",
        "main()"
      ],
      "metadata": {
        "colab": {
          "base_uri": "https://localhost:8080/"
        },
        "id": "UH1epeVayuHs",
        "outputId": "a02740bd-366b-4b1e-bde3-333ea66aaf37"
      },
      "execution_count": null,
      "outputs": [
        {
          "output_type": "stream",
          "name": "stdout",
          "text": [
            "Enter username:admin\n",
            "Enter password:admin\n",
            "Invalid Login!\n"
          ]
        }
      ]
    },
    {
      "cell_type": "code",
      "source": [
        "#b) A method Rect_Area(l,b) to accept the length and breadth of a rectangle and returns the calculated area. \n",
        "#Import the module in another file to find the area of rectangle.\n",
        "\n",
        "#Import as a module from Area.py\n",
        "def Rect_Area(l, b):\n",
        "  return l*b\n",
        "\n"
      ],
      "metadata": {
        "id": "IFPEfn4vz_IX"
      },
      "execution_count": null,
      "outputs": []
    },
    {
      "cell_type": "code",
      "source": [
        "!python /content/Area.py\n",
        "\n",
        "\n",
        "import Area\n",
        "\n",
        "def main():\n",
        "  length=eval(input('Enter length:'))\n",
        "  breadth=eval(input('Enter breadth:'))\n",
        "\n",
        "  print('Area of the rectangle:', Area.Rect_Area(length, breadth))\n",
        "\n",
        "main()\n"
      ],
      "metadata": {
        "colab": {
          "base_uri": "https://localhost:8080/"
        },
        "id": "d1MeQWuP0guV",
        "outputId": "8dcb17a5-d0ea-4896-ff4d-aa98490983d4"
      },
      "execution_count": null,
      "outputs": [
        {
          "output_type": "stream",
          "name": "stdout",
          "text": [
            "Enter length:5\n",
            "Enter breadth:6\n",
            "Area of the rectangle: 30\n"
          ]
        }
      ]
    },
    {
      "cell_type": "code",
      "source": [
        "#c) A method to print the multiplication table of a given number Multi(x).\n",
        "\n",
        "#Imported as a module from Table.py\n",
        "def Multi(x):\n",
        "  for i in range(1,11):\n",
        "    print('{0} x {1} = {2}'.format(x, i, x*i))\n",
        "\n",
        "Multi(5)"
      ],
      "metadata": {
        "colab": {
          "base_uri": "https://localhost:8080/"
        },
        "id": "wN8mINIC1Yw6",
        "outputId": "ab264c30-d00a-40ac-9419-8ab9d0cec148"
      },
      "execution_count": null,
      "outputs": [
        {
          "output_type": "stream",
          "name": "stdout",
          "text": [
            "5 x 1 = 5\n",
            "5 x 2 = 10\n",
            "5 x 3 = 15\n",
            "5 x 4 = 20\n",
            "5 x 5 = 25\n",
            "5 x 6 = 30\n",
            "5 x 7 = 35\n",
            "5 x 8 = 40\n",
            "5 x 9 = 45\n",
            "5 x 10 = 50\n"
          ]
        }
      ]
    },
    {
      "cell_type": "code",
      "source": [
        "!python /content/Table.py"
      ],
      "metadata": {
        "id": "TBBuvp8t3JoE"
      },
      "execution_count": null,
      "outputs": []
    },
    {
      "cell_type": "code",
      "source": [
        "import Table\n",
        "\n",
        "\n",
        "def main():\n",
        "  num=eval(input('Enter Number:'))\n",
        "  Table.Multi(num)\n",
        "\n",
        "main()"
      ],
      "metadata": {
        "colab": {
          "base_uri": "https://localhost:8080/",
          "height": 339
        },
        "id": "J-D-QD4o3tpE",
        "outputId": "120e48ea-3430-4cea-cf32-526f8e6d76c2"
      },
      "execution_count": null,
      "outputs": [
        {
          "name": "stdout",
          "output_type": "stream",
          "text": [
            "Enter Number:5\n"
          ]
        },
        {
          "output_type": "error",
          "ename": "AttributeError",
          "evalue": "ignored",
          "traceback": [
            "\u001b[0;31m---------------------------------------------------------------------------\u001b[0m",
            "\u001b[0;31mAttributeError\u001b[0m                            Traceback (most recent call last)",
            "\u001b[0;32m<ipython-input-9-24e3f115853e>\u001b[0m in \u001b[0;36m<cell line: 8>\u001b[0;34m()\u001b[0m\n\u001b[1;32m      6\u001b[0m   \u001b[0mTable\u001b[0m\u001b[0;34m.\u001b[0m\u001b[0mMulti\u001b[0m\u001b[0;34m(\u001b[0m\u001b[0mnum\u001b[0m\u001b[0;34m)\u001b[0m\u001b[0;34m\u001b[0m\u001b[0;34m\u001b[0m\u001b[0m\n\u001b[1;32m      7\u001b[0m \u001b[0;34m\u001b[0m\u001b[0m\n\u001b[0;32m----> 8\u001b[0;31m \u001b[0mmain\u001b[0m\u001b[0;34m(\u001b[0m\u001b[0;34m)\u001b[0m\u001b[0;34m\u001b[0m\u001b[0;34m\u001b[0m\u001b[0m\n\u001b[0m",
            "\u001b[0;32m<ipython-input-9-24e3f115853e>\u001b[0m in \u001b[0;36mmain\u001b[0;34m()\u001b[0m\n\u001b[1;32m      4\u001b[0m \u001b[0;32mdef\u001b[0m \u001b[0mmain\u001b[0m\u001b[0;34m(\u001b[0m\u001b[0;34m)\u001b[0m\u001b[0;34m:\u001b[0m\u001b[0;34m\u001b[0m\u001b[0;34m\u001b[0m\u001b[0m\n\u001b[1;32m      5\u001b[0m   \u001b[0mnum\u001b[0m\u001b[0;34m=\u001b[0m\u001b[0meval\u001b[0m\u001b[0;34m(\u001b[0m\u001b[0minput\u001b[0m\u001b[0;34m(\u001b[0m\u001b[0;34m'Enter Number:'\u001b[0m\u001b[0;34m)\u001b[0m\u001b[0;34m)\u001b[0m\u001b[0;34m\u001b[0m\u001b[0;34m\u001b[0m\u001b[0m\n\u001b[0;32m----> 6\u001b[0;31m   \u001b[0mTable\u001b[0m\u001b[0;34m.\u001b[0m\u001b[0mMulti\u001b[0m\u001b[0;34m(\u001b[0m\u001b[0mnum\u001b[0m\u001b[0;34m)\u001b[0m\u001b[0;34m\u001b[0m\u001b[0;34m\u001b[0m\u001b[0m\n\u001b[0m\u001b[1;32m      7\u001b[0m \u001b[0;34m\u001b[0m\u001b[0m\n\u001b[1;32m      8\u001b[0m \u001b[0mmain\u001b[0m\u001b[0;34m(\u001b[0m\u001b[0;34m)\u001b[0m\u001b[0;34m\u001b[0m\u001b[0;34m\u001b[0m\u001b[0m\n",
            "\u001b[0;31mAttributeError\u001b[0m: module 'Table' has no attribute 'Multi'"
          ]
        }
      ]
    },
    {
      "cell_type": "code",
      "source": [
        "#3) Write a Python code to generate 100 random lottery tickets number. The number in the ticket consist of 8 digits. \n",
        "#Next, pick three lucky tickets from it and print the ticket number ofthe 2 winners. \n",
        "#Hint: You can create a list having those 100 ticket numbers. \n",
        "#You can use the method sample() to select the winners.\n",
        "\n",
        "import random\n",
        "\n",
        "lotteryNumber=[]\n",
        "winners=[]\n",
        "\n",
        "def random_with_N_digits(n):\n",
        "    range_start = 10**(n-1)\n",
        "    range_end = (10**n)-1\n",
        "    return random.randint(range_start, range_end)\n",
        "\n",
        "def generateLottery():\n",
        "  for i in range(1, 101):\n",
        "    lotteryNumber.append(random_with_N_digits(8))\n",
        "  \n",
        "\n",
        "def selectWinners():\n",
        "\n",
        "  #Winner1\n",
        "  winners.append(lotteryNumber[random.randrange(101)])\n",
        "\n",
        "  #Winner2\n",
        "  winners.append(lotteryNumber[random.randrange(101)])\n",
        "\n",
        "  #Winner2\n",
        "  winners.append(lotteryNumber[random.randrange(101)])\n",
        "\n",
        "def main():\n",
        "  print('Generating Lottery....')\n",
        "  generateLottery()\n",
        "\n",
        "  print('Generating Winners....')\n",
        "  selectWinners()\n",
        "\n",
        "  print('Winners:', winners)\n",
        "\n",
        "main()"
      ],
      "metadata": {
        "colab": {
          "base_uri": "https://localhost:8080/"
        },
        "id": "8R5-PQnx4JpE",
        "outputId": "95aa63fb-7e37-49d7-f97d-a2f613943197"
      },
      "execution_count": null,
      "outputs": [
        {
          "output_type": "stream",
          "name": "stdout",
          "text": [
            "Generating Lottery....\n",
            "Generating Winners....\n",
            "Winners: [84319137, 71832707, 78743470]\n"
          ]
        }
      ]
    },
    {
      "cell_type": "code",
      "source": [
        "#4) Write a recursive function in python to accept a number (variable num) and find the sum of all numbers in the range [0-num]\n",
        "\n",
        "def sum(n):\n",
        "  if n <= 1:\n",
        "    return n\n",
        "  else:\n",
        "    return n + sum(n-1)\n",
        "\n",
        "\n",
        "def main():\n",
        "  num=eval(input('Enter number:'))\n",
        "  if num < 0:\n",
        "    print('Enter a positive number:')\n",
        "  else:\n",
        "    print('Sum', sum(num))\n",
        "\n",
        "main()"
      ],
      "metadata": {
        "colab": {
          "base_uri": "https://localhost:8080/"
        },
        "id": "juHVnVOY8iNb",
        "outputId": "7f48eafb-c07f-42d9-db01-08bd668f2ca8"
      },
      "execution_count": null,
      "outputs": [
        {
          "output_type": "stream",
          "name": "stdout",
          "text": [
            "Enter number:5\n",
            "Sum 15\n"
          ]
        }
      ]
    },
    {
      "cell_type": "code",
      "source": [
        "#5) Write a function in python to print a list of numbers in reverse order.\n",
        "\n",
        "\n",
        "def revNum(num):\n",
        "  num.reverse()\n",
        "  print(num)\n",
        "\n",
        "\n",
        "\n",
        "def main():\n",
        "  myList=[1,2,3,4,5]\n",
        "  print('Current List:')\n",
        "  print(myList)\n",
        "  print('Reversed List:')\n",
        "  revNum(myList)\n",
        "\n",
        "main()"
      ],
      "metadata": {
        "colab": {
          "base_uri": "https://localhost:8080/"
        },
        "id": "zS_vfaS2-ZGq",
        "outputId": "c9f656b9-2c2c-48f9-9fa9-7b692ad19f00"
      },
      "execution_count": null,
      "outputs": [
        {
          "output_type": "stream",
          "name": "stdout",
          "text": [
            "Current List:\n",
            "[1, 2, 3, 4, 5]\n",
            "Reversed List:\n",
            "[5, 4, 3, 2, 1]\n"
          ]
        }
      ]
    }
  ]
}
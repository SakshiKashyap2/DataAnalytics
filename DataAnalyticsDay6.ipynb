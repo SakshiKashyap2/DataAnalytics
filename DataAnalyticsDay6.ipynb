{
  "nbformat": 4,
  "nbformat_minor": 0,
  "metadata": {
    "colab": {
      "provenance": [],
      "authorship_tag": "ABX9TyOddBtvSI3N0vwelG2gFpDu",
      "include_colab_link": true
    },
    "kernelspec": {
      "name": "python3",
      "display_name": "Python 3"
    },
    "language_info": {
      "name": "python"
    }
  },
  "cells": [
    {
      "cell_type": "markdown",
      "metadata": {
        "id": "view-in-github",
        "colab_type": "text"
      },
      "source": [
        "<a href=\"https://colab.research.google.com/github/HarshrajSharma/DataAnalytics/blob/main/DataAnalyticsDay6.ipynb\" target=\"_parent\"><img src=\"https://colab.research.google.com/assets/colab-badge.svg\" alt=\"Open In Colab\"/></a>"
      ]
    },
    {
      "cell_type": "markdown",
      "source": [
        "### **SQLite3**"
      ],
      "metadata": {
        "id": "i5quaebMpzYv"
      }
    },
    {
      "cell_type": "code",
      "execution_count": null,
      "metadata": {
        "colab": {
          "base_uri": "https://localhost:8080/"
        },
        "id": "kwa9hJqvdDlO",
        "outputId": "ae73b81a-6ee8-4170-ccff-2658d99fcac7"
      },
      "outputs": [
        {
          "output_type": "stream",
          "name": "stdout",
          "text": [
            "Database Connected!\n",
            "Table Created!\n"
          ]
        }
      ],
      "source": [
        "import sqlite3\n",
        "conn=sqlite3.connect('HITK DB')\n",
        "curr=conn.cursor()\n",
        "print('Database Connected!')\n",
        "\n",
        "curr.execute('create table Student(roll int primary key check(typeof(roll)=\"integer\"), name varchar2(20) check(typeof(name)=\"text\"), percentage int check(typeof(percentage)=\"integer\") )')\n",
        "print('Table Created!')"
      ]
    },
    {
      "cell_type": "code",
      "source": [
        "import sqlite3\n",
        "conn1=sqlite3.connect('HITK DB')\n",
        "curr1=conn.cursor()\n",
        "curr1.execute('drop table Student')\n",
        "print('Table Dropped!')\n",
        "conn1.close()"
      ],
      "metadata": {
        "colab": {
          "base_uri": "https://localhost:8080/"
        },
        "id": "sZPTafejifTP",
        "outputId": "15760899-c0d3-45c9-f47a-c26014842768"
      },
      "execution_count": null,
      "outputs": [
        {
          "output_type": "stream",
          "name": "stdout",
          "text": [
            "Table Dropped!\n"
          ]
        }
      ]
    },
    {
      "cell_type": "code",
      "source": [
        "curr.execute('select * from sqlite_master')\n",
        "print(curr.fetchall())"
      ],
      "metadata": {
        "colab": {
          "base_uri": "https://localhost:8080/"
        },
        "id": "B2zgj3siqGbY",
        "outputId": "e59ad3a1-035b-40b8-a95d-c1fda2447221"
      },
      "execution_count": null,
      "outputs": [
        {
          "output_type": "stream",
          "name": "stdout",
          "text": [
            "[('table', 'EMP', 'EMP', 2, 'CREATE TABLE EMP(EmpId int primary key,EmpName varchar2(20) NOT NULL, Salary int NOT NULL Check(Salary>5000), Commission float, DeptId int NOT NULL)'), ('index', 'sqlite_autoindex_EMP_1', 'EMP', 3, None)]\n"
          ]
        }
      ]
    },
    {
      "cell_type": "code",
      "source": [
        "curr.execute('insert into Student values(1,\"Paradox\",98)')\n",
        "curr.execute('insert into Student values(2,\"Square\",95)')"
      ],
      "metadata": {
        "colab": {
          "base_uri": "https://localhost:8080/"
        },
        "id": "iRN-Zh5Rug51",
        "outputId": "ea06d762-e9d6-43d5-8cf7-9d185b53d6ef"
      },
      "execution_count": null,
      "outputs": [
        {
          "output_type": "execute_result",
          "data": {
            "text/plain": [
              "<sqlite3.Cursor at 0x7f46124ccb20>"
            ]
          },
          "metadata": {},
          "execution_count": 2
        }
      ]
    },
    {
      "cell_type": "code",
      "source": [
        "curr.executescript('insert into Student values(3,\"Gravity\",94);\\\n",
        "                    insert into Student values(4,\"Nazz\",92);\\\n",
        "                    insert into Student values(5, \"Spectra\",90);')"
      ],
      "metadata": {
        "colab": {
          "base_uri": "https://localhost:8080/"
        },
        "id": "j2MR9R59ziyk",
        "outputId": "ae5c9eb3-cdea-4418-a58a-404dc9925afb"
      },
      "execution_count": null,
      "outputs": [
        {
          "output_type": "execute_result",
          "data": {
            "text/plain": [
              "<sqlite3.Cursor at 0x7feefb1eb180>"
            ]
          },
          "metadata": {},
          "execution_count": 7
        }
      ]
    },
    {
      "cell_type": "code",
      "source": [
        "curr.execute('select * from Student')\n",
        "print(curr.fetchall())"
      ],
      "metadata": {
        "colab": {
          "base_uri": "https://localhost:8080/"
        },
        "id": "B0K78xyUyRfg",
        "outputId": "4610ece9-e46b-4c60-f2d2-503368478520"
      },
      "execution_count": null,
      "outputs": [
        {
          "output_type": "stream",
          "name": "stdout",
          "text": [
            "[(1, 'Paradox', 98), (2, 'Square', 95), (3, 'Gravity', 94), (4, 'Nazz', 92), (5, 'Spectra', 90)]\n"
          ]
        }
      ]
    },
    {
      "cell_type": "markdown",
      "source": [
        "### **Home Assignment**"
      ],
      "metadata": {
        "id": "z--7dvYcqI-S"
      }
    },
    {
      "cell_type": "code",
      "source": [
        "#1) Write a Python program to create a database DataAnalytics.db. Create a table EMP, with attributes as follows:\n",
        "\n",
        "\n",
        "\n",
        "import sqlite3\n",
        "conn=sqlite3.connect('DataAnalytics.db')\n",
        "print('Database Connected!')\n",
        "curr=conn.cursor()\n",
        "\n",
        "curr.execute('create table EMP(EmpId int primary key,EmpName varchar2(20) NOT NULL, Salary int NOT NULL Check(Salary>5000), Commission float, DeptId int NOT NULL)')\n",
        "print('Table Created!')"
      ],
      "metadata": {
        "colab": {
          "base_uri": "https://localhost:8080/"
        },
        "id": "uCfmD8eNqOCf",
        "outputId": "67b75f15-710e-47c3-9162-26ca5719a338"
      },
      "execution_count": null,
      "outputs": [
        {
          "output_type": "stream",
          "name": "stdout",
          "text": [
            "Database Connected!\n",
            "Table Created!\n"
          ]
        }
      ]
    },
    {
      "cell_type": "code",
      "source": [
        "#Inserting data to EMP Table\n",
        "curr.executescript('insert into EMP values(1,\"Name1\",6000,50.0,101);\\\n",
        "                    insert into EMP values(2,\"Name2\",6000,NULL,101);\\\n",
        "                    insert into EMP values(3,\"Name3\",6000,56.0,101);\\\n",
        "                    insert into EMP values(4,\"Name4\",6000,80.2,101);\\\n",
        "                    insert into EMP values(5,\"Name5\",6000,83.0,201);')"
      ],
      "metadata": {
        "colab": {
          "base_uri": "https://localhost:8080/"
        },
        "id": "1Yi5thewxUS6",
        "outputId": "e120fb3f-0fb1-413f-e334-09d6637f4492"
      },
      "execution_count": null,
      "outputs": [
        {
          "output_type": "execute_result",
          "data": {
            "text/plain": [
              "<sqlite3.Cursor at 0x7f1df9b38340>"
            ]
          },
          "metadata": {},
          "execution_count": 5
        }
      ]
    },
    {
      "cell_type": "code",
      "source": [
        "import sqlite3\n",
        "conn1=sqlite3.connect('DataAnalytics.db')\n",
        "curr1=conn.cursor()\n",
        "curr1.execute('drop table EMP')\n",
        "print('Table Dropped!')\n",
        "conn1.close()"
      ],
      "metadata": {
        "colab": {
          "base_uri": "https://localhost:8080/"
        },
        "id": "AFGpzJ-n2Kgg",
        "outputId": "3840a138-f3e7-4165-93e8-fa776511c810"
      },
      "execution_count": null,
      "outputs": [
        {
          "output_type": "stream",
          "name": "stdout",
          "text": [
            "Table Dropped!\n"
          ]
        }
      ]
    },
    {
      "cell_type": "code",
      "source": [
        "curr.execute('select * from EMP')\n",
        "print(curr.fetchall())"
      ],
      "metadata": {
        "colab": {
          "base_uri": "https://localhost:8080/"
        },
        "id": "e_cDmiLf1vYz",
        "outputId": "d90f7104-524e-4b4b-aaa7-4623d72427cc"
      },
      "execution_count": null,
      "outputs": [
        {
          "output_type": "stream",
          "name": "stdout",
          "text": [
            "[(1, 'Name1', 6000, 50.0, 101), (3, 'Name3', 6000, 56.0, 101), (4, 'Name4', 6000, 80.2, 101), (5, 'Name5', 6000, 83.0, 201)]\n"
          ]
        }
      ]
    },
    {
      "cell_type": "code",
      "source": [
        "#2) Write a python code to Delete all records from the Emp table where commission is null and dept id is not D1 or D2 or D3.\n",
        "#curr.execute('delete from EMP where (commission=NULL) and (deptId!=D1 OR deptId!=D2 OR deptId!=D3)')\n",
        "curr.execute('delete from EMP where Commission is NULL AND DeptId!=201')"
      ],
      "metadata": {
        "colab": {
          "base_uri": "https://localhost:8080/"
        },
        "id": "awUvn0E1P8tL",
        "outputId": "fb683326-ce65-42f6-fb4d-67349aa4c3e6"
      },
      "execution_count": null,
      "outputs": [
        {
          "output_type": "execute_result",
          "data": {
            "text/plain": [
              "<sqlite3.Cursor at 0x7f1df9b38340>"
            ]
          },
          "metadata": {},
          "execution_count": 8
        }
      ]
    },
    {
      "cell_type": "code",
      "source": [
        "#3) Find the average salary of each department and also count the number of employees in each department. \n",
        "#Next, insert it into a table department, having attributes dept id, number-of-employees, and avg salary. \n",
        "#Do not insert any record into the table where avg salary &lt; 12000.\n",
        "\n",
        "curr.execute('create table department(deptId int, numberOfEmployees int, avgSalary float)')\n",
        "curr.execute('insert into department(deptId)')"
      ],
      "metadata": {
        "id": "xXWAxCOpVYO9"
      },
      "execution_count": null,
      "outputs": []
    }
  ]
}
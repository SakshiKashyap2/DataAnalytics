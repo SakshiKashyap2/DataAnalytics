{
  "nbformat": 4,
  "nbformat_minor": 0,
  "metadata": {
    "colab": {
      "provenance": [],
      "authorship_tag": "ABX9TyOnhIlUOhvtv7+FZtVV0Wd3",
      "include_colab_link": true
    },
    "kernelspec": {
      "name": "python3",
      "display_name": "Python 3"
    },
    "language_info": {
      "name": "python"
    }
  },
  "cells": [
    {
      "cell_type": "markdown",
      "metadata": {
        "id": "view-in-github",
        "colab_type": "text"
      },
      "source": [
        "<a href=\"https://colab.research.google.com/github/HarshrajSharma/DataAnalytics/blob/main/DataAnalyticsDay8.ipynb\" target=\"_parent\"><img src=\"https://colab.research.google.com/assets/colab-badge.svg\" alt=\"Open In Colab\"/></a>"
      ]
    },
    {
      "cell_type": "markdown",
      "source": [
        "### **Panda Library**"
      ],
      "metadata": {
        "id": "vsTGrbzWZnUD"
      }
    },
    {
      "cell_type": "code",
      "execution_count": null,
      "metadata": {
        "colab": {
          "base_uri": "https://localhost:8080/",
          "height": 271
        },
        "id": "1Y-TJx2ZOrdD",
        "outputId": "392c1656-5c8c-418d-bf82-85c852e59616"
      },
      "outputs": [
        {
          "output_type": "stream",
          "name": "stdout",
          "text": [
            "   calories  duration\n",
            "0       420        70\n",
            "1       380        50\n",
            "2       390        60\n",
            "   calories  duration\n",
            "0       420        70\n",
            "1       380        50\n",
            "2       390        60\n"
          ]
        },
        {
          "output_type": "execute_result",
          "data": {
            "text/plain": [
              "      Year\n",
              "Year   1.0"
            ],
            "text/html": [
              "\n",
              "  <div id=\"df-27004c34-ddc6-4309-a8b1-7c76e7cfa80a\">\n",
              "    <div class=\"colab-df-container\">\n",
              "      <div>\n",
              "<style scoped>\n",
              "    .dataframe tbody tr th:only-of-type {\n",
              "        vertical-align: middle;\n",
              "    }\n",
              "\n",
              "    .dataframe tbody tr th {\n",
              "        vertical-align: top;\n",
              "    }\n",
              "\n",
              "    .dataframe thead th {\n",
              "        text-align: right;\n",
              "    }\n",
              "</style>\n",
              "<table border=\"1\" class=\"dataframe\">\n",
              "  <thead>\n",
              "    <tr style=\"text-align: right;\">\n",
              "      <th></th>\n",
              "      <th>Year</th>\n",
              "    </tr>\n",
              "  </thead>\n",
              "  <tbody>\n",
              "    <tr>\n",
              "      <th>Year</th>\n",
              "      <td>1.0</td>\n",
              "    </tr>\n",
              "  </tbody>\n",
              "</table>\n",
              "</div>\n",
              "      <button class=\"colab-df-convert\" onclick=\"convertToInteractive('df-27004c34-ddc6-4309-a8b1-7c76e7cfa80a')\"\n",
              "              title=\"Convert this dataframe to an interactive table.\"\n",
              "              style=\"display:none;\">\n",
              "        \n",
              "  <svg xmlns=\"http://www.w3.org/2000/svg\" height=\"24px\"viewBox=\"0 0 24 24\"\n",
              "       width=\"24px\">\n",
              "    <path d=\"M0 0h24v24H0V0z\" fill=\"none\"/>\n",
              "    <path d=\"M18.56 5.44l.94 2.06.94-2.06 2.06-.94-2.06-.94-.94-2.06-.94 2.06-2.06.94zm-11 1L8.5 8.5l.94-2.06 2.06-.94-2.06-.94L8.5 2.5l-.94 2.06-2.06.94zm10 10l.94 2.06.94-2.06 2.06-.94-2.06-.94-.94-2.06-.94 2.06-2.06.94z\"/><path d=\"M17.41 7.96l-1.37-1.37c-.4-.4-.92-.59-1.43-.59-.52 0-1.04.2-1.43.59L10.3 9.45l-7.72 7.72c-.78.78-.78 2.05 0 2.83L4 21.41c.39.39.9.59 1.41.59.51 0 1.02-.2 1.41-.59l7.78-7.78 2.81-2.81c.8-.78.8-2.07 0-2.86zM5.41 20L4 18.59l7.72-7.72 1.47 1.35L5.41 20z\"/>\n",
              "  </svg>\n",
              "      </button>\n",
              "      \n",
              "  <style>\n",
              "    .colab-df-container {\n",
              "      display:flex;\n",
              "      flex-wrap:wrap;\n",
              "      gap: 12px;\n",
              "    }\n",
              "\n",
              "    .colab-df-convert {\n",
              "      background-color: #E8F0FE;\n",
              "      border: none;\n",
              "      border-radius: 50%;\n",
              "      cursor: pointer;\n",
              "      display: none;\n",
              "      fill: #1967D2;\n",
              "      height: 32px;\n",
              "      padding: 0 0 0 0;\n",
              "      width: 32px;\n",
              "    }\n",
              "\n",
              "    .colab-df-convert:hover {\n",
              "      background-color: #E2EBFA;\n",
              "      box-shadow: 0px 1px 2px rgba(60, 64, 67, 0.3), 0px 1px 3px 1px rgba(60, 64, 67, 0.15);\n",
              "      fill: #174EA6;\n",
              "    }\n",
              "\n",
              "    [theme=dark] .colab-df-convert {\n",
              "      background-color: #3B4455;\n",
              "      fill: #D2E3FC;\n",
              "    }\n",
              "\n",
              "    [theme=dark] .colab-df-convert:hover {\n",
              "      background-color: #434B5C;\n",
              "      box-shadow: 0px 1px 3px 1px rgba(0, 0, 0, 0.15);\n",
              "      filter: drop-shadow(0px 1px 2px rgba(0, 0, 0, 0.3));\n",
              "      fill: #FFFFFF;\n",
              "    }\n",
              "  </style>\n",
              "\n",
              "      <script>\n",
              "        const buttonEl =\n",
              "          document.querySelector('#df-27004c34-ddc6-4309-a8b1-7c76e7cfa80a button.colab-df-convert');\n",
              "        buttonEl.style.display =\n",
              "          google.colab.kernel.accessAllowed ? 'block' : 'none';\n",
              "\n",
              "        async function convertToInteractive(key) {\n",
              "          const element = document.querySelector('#df-27004c34-ddc6-4309-a8b1-7c76e7cfa80a');\n",
              "          const dataTable =\n",
              "            await google.colab.kernel.invokeFunction('convertToInteractive',\n",
              "                                                     [key], {});\n",
              "          if (!dataTable) return;\n",
              "\n",
              "          const docLinkHtml = 'Like what you see? Visit the ' +\n",
              "            '<a target=\"_blank\" href=https://colab.research.google.com/notebooks/data_table.ipynb>data table notebook</a>'\n",
              "            + ' to learn more about interactive tables.';\n",
              "          element.innerHTML = '';\n",
              "          dataTable['output_type'] = 'display_data';\n",
              "          await google.colab.output.renderOutput(dataTable, element);\n",
              "          const docLink = document.createElement('div');\n",
              "          docLink.innerHTML = docLinkHtml;\n",
              "          element.appendChild(docLink);\n",
              "        }\n",
              "      </script>\n",
              "    </div>\n",
              "  </div>\n",
              "  "
            ]
          },
          "metadata": {},
          "execution_count": 45
        }
      ],
      "source": [
        "import pandas as pd\n",
        "data={'calories':[420, 380, 390],\n",
        "      'duration':[70, 50, 60]\n",
        "      }\n",
        "myvar=pd.DataFrame(data)\n",
        "print(myvar)\n",
        "print(myvar.loc[0:2])"
      ]
    },
    {
      "cell_type": "code",
      "source": [
        "data={'startCoordinate':[200, 380, 590],\n",
        "      'endCoordinate':[300, 500, 760]\n",
        "      }\n",
        "myvar=pd.DataFrame(data, index=['sample1', 'sample2', 'sample3'])\n",
        "print(myvar)\n",
        "print('End co-ordinate of sample1:', myvar.loc[\"sample1\", \"startCoordinate\"])\n",
        "print('End co-ordinate of sample2:', myvar.loc[\"sample2\", \"startCoordinate\"])\n",
        "print('End co-ordinate of sample3:', myvar.loc[\"sample3\", \"startCoordinate\"])\n"
      ],
      "metadata": {
        "colab": {
          "base_uri": "https://localhost:8080/"
        },
        "id": "zWoRcPNmcnRd",
        "outputId": "655b5d19-de47-46f9-ddbe-766f2b432912"
      },
      "execution_count": null,
      "outputs": [
        {
          "output_type": "stream",
          "name": "stdout",
          "text": [
            "         startCoordinate  endCoordinate\n",
            "sample1              200            300\n",
            "sample2              380            500\n",
            "sample3              590            760\n",
            "End co-ordinate of sample1: 200\n",
            "End co-ordinate of sample2: 380\n",
            "End co-ordinate of sample3: 590\n"
          ]
        }
      ]
    },
    {
      "cell_type": "code",
      "source": [
        "from pandas.io.parsers.readers import read_csv\n",
        "df=pd.read_csv('data.csv')\n",
        "#print(df.to_string())\n",
        "#print(pd.options.display.max_rows)\n",
        "pd.options.display.max_rows=9999\n",
        "de=pd.read_csv('data.csv')\n",
        "#print(de)\n",
        "df.head(10)\n",
        "df.tail(10)\n",
        "#print(df.info()) #Finds the data types in the csv file\n",
        "\n",
        "\n"
      ],
      "metadata": {
        "id": "TDcbI6IReFjU"
      },
      "execution_count": null,
      "outputs": []
    },
    {
      "cell_type": "code",
      "source": [
        "import pandas as pd\n",
        "data={'calories':[420, 380, 390],\n",
        "      'duration':[70, 50, 60]\n",
        "      }\n",
        "myvar=pd.DataFrame(data)\n",
        "print(myvar)\n",
        "print(myvar.loc[0:2])\n",
        "\n",
        "\n",
        "\n",
        "df.corr() #Finds the co-relation between numeric rows\n",
        "print(df.dupicated())  #This will give the duplicate tuples\n",
        "df.drop_duplicates(inplace=True)  #This will drop the duplicates\n",
        "\n",
        "\n",
        "#Question: Find the maximum value of a nimeric column and also print its tuple\n",
        "\n",
        "z=df['calories'].max()\n",
        "print(z)\n",
        "for i in df.index:\n",
        "  if df.loc[i, 'calories']==z:\n",
        "    print(df.loc[i])"
      ],
      "metadata": {
        "id": "qTs1liw5jJzR"
      },
      "execution_count": null,
      "outputs": []
    },
    {
      "cell_type": "code",
      "source": [
        "#Removing NULL\n",
        "df=pd.read_csv('data.csv')\n",
        "d=len(df.index)\n",
        "print(d)\n",
        "df['calories'].fillna(130, inplace=True)  #fillna will fill the NULL places with something\n",
        "df['hiredate']=pd.to_datetime(df['hiredate'])\n",
        "#newdf=df.dropna()  #dropna will drop the NULL value\n",
        "\n",
        "df.loc[7, 'calories']=45 #replacing the specific cell value\n",
        "\n",
        "\n"
      ],
      "metadata": {
        "id": "0gUDgFBblPpD"
      },
      "execution_count": null,
      "outputs": []
    },
    {
      "cell_type": "code",
      "source": [
        "#Find out in a column whether the value is greater than 120 or not. \n",
        "#If the values is greater than 120 then replace it with mean of that column\n",
        "\n",
        "z=df['calories'].mean()\n",
        "\n",
        "for i in df.index:\n",
        "  if df.loc[i, 'calories']>120:\n",
        "    df.loc[i, 'calories']=z\n"
      ],
      "metadata": {
        "id": "ZV9aG8-MqfI6"
      },
      "execution_count": null,
      "outputs": []
    },
    {
      "cell_type": "code",
      "source": [
        "#Plotting the csv file\n",
        "import matplotlib.pyplot as plt\n",
        "\n",
        "\n",
        "\n",
        "df.plot(kind='scatter', x='Calories', y='Duration')\n",
        "df['calorie'].plot(kind='hist') #Print the histogram for a particular column"
      ],
      "metadata": {
        "id": "YhEscVgXu2Lt"
      },
      "execution_count": null,
      "outputs": []
    }
  ]
}